{
 "cells": [
  {
   "cell_type": "markdown",
   "metadata": {},
   "source": [
    "# Health Insurance Cross Sell Prediction\n",
    "Predict which of last year's health insurance customers would be interested in purchasing auto insurance to streamline the marketing and communications process."
   ]
  },
  {
   "cell_type": "markdown",
   "metadata": {},
   "source": [
    "## Import Packages"
   ]
  },
  {
   "cell_type": "code",
   "execution_count": 110,
   "metadata": {},
   "outputs": [],
   "source": [
    "# opening zipped data to load\n",
    "from zipfile import ZipFile\n",
    "\n",
    "# data manipulation and visualization\n",
    "import pandas as pd\n",
    "import numpy as np\n",
    "import matplotlib.pyplot as plt\n",
    "import seaborn as sns\n",
    "\n",
    "# train test split\n",
    "from sklearn.model_selection import train_test_split\n",
    "\n",
    "# preprocessing & pipelines\n",
    "from sklearn.preprocessing import OneHotEncoder\n",
    "from sklearn.preprocessing import StandardScaler\n",
    "from sklearn.impute import SimpleImputer\n",
    "from imblearn.over_sampling import SMOTE\n",
    "from imblearn.under_sampling import RandomUnderSampler\n",
    "from imblearn.pipeline import Pipeline\n",
    "\n",
    "# cross-validation\n",
    "from sklearn.model_selection import cross_val_score, GridSearchCV\n",
    "\n",
    "# modeling\n",
    "from sklearn.tree import DecisionTreeClassifier\n",
    "from sklearn.linear_model import LogisticRegression\n",
    "from sklearn.ensemble import RandomForestClassifier\n",
    "from xgboost import XGBClassifier, plot_importance\n",
    "\n",
    "# classification metrics\n",
    "from sklearn.metrics import (accuracy_score, recall_score,\n",
    "                             precision_score, f1_score,\n",
    "                             classification_report, confusion_matrix,\n",
    "                             ConfusionMatrixDisplay, plot_roc_curve,\n",
    "                             roc_auc_score, roc_curve)"
   ]
  },
  {
   "cell_type": "markdown",
   "metadata": {},
   "source": [
    "## Load Data"
   ]
  },
  {
   "cell_type": "code",
   "execution_count": 2,
   "metadata": {},
   "outputs": [
    {
     "name": "stdout",
     "output_type": "stream",
     "text": [
      "['sample_submission.csv', 'test.csv', 'train.csv']\n"
     ]
    }
   ],
   "source": [
    "# what are the names of the files in the zipped archive with data\n",
    "with ZipFile('data/archive.zip') as zipObject:\n",
    "    print(zipObject.namelist())"
   ]
  },
  {
   "cell_type": "code",
   "execution_count": 2,
   "metadata": {},
   "outputs": [
    {
     "data": {
      "text/html": [
       "<div>\n",
       "<style scoped>\n",
       "    .dataframe tbody tr th:only-of-type {\n",
       "        vertical-align: middle;\n",
       "    }\n",
       "\n",
       "    .dataframe tbody tr th {\n",
       "        vertical-align: top;\n",
       "    }\n",
       "\n",
       "    .dataframe thead th {\n",
       "        text-align: right;\n",
       "    }\n",
       "</style>\n",
       "<table border=\"1\" class=\"dataframe\">\n",
       "  <thead>\n",
       "    <tr style=\"text-align: right;\">\n",
       "      <th></th>\n",
       "      <th>Gender</th>\n",
       "      <th>Age</th>\n",
       "      <th>Driving_License</th>\n",
       "      <th>Region_Code</th>\n",
       "      <th>Previously_Insured</th>\n",
       "      <th>Vehicle_Age</th>\n",
       "      <th>Vehicle_Damage</th>\n",
       "      <th>Annual_Premium</th>\n",
       "      <th>Policy_Sales_Channel</th>\n",
       "      <th>Vintage</th>\n",
       "      <th>Response</th>\n",
       "    </tr>\n",
       "    <tr>\n",
       "      <th>id</th>\n",
       "      <th></th>\n",
       "      <th></th>\n",
       "      <th></th>\n",
       "      <th></th>\n",
       "      <th></th>\n",
       "      <th></th>\n",
       "      <th></th>\n",
       "      <th></th>\n",
       "      <th></th>\n",
       "      <th></th>\n",
       "      <th></th>\n",
       "    </tr>\n",
       "  </thead>\n",
       "  <tbody>\n",
       "    <tr>\n",
       "      <th>1</th>\n",
       "      <td>Male</td>\n",
       "      <td>44</td>\n",
       "      <td>1</td>\n",
       "      <td>28.0</td>\n",
       "      <td>0</td>\n",
       "      <td>&gt; 2 Years</td>\n",
       "      <td>Yes</td>\n",
       "      <td>40454.0</td>\n",
       "      <td>26.0</td>\n",
       "      <td>217</td>\n",
       "      <td>1</td>\n",
       "    </tr>\n",
       "    <tr>\n",
       "      <th>2</th>\n",
       "      <td>Male</td>\n",
       "      <td>76</td>\n",
       "      <td>1</td>\n",
       "      <td>3.0</td>\n",
       "      <td>0</td>\n",
       "      <td>1-2 Year</td>\n",
       "      <td>No</td>\n",
       "      <td>33536.0</td>\n",
       "      <td>26.0</td>\n",
       "      <td>183</td>\n",
       "      <td>0</td>\n",
       "    </tr>\n",
       "    <tr>\n",
       "      <th>3</th>\n",
       "      <td>Male</td>\n",
       "      <td>47</td>\n",
       "      <td>1</td>\n",
       "      <td>28.0</td>\n",
       "      <td>0</td>\n",
       "      <td>&gt; 2 Years</td>\n",
       "      <td>Yes</td>\n",
       "      <td>38294.0</td>\n",
       "      <td>26.0</td>\n",
       "      <td>27</td>\n",
       "      <td>1</td>\n",
       "    </tr>\n",
       "    <tr>\n",
       "      <th>4</th>\n",
       "      <td>Male</td>\n",
       "      <td>21</td>\n",
       "      <td>1</td>\n",
       "      <td>11.0</td>\n",
       "      <td>1</td>\n",
       "      <td>&lt; 1 Year</td>\n",
       "      <td>No</td>\n",
       "      <td>28619.0</td>\n",
       "      <td>152.0</td>\n",
       "      <td>203</td>\n",
       "      <td>0</td>\n",
       "    </tr>\n",
       "    <tr>\n",
       "      <th>5</th>\n",
       "      <td>Female</td>\n",
       "      <td>29</td>\n",
       "      <td>1</td>\n",
       "      <td>41.0</td>\n",
       "      <td>1</td>\n",
       "      <td>&lt; 1 Year</td>\n",
       "      <td>No</td>\n",
       "      <td>27496.0</td>\n",
       "      <td>152.0</td>\n",
       "      <td>39</td>\n",
       "      <td>0</td>\n",
       "    </tr>\n",
       "  </tbody>\n",
       "</table>\n",
       "</div>"
      ],
      "text/plain": [
       "    Gender  Age  Driving_License  Region_Code  Previously_Insured Vehicle_Age  \\\n",
       "id                                                                              \n",
       "1     Male   44                1         28.0                   0   > 2 Years   \n",
       "2     Male   76                1          3.0                   0    1-2 Year   \n",
       "3     Male   47                1         28.0                   0   > 2 Years   \n",
       "4     Male   21                1         11.0                   1    < 1 Year   \n",
       "5   Female   29                1         41.0                   1    < 1 Year   \n",
       "\n",
       "   Vehicle_Damage  Annual_Premium  Policy_Sales_Channel  Vintage  Response  \n",
       "id                                                                          \n",
       "1             Yes         40454.0                  26.0      217         1  \n",
       "2              No         33536.0                  26.0      183         0  \n",
       "3             Yes         38294.0                  26.0       27         1  \n",
       "4              No         28619.0                 152.0      203         0  \n",
       "5              No         27496.0                 152.0       39         0  "
      ]
     },
     "execution_count": 2,
     "metadata": {},
     "output_type": "execute_result"
    }
   ],
   "source": [
    "# load training data as pandas dataframe\n",
    "with ZipFile('data/archive.zip') as zipArchive:\n",
    "        with zipArchive.open('train.csv') as file:\n",
    "            data = pd.read_csv(file, index_col = 0)\n",
    "            \n",
    "# inspect first 5 rows\n",
    "data.head()"
   ]
  },
  {
   "cell_type": "markdown",
   "metadata": {},
   "source": [
    "## Initial EDA"
   ]
  },
  {
   "cell_type": "markdown",
   "metadata": {},
   "source": [
    "In this section, I am primarily performing exploratory data analysis *for the purpose of modeling*.\n",
    "\n",
    "I am checking the distribution of my target, and looking for any features which appear to be strongly correlated with the target."
   ]
  },
  {
   "cell_type": "markdown",
   "metadata": {},
   "source": [
    "### Distribution of Target"
   ]
  },
  {
   "cell_type": "code",
   "execution_count": 6,
   "metadata": {},
   "outputs": [
    {
     "data": {
      "text/plain": [
       "0    0.877437\n",
       "1    0.122563\n",
       "Name: Response, dtype: float64"
      ]
     },
     "execution_count": 6,
     "metadata": {},
     "output_type": "execute_result"
    }
   ],
   "source": [
    "# distribution of target\n",
    "data.Response.value_counts(normalize = True)"
   ]
  },
  {
   "cell_type": "markdown",
   "metadata": {},
   "source": [
    "**Distribution of Target** &nbsp;&nbsp;&nbsp;&nbsp; This is an unbalanced dataset, with only about 12% of records corresponding to customers who were interested in the cross-sell."
   ]
  },
  {
   "cell_type": "markdown",
   "metadata": {},
   "source": [
    "### Correlation between Features and Target"
   ]
  },
  {
   "cell_type": "markdown",
   "metadata": {},
   "source": [
    "#### Gender"
   ]
  },
  {
   "cell_type": "code",
   "execution_count": 7,
   "metadata": {},
   "outputs": [
    {
     "name": "stdout",
     "output_type": "stream",
     "text": [
      "Male:\n",
      "\n",
      "0    0.861589\n",
      "1    0.138411\n",
      "Name: Response, dtype: float64\n",
      "\n",
      "\n",
      "Female:\n",
      "\n",
      "0    0.896098\n",
      "1    0.103902\n",
      "Name: Response, dtype: float64\n"
     ]
    }
   ],
   "source": [
    "# inspect proportion of yes / no responses by gender\n",
    "print('Male:\\n')\n",
    "print(data.loc[data.Gender == 'Male', 'Response'].value_counts(\n",
    "    normalize=True))\n",
    "print('\\n')\n",
    "print('Female:\\n')\n",
    "print(data.loc[data.Gender == 'Female', 'Response'].value_counts(\n",
    "    normalize=True))"
   ]
  },
  {
   "cell_type": "markdown",
   "metadata": {},
   "source": [
    "There is not a huge difference between the percentage of men who bought vehicle insurance and the percentage of women who did so, though perhaps men are slightly more likely to purchase the insurance <mark>(- is this a statistically significant difference? use chi square test to check.)</mark>"
   ]
  },
  {
   "cell_type": "markdown",
   "metadata": {},
   "source": [
    "#### Age"
   ]
  },
  {
   "cell_type": "code",
   "execution_count": 10,
   "metadata": {},
   "outputs": [
    {
     "data": {
      "image/png": "[encoded data removed]",
      "text/plain": [
       "<Figure size 432x288 with 1 Axes>"
      ]
     },
     "metadata": {
      "needs_background": "light"
     },
     "output_type": "display_data"
    }
   ],
   "source": [
    "# inspect distribution of age by response category\n",
    "sns.boxplot(data = data, x = 'Response', y = 'Age');"
   ]
  },
  {
   "cell_type": "markdown",
   "metadata": {},
   "source": [
    "Perhaps our younger customers (35 and below) are not as likely to want to purchase vehicle insurance?\n",
    "\n",
    "50% of respondents who bought vehicle insurance were between the ages of 35 and 50, and only 25% were younger than 35."
   ]
  },
  {
   "cell_type": "markdown",
   "metadata": {},
   "source": [
    "#### Driver's License"
   ]
  },
  {
   "cell_type": "code",
   "execution_count": 23,
   "metadata": {},
   "outputs": [
    {
     "name": "stdout",
     "output_type": "stream",
     "text": [
      "Responses for Customers without a Driver's License:\n"
     ]
    },
    {
     "data": {
      "text/plain": [
       "0    0.949507\n",
       "1    0.050493\n",
       "Name: Response, dtype: float64"
      ]
     },
     "execution_count": 23,
     "metadata": {},
     "output_type": "execute_result"
    }
   ],
   "source": [
    "# did anyone without a driver's license get vehicle ins?\n",
    "print('Responses for Customers without a Driver\\'s License:')\n",
    "data.loc[data.Driving_License==0,'Response'].value_counts(normalize=True)"
   ]
  },
  {
   "cell_type": "markdown",
   "metadata": {},
   "source": [
    "5% of customers who did not have a driver's license still bought vehicle insurance! But the other 95% did not."
   ]
  },
  {
   "cell_type": "markdown",
   "metadata": {},
   "source": [
    "#### Region"
   ]
  },
  {
   "cell_type": "code",
   "execution_count": 56,
   "metadata": {},
   "outputs": [
    {
     "name": "stdout",
     "output_type": "stream",
     "text": [
      "Percentage of Affirmative Responses by Region:\n"
     ]
    },
    {
     "data": {
      "text/plain": [
       "Region_Code\n",
       "28.0    0.426\n",
       "8.0     0.070\n",
       "41.0    0.048\n",
       "46.0    0.044\n",
       "29.0    0.029\n",
       "3.0     0.025\n",
       "11.0    0.022\n",
       "15.0    0.021\n",
       "30.0    0.019\n",
       "35.0    0.019\n",
       "33.0    0.016\n",
       "18.0    0.015\n",
       "36.0    0.015\n",
       "47.0    0.014\n",
       "50.0    0.014\n",
       "45.0    0.013\n",
       "39.0    0.012\n",
       "48.0    0.010\n",
       "7.0     0.009\n",
       "14.0    0.009\n",
       "6.0     0.009\n",
       "37.0    0.009\n",
       "38.0    0.008\n",
       "13.0    0.008\n",
       "24.0    0.007\n",
       "12.0    0.007\n",
       "4.0     0.006\n",
       "10.0    0.006\n",
       "2.0     0.006\n",
       "23.0    0.006\n",
       "21.0    0.006\n",
       "19.0    0.005\n",
       "32.0    0.005\n",
       "20.0    0.005\n",
       "43.0    0.005\n",
       "9.0     0.005\n",
       "26.0    0.004\n",
       "0.0     0.004\n",
       "17.0    0.004\n",
       "27.0    0.004\n",
       "31.0    0.004\n",
       "16.0    0.003\n",
       "34.0    0.003\n",
       "40.0    0.003\n",
       "5.0     0.003\n",
       "49.0    0.003\n",
       "22.0    0.002\n",
       "25.0    0.002\n",
       "1.0     0.002\n",
       "51.0    0.001\n",
       "42.0    0.001\n",
       "44.0    0.001\n",
       "52.0    0.001\n",
       "Name: Response, dtype: float64"
      ]
     },
     "execution_count": 56,
     "metadata": {},
     "output_type": "execute_result"
    }
   ],
   "source": [
    "# of all vehicle insurance sales, what percentage went to each region?\n",
    "by_region=data.groupby('Region_Code').sum()['Response']/sum(data.Response)\n",
    "\n",
    "print('Percentage of Affirmative Responses by Region:')\n",
    "by_region.map(lambda x: round(x, 3)).sort_values(ascending=False)"
   ]
  },
  {
   "cell_type": "markdown",
   "metadata": {},
   "source": [
    "Region 28 had 42% of all vehicle insurance sales in this dataset. Is this a particularly large region? Is there some other reason that such a high percentage of sales would happen here?"
   ]
  },
  {
   "cell_type": "code",
   "execution_count": 41,
   "metadata": {},
   "outputs": [
    {
     "data": {
      "text/plain": [
       "106415"
      ]
     },
     "execution_count": 41,
     "metadata": {},
     "output_type": "execute_result"
    }
   ],
   "source": [
    "# is region 28 just big?\n",
    "len(data.loc[ data.Region_Code == 28, 'Response' ])"
   ]
  },
  {
   "cell_type": "markdown",
   "metadata": {},
   "source": [
    "Region 28 has 106,415 customers associated with it in this dataset. I need a way to compare this with other regions."
   ]
  },
  {
   "cell_type": "code",
   "execution_count": 46,
   "metadata": {},
   "outputs": [
    {
     "data": {
      "text/plain": [
       "Region_Code\n",
       "28.0    106415\n",
       "8.0      33877\n",
       "46.0     19749\n",
       "41.0     18263\n",
       "15.0     13308\n",
       "30.0     12191\n",
       "29.0     11065\n",
       "50.0     10243\n",
       "3.0       9251\n",
       "11.0      9232\n",
       "36.0      8797\n",
       "33.0      7654\n",
       "47.0      7436\n",
       "35.0      6942\n",
       "6.0       6280\n",
       "45.0      5605\n",
       "37.0      5501\n",
       "18.0      5153\n",
       "48.0      4681\n",
       "14.0      4678\n",
       "39.0      4644\n",
       "10.0      4374\n",
       "21.0      4266\n",
       "2.0       4038\n",
       "13.0      4036\n",
       "7.0       3279\n",
       "12.0      3198\n",
       "9.0       3101\n",
       "27.0      2823\n",
       "32.0      2787\n",
       "43.0      2639\n",
       "17.0      2617\n",
       "26.0      2587\n",
       "25.0      2503\n",
       "24.0      2415\n",
       "38.0      2026\n",
       "0.0       2021\n",
       "16.0      2007\n",
       "23.0      1960\n",
       "31.0      1960\n",
       "20.0      1935\n",
       "49.0      1832\n",
       "4.0       1801\n",
       "34.0      1664\n",
       "19.0      1535\n",
       "22.0      1309\n",
       "40.0      1295\n",
       "5.0       1279\n",
       "1.0       1008\n",
       "44.0       808\n",
       "42.0       591\n",
       "52.0       267\n",
       "51.0       183\n",
       "Name: Response, dtype: int64"
      ]
     },
     "execution_count": 46,
     "metadata": {},
     "output_type": "execute_result"
    }
   ],
   "source": [
    "data.groupby('Region_Code').count()['Response'].\\\n",
    "sort_values(ascending=False)"
   ]
  },
  {
   "cell_type": "markdown",
   "metadata": {},
   "source": [
    "Region 28 is just big, not necessarily getting a higher percentage of vehicle insurance sales. This suggests that my initial way of analyzing the data is flawed.\n",
    "\n",
    "Let's try to find, instead, the percentage of vehicle insurance sales by region out of all customers in that region."
   ]
  },
  {
   "cell_type": "code",
   "execution_count": 52,
   "metadata": {},
   "outputs": [
    {
     "data": {
      "text/plain": [
       "Region_Code\n",
       "38.0    0.192004\n",
       "28.0    0.187163\n",
       "19.0    0.162866\n",
       "4.0     0.158245\n",
       "23.0    0.153061\n",
       "51.0    0.153005\n",
       "24.0    0.141615\n",
       "7.0     0.131747\n",
       "18.0    0.131574\n",
       "3.0     0.127662\n",
       "35.0    0.124604\n",
       "39.0    0.123600\n",
       "52.0    0.123596\n",
       "29.0    0.123362\n",
       "41.0    0.121776\n",
       "40.0    0.118147\n",
       "5.0     0.115715\n",
       "20.0    0.115245\n",
       "11.0    0.112760\n",
       "45.0    0.109723\n",
       "1.0     0.108135\n",
       "46.0    0.102891\n",
       "48.0    0.101901\n",
       "31.0    0.100510\n",
       "33.0    0.099294\n",
       "12.0    0.097561\n",
       "8.0     0.096142\n",
       "43.0    0.092459\n",
       "14.0    0.090209\n",
       "13.0    0.090188\n",
       "47.0    0.087682\n",
       "0.0     0.086096\n",
       "32.0    0.085755\n",
       "9.0     0.081587\n",
       "36.0    0.079914\n",
       "37.0    0.079258\n",
       "34.0    0.075721\n",
       "49.0    0.074782\n",
       "42.0    0.074450\n",
       "27.0    0.074035\n",
       "30.0    0.073825\n",
       "26.0    0.072284\n",
       "15.0    0.071987\n",
       "2.0     0.071075\n",
       "21.0    0.071027\n",
       "17.0    0.070310\n",
       "6.0     0.069904\n",
       "16.0    0.066766\n",
       "22.0    0.063407\n",
       "50.0    0.062677\n",
       "10.0    0.060128\n",
       "25.0    0.042749\n",
       "44.0    0.040842\n",
       "Name: Response, dtype: float64"
      ]
     },
     "execution_count": 52,
     "metadata": {},
     "output_type": "execute_result"
    }
   ],
   "source": [
    "# divide the number of 1s by the total number of records PER REGION\n",
    "\n",
    "region_percentage = data.loc[ data.Response == 1 ].groupby('Region_Code')\\\n",
    ".count()['Response'] / data.groupby('Region_Code').count()['Response']\n",
    "\n",
    "# sort in descending order\n",
    "\n",
    "region_percentage.sort_values(ascending = False)"
   ]
  },
  {
   "cell_type": "markdown",
   "metadata": {},
   "source": [
    "Ok, so some regions have a higher conversion rate for vehicle insurance, others don't. This could be a valuable feature in a predictive model, but it might simply be correlated with something else that is affecting sales (for example, policy sales channel - a certain agent or agents may be GREAT at selling, and works within a particular region, boosting the conversion rate for the region. But that doesn't mean that more customers in that region want to buy vehicle insurance, necessarily. So it's not really the region that is making the sale. I wonder if a decision tree or random forest would help parse out the true cause?)"
   ]
  },
  {
   "cell_type": "markdown",
   "metadata": {},
   "source": [
    "#### Previously Insured"
   ]
  },
  {
   "cell_type": "code",
   "execution_count": 26,
   "metadata": {},
   "outputs": [
    {
     "data": {
      "image/png": "[encoded data removed]",
      "text/plain": [
       "<Figure size 432x288 with 1 Axes>"
      ]
     },
     "metadata": {
      "needs_background": "light"
     },
     "output_type": "display_data"
    }
   ],
   "source": [
    "# how does already having vehicle insurance affect response rate?\n",
    "sns.countplot(data = data, x = 'Previously_Insured', hue = 'Response');"
   ]
  },
  {
   "cell_type": "code",
   "execution_count": 27,
   "metadata": {},
   "outputs": [
    {
     "data": {
      "text/plain": [
       "0    174470\n",
       "1       158\n",
       "Name: Response, dtype: int64"
      ]
     },
     "execution_count": 27,
     "metadata": {},
     "output_type": "execute_result"
    }
   ],
   "source": [
    "# virtually no one who already has vehicle ins went for the cross-sell\n",
    "data.loc[ data['Previously_Insured'] == 1 , 'Response'].value_counts()"
   ]
  },
  {
   "cell_type": "markdown",
   "metadata": {},
   "source": [
    "So 158 people who already had vehicle insurance *did* purchase vehicle insurance from us as well, but this is a miniscule percentage compared to the percentage of people who didn't already have vehicle insurance who bought it from us."
   ]
  },
  {
   "cell_type": "markdown",
   "metadata": {},
   "source": [
    "**Below**\n",
    "<mark> In revisiting the visualizations below for vehicle damage and vehicle age, I think what we really need are numbers to support any conclusions from these visualizations. E.g., I need to know what percentage of customers with vehicle damage opted in for vehicle insurance, and I need to know the percentage of customers without damage who opted in. Knowing the raw numbers exactly could be helpful, too.</mark>"
   ]
  },
  {
   "cell_type": "markdown",
   "metadata": {},
   "source": [
    "#### Vehicle Damage"
   ]
  },
  {
   "cell_type": "code",
   "execution_count": 30,
   "metadata": {},
   "outputs": [
    {
     "data": {
      "image/png": "[encoded data removed]",
      "text/plain": [
       "<Figure size 432x288 with 1 Axes>"
      ]
     },
     "metadata": {
      "needs_background": "light"
     },
     "output_type": "display_data"
    }
   ],
   "source": [
    "# how does vehicle damage (or lack thereof) affect response rate?\n",
    "sns.countplot(data = data, x = 'Vehicle_Damage', hue = 'Response');"
   ]
  },
  {
   "cell_type": "markdown",
   "metadata": {},
   "source": [
    "A higher percentage of people who have sustained vehicle damage agreed to purchase vehicle insurance. <mark>*This is an ambiguous statement. Re-word.*</mark>"
   ]
  },
  {
   "cell_type": "markdown",
   "metadata": {},
   "source": [
    "#### Vehicle Age"
   ]
  },
  {
   "cell_type": "code",
   "execution_count": 32,
   "metadata": {},
   "outputs": [
    {
     "data": {
      "image/png": "[encoded data removed]",
      "text/plain": [
       "<Figure size 432x288 with 1 Axes>"
      ]
     },
     "metadata": {
      "needs_background": "light"
     },
     "output_type": "display_data"
    }
   ],
   "source": [
    "# Is there a correlation b/w vehicle age & response rate?\n",
    "sns.countplot(data = data, x = 'Vehicle_Age', hue = 'Response',\n",
    "             order = ['< 1 Year', '1-2 Year', '> 2 Years']);\n",
    "# it was confusing me a little when the x-axis wasn't \"in order\" by length\n",
    "# of time, hence the argument above to the order parameter"
   ]
  },
  {
   "cell_type": "markdown",
   "metadata": {},
   "source": [
    "In terms of percentages, the probability is highest that someone with a vehicle more than 2 years old will opt in to vehicle insurance. But in terms of raw numbers, customers with cars between 1 and 2 years of age are buying the most vehicle insurance. <mark>All of these statements are coming out ambiguous. I will need to clarify my thinking and rewrite these viz summaries.</mark>"
   ]
  },
  {
   "cell_type": "markdown",
   "metadata": {},
   "source": [
    "#### Vintage"
   ]
  },
  {
   "cell_type": "markdown",
   "metadata": {},
   "source": [
    "So this deserves some explanation. 'Vintage' refers to *how many days the customer has been with the company*. It has nothing to do with whether or not their car is vintage. 😀"
   ]
  },
  {
   "cell_type": "code",
   "execution_count": 36,
   "metadata": {},
   "outputs": [
    {
     "data": {
      "image/png": "[encoded data removed]",
      "text/plain": [
       "<Figure size 432x288 with 1 Axes>"
      ]
     },
     "metadata": {
      "needs_background": "light"
     },
     "output_type": "display_data"
    }
   ],
   "source": [
    "# distribution of vintage by response category\n",
    "sns.boxplot(data = data, x = 'Response', y = 'Vintage');"
   ]
  },
  {
   "cell_type": "markdown",
   "metadata": {},
   "source": [
    "Interestingly, the distribution of vintage (\"customer age with the company\", if you will,) is pretty much the same for those who did and didn't purchase vehicle insurance. So brand trust / loyalty doesn't seem to play a role here. (Or if it does, it is not clear from the data.)"
   ]
  },
  {
   "cell_type": "markdown",
   "metadata": {},
   "source": [
    "#### Annual Premium"
   ]
  },
  {
   "cell_type": "code",
   "execution_count": 33,
   "metadata": {},
   "outputs": [
    {
     "data": {
      "image/png": "[encoded data removed]",
      "text/plain": [
       "<Figure size 432x288 with 1 Axes>"
      ]
     },
     "metadata": {
      "needs_background": "light"
     },
     "output_type": "display_data"
    }
   ],
   "source": [
    "# distribution of annual premiums by response category\n",
    "sns.boxplot(data = data, x = 'Response', y = 'Annual_Premium');"
   ]
  },
  {
   "cell_type": "markdown",
   "metadata": {},
   "source": [
    "The amount of the annual premium doesn't seem to matter very much in terms of predicting which of our customers will purchase vehicle insurance."
   ]
  },
  {
   "cell_type": "markdown",
   "metadata": {},
   "source": [
    "#### Policy Sales Channel"
   ]
  },
  {
   "cell_type": "code",
   "execution_count": 4,
   "metadata": {},
   "outputs": [
    {
     "name": "stdout",
     "output_type": "stream",
     "text": [
      "Percentage of Vehicle Insurance Purchases by Policy Sales Channel:\n"
     ]
    },
    {
     "data": {
      "text/plain": [
       "Policy_Sales_Channel\n",
       "26.0     0.340\n",
       "124.0    0.300\n",
       "152.0    0.083\n",
       "156.0    0.049\n",
       "157.0    0.038\n",
       "         ...  \n",
       "84.0     0.000\n",
       "86.0     0.000\n",
       "87.0     0.000\n",
       "88.0     0.000\n",
       "81.0     0.000\n",
       "Name: Response, Length: 155, dtype: float64"
      ]
     },
     "execution_count": 4,
     "metadata": {},
     "output_type": "execute_result"
    }
   ],
   "source": [
    "# what percentage of sales for each policy sales channel?\n",
    "by_channel=data.groupby('Policy_Sales_Channel').sum()['Response']\\\n",
    "/ sum(data.Response)\n",
    "\n",
    "print('Percentage of Vehicle Insurance Purchases by Policy Sales Channel:')\n",
    "by_channel.map(lambda x: round(x, 3)).sort_values(ascending=False)"
   ]
  },
  {
   "cell_type": "markdown",
   "metadata": {},
   "source": [
    "Two policy sales channels outweigh the rest, resulting in more than 60% of the vehicle insurance sales overall.\n",
    "\n",
    "This feature refers to the method of contacting the customer (i.e. by mail, by various agents, etc.) The initial analysis seems to reveal that some methods are more effective than others in closing the sale."
   ]
  },
  {
   "cell_type": "markdown",
   "metadata": {},
   "source": [
    "## Classification with XGBoost"
   ]
  },
  {
   "cell_type": "markdown",
   "metadata": {},
   "source": [
    "### Preprocessing"
   ]
  },
  {
   "cell_type": "markdown",
   "metadata": {},
   "source": [
    "#### Feature Selection"
   ]
  },
  {
   "cell_type": "markdown",
   "metadata": {},
   "source": [
    "- Relatively few features\n",
    "- Some are cumbersome to include in a model (e.g. Region_Code would need to be one-hot encoded, with 49 categories)\n",
    "\n",
    "--> Select a subset to include in all models\n",
    "\n",
    "<u>Potential future improvement</u>\n",
    "\n",
    "Perform feature selection using\n",
    "- regularization or\n",
    "- feature importances"
   ]
  },
  {
   "cell_type": "markdown",
   "metadata": {},
   "source": [
    "**Features to Include**\n",
    "\n",
    "- Age\n",
    "- Driving_License\n",
    "- Previously_Insured\n",
    "- Vehicle_Damage\n",
    "- Vehicle_Age (one hot encode)\n",
    "\n",
    "I would love to include `Policy_Sales_Channel` because it seems so important, but there are 155 unique policy sales channels that would need to be one hot encoded! I am going to try including just the top 5 policy sales channels."
   ]
  },
  {
   "cell_type": "code",
   "execution_count": 5,
   "metadata": {},
   "outputs": [],
   "source": [
    "# this snippet of code was originally run in 3.2.10 of EDA; moved here\n",
    "# for convenience when rerunning:\n",
    "\n",
    "# what percentage of sales for each policy sales channel?\n",
    "by_channel=data.groupby('Policy_Sales_Channel').sum()['Response']\\\n",
    "/ sum(data.Response)\n",
    "\n",
    "\n",
    "# this is the new code (not included in EDA):\n",
    "\n",
    "# top 5 policy sales channels\n",
    "top_5_channels = by_channel.map(lambda x: round(x, 3)).\\\n",
    "sort_values(ascending=False).index[:5]"
   ]
  },
  {
   "cell_type": "markdown",
   "metadata": {},
   "source": [
    "#### Preprocessing"
   ]
  },
  {
   "cell_type": "markdown",
   "metadata": {},
   "source": [
    "Create a dataframe with features of interest (X) and a series of the target (y)."
   ]
  },
  {
   "cell_type": "code",
   "execution_count": 69,
   "metadata": {},
   "outputs": [],
   "source": [
    "features = ['Age', 'Driving_License', 'Previously_Insured',\n",
    "           'Vehicle_Damage', 'Vehicle_Age', 'Policy_Sales_Channel']\n",
    "\n",
    "X = data[features].copy()\n",
    "y = data['Response']"
   ]
  },
  {
   "cell_type": "markdown",
   "metadata": {},
   "source": [
    "Add 5 features - each indicates whether the record in question was reached out to via one of the top 5 policy sales channels."
   ]
  },
  {
   "cell_type": "code",
   "execution_count": 70,
   "metadata": {},
   "outputs": [],
   "source": [
    "for channel_code in top_5_channels:\n",
    "    X[f'channel{int(channel_code)}'] = (X.Policy_Sales_Channel == \n",
    "                                        channel_code).astype(int)"
   ]
  },
  {
   "cell_type": "markdown",
   "metadata": {},
   "source": [
    "Drop the policy sales channel column (since it's not really numerical, and one hot encoding all 155 categories is not particularly appetizing.)"
   ]
  },
  {
   "cell_type": "code",
   "execution_count": 71,
   "metadata": {},
   "outputs": [],
   "source": [
    "X.drop(['Policy_Sales_Channel'], axis = 1, inplace = True)"
   ]
  },
  {
   "cell_type": "markdown",
   "metadata": {},
   "source": [
    "Make the Vehicle Damage column 0 / 1 rather than yes / no."
   ]
  },
  {
   "cell_type": "code",
   "execution_count": 72,
   "metadata": {},
   "outputs": [],
   "source": [
    "X.Vehicle_Damage.replace({'Yes':1, 'No':0}, inplace = True)"
   ]
  },
  {
   "cell_type": "markdown",
   "metadata": {},
   "source": [
    "One hot encode the vehicle_age categories."
   ]
  },
  {
   "cell_type": "code",
   "execution_count": 73,
   "metadata": {},
   "outputs": [],
   "source": [
    "# instantiate one hot encoder\n",
    "ohe = OneHotEncoder(handle_unknown = 'ignore', sparse = False)\n",
    "\n",
    "# fit encoder & transform vehicle age; keep index & add column names\n",
    "transformed_cat_col = pd.DataFrame(ohe.fit_transform(X[['Vehicle_Age']]),\n",
    "                                   columns = ohe.categories_,\n",
    "                                   index = X.Vehicle_Age.index)\n",
    "\n",
    "# concatenate transformed vehicle age with other features in X\n",
    "X = pd.concat([X.drop(['Vehicle_Age'], axis = 1),\n",
    "              transformed_cat_col], axis = 1)"
   ]
  },
  {
   "cell_type": "code",
   "execution_count": 74,
   "metadata": {},
   "outputs": [
    {
     "data": {
      "text/html": [
       "<div>\n",
       "<style scoped>\n",
       "    .dataframe tbody tr th:only-of-type {\n",
       "        vertical-align: middle;\n",
       "    }\n",
       "\n",
       "    .dataframe tbody tr th {\n",
       "        vertical-align: top;\n",
       "    }\n",
       "\n",
       "    .dataframe thead th {\n",
       "        text-align: right;\n",
       "    }\n",
       "</style>\n",
       "<table border=\"1\" class=\"dataframe\">\n",
       "  <thead>\n",
       "    <tr style=\"text-align: right;\">\n",
       "      <th></th>\n",
       "      <th>Age</th>\n",
       "      <th>Driving_License</th>\n",
       "      <th>Previously_Insured</th>\n",
       "      <th>Vehicle_Damage</th>\n",
       "      <th>channel26</th>\n",
       "      <th>channel124</th>\n",
       "      <th>channel152</th>\n",
       "      <th>channel156</th>\n",
       "      <th>channel157</th>\n",
       "      <th>(1-2 Year,)</th>\n",
       "      <th>(&lt; 1 Year,)</th>\n",
       "      <th>(&gt; 2 Years,)</th>\n",
       "    </tr>\n",
       "    <tr>\n",
       "      <th>id</th>\n",
       "      <th></th>\n",
       "      <th></th>\n",
       "      <th></th>\n",
       "      <th></th>\n",
       "      <th></th>\n",
       "      <th></th>\n",
       "      <th></th>\n",
       "      <th></th>\n",
       "      <th></th>\n",
       "      <th></th>\n",
       "      <th></th>\n",
       "      <th></th>\n",
       "    </tr>\n",
       "  </thead>\n",
       "  <tbody>\n",
       "    <tr>\n",
       "      <th>1</th>\n",
       "      <td>44</td>\n",
       "      <td>1</td>\n",
       "      <td>0</td>\n",
       "      <td>1</td>\n",
       "      <td>1</td>\n",
       "      <td>0</td>\n",
       "      <td>0</td>\n",
       "      <td>0</td>\n",
       "      <td>0</td>\n",
       "      <td>0.0</td>\n",
       "      <td>0.0</td>\n",
       "      <td>1.0</td>\n",
       "    </tr>\n",
       "    <tr>\n",
       "      <th>2</th>\n",
       "      <td>76</td>\n",
       "      <td>1</td>\n",
       "      <td>0</td>\n",
       "      <td>0</td>\n",
       "      <td>1</td>\n",
       "      <td>0</td>\n",
       "      <td>0</td>\n",
       "      <td>0</td>\n",
       "      <td>0</td>\n",
       "      <td>1.0</td>\n",
       "      <td>0.0</td>\n",
       "      <td>0.0</td>\n",
       "    </tr>\n",
       "    <tr>\n",
       "      <th>3</th>\n",
       "      <td>47</td>\n",
       "      <td>1</td>\n",
       "      <td>0</td>\n",
       "      <td>1</td>\n",
       "      <td>1</td>\n",
       "      <td>0</td>\n",
       "      <td>0</td>\n",
       "      <td>0</td>\n",
       "      <td>0</td>\n",
       "      <td>0.0</td>\n",
       "      <td>0.0</td>\n",
       "      <td>1.0</td>\n",
       "    </tr>\n",
       "    <tr>\n",
       "      <th>4</th>\n",
       "      <td>21</td>\n",
       "      <td>1</td>\n",
       "      <td>1</td>\n",
       "      <td>0</td>\n",
       "      <td>0</td>\n",
       "      <td>0</td>\n",
       "      <td>1</td>\n",
       "      <td>0</td>\n",
       "      <td>0</td>\n",
       "      <td>0.0</td>\n",
       "      <td>1.0</td>\n",
       "      <td>0.0</td>\n",
       "    </tr>\n",
       "    <tr>\n",
       "      <th>5</th>\n",
       "      <td>29</td>\n",
       "      <td>1</td>\n",
       "      <td>1</td>\n",
       "      <td>0</td>\n",
       "      <td>0</td>\n",
       "      <td>0</td>\n",
       "      <td>1</td>\n",
       "      <td>0</td>\n",
       "      <td>0</td>\n",
       "      <td>0.0</td>\n",
       "      <td>1.0</td>\n",
       "      <td>0.0</td>\n",
       "    </tr>\n",
       "  </tbody>\n",
       "</table>\n",
       "</div>"
      ],
      "text/plain": [
       "    Age  Driving_License  Previously_Insured  Vehicle_Damage  channel26  \\\n",
       "id                                                                        \n",
       "1    44                1                   0               1          1   \n",
       "2    76                1                   0               0          1   \n",
       "3    47                1                   0               1          1   \n",
       "4    21                1                   1               0          0   \n",
       "5    29                1                   1               0          0   \n",
       "\n",
       "    channel124  channel152  channel156  channel157  (1-2 Year,)  (< 1 Year,)  \\\n",
       "id                                                                             \n",
       "1            0           0           0           0          0.0          0.0   \n",
       "2            0           0           0           0          1.0          0.0   \n",
       "3            0           0           0           0          0.0          0.0   \n",
       "4            0           1           0           0          0.0          1.0   \n",
       "5            0           1           0           0          0.0          1.0   \n",
       "\n",
       "    (> 2 Years,)  \n",
       "id                \n",
       "1            1.0  \n",
       "2            0.0  \n",
       "3            1.0  \n",
       "4            0.0  \n",
       "5            0.0  "
      ]
     },
     "execution_count": 74,
     "metadata": {},
     "output_type": "execute_result"
    }
   ],
   "source": [
    "# inspect the first 5 rows of X to check work\n",
    "\n",
    "X.head()"
   ]
  },
  {
   "cell_type": "markdown",
   "metadata": {},
   "source": [
    "When I tried to pass this data to an XGBoost Classifier, I learned that the symbols \"<\" and \">\" are not allowed in column names for this model. The below code replaces those column names."
   ]
  },
  {
   "cell_type": "code",
   "execution_count": 75,
   "metadata": {},
   "outputs": [],
   "source": [
    "# need to rename categorical cols due to <, > not allowed\n",
    "# create a list of col names, but replace last 3 columns with new names\n",
    "new_cols = list(X.columns[:-3]) + ['1-2YR', 'under_1YR', 'over_2YR']\n",
    "\n",
    "# zip old columns and new columns into a dictionary\n",
    "new_col_mapper = dict(zip(X.columns, new_cols))\n",
    "\n",
    "# pass dictionary to rename function for pandas dataframe X\n",
    "X.rename(new_col_mapper, axis = 1, inplace = True)"
   ]
  },
  {
   "cell_type": "markdown",
   "metadata": {},
   "source": [
    "#### Imbalance in Target"
   ]
  },
  {
   "cell_type": "markdown",
   "metadata": {},
   "source": [
    "**Compare to Majority Class Selector**"
   ]
  },
  {
   "cell_type": "markdown",
   "metadata": {},
   "source": [
    "What is the accuracy for a model which selects the majority class every time?"
   ]
  },
  {
   "cell_type": "code",
   "execution_count": 106,
   "metadata": {},
   "outputs": [
    {
     "name": "stdout",
     "output_type": "stream",
     "text": [
      "Selecting the majority class every time results in a model\n",
      "accuracy of 87.74%.\n"
     ]
    }
   ],
   "source": [
    "print(f'''Selecting the majority class every time results in a model\n",
    "accuracy of {round(y.value_counts(normalize=True)[0]*100, 2)}%.''')"
   ]
  },
  {
   "cell_type": "markdown",
   "metadata": {},
   "source": [
    "So the accuracy score to beat is 87.74%."
   ]
  },
  {
   "cell_type": "markdown",
   "metadata": {},
   "source": [
    "**Dealing with Class Imbalance**"
   ]
  },
  {
   "cell_type": "markdown",
   "metadata": {},
   "source": [
    "Because this dataset is imbalanced, I am probably going to employ some strategy to correct for the tendency of a model to favor selecting the majority class.\n",
    "\n",
    "However, before I do this, I am going to build a baseline model with XGBoost with the dataset as is, and obtain a mean score from cross-validation, with which to compare my future models.\n",
    "\n",
    "Then, I will pick an approach for dealing with the imbalance, apply it, rerun the model and see if it makes a quantitative difference in the metrics we care about."
   ]
  },
  {
   "cell_type": "markdown",
   "metadata": {},
   "source": [
    "**Possible Approaches to Dealing with Class Imbalance**\n",
    "\n",
    "- Under sampling (lose data)\n",
    "- Over sampling with synthetic data (fake data)\n",
    "- Class weights in model (probably not very effective)\n",
    "- Penalty term for classifying as 0 (lots of coding to make custom model)"
   ]
  },
  {
   "cell_type": "markdown",
   "metadata": {},
   "source": [
    "**Another Approach to Dealing with Class Imbalance**"
   ]
  },
  {
   "cell_type": "markdown",
   "metadata": {},
   "source": [
    "Another approach I read about for dealing with class imbalance is to **train each model in your ensemble** on the minority class of your dataset + a sample of the majority class of equal size to the subset of minority class data that you have.\n",
    "\n",
    "This would entail (I think) implementing XGBoost from scratch - so that is what I am trying below!"
   ]
  },
  {
   "cell_type": "code",
   "execution_count": 13,
   "metadata": {},
   "outputs": [],
   "source": [
    "# first, concatenate X and y for preprocessed data to divide into batches\n",
    "preprocessed = pd.concat([X, y], axis=1)"
   ]
  },
  {
   "cell_type": "code",
   "execution_count": 14,
   "metadata": {},
   "outputs": [
    {
     "data": {
      "text/html": [
       "<div>\n",
       "<style scoped>\n",
       "    .dataframe tbody tr th:only-of-type {\n",
       "        vertical-align: middle;\n",
       "    }\n",
       "\n",
       "    .dataframe tbody tr th {\n",
       "        vertical-align: top;\n",
       "    }\n",
       "\n",
       "    .dataframe thead th {\n",
       "        text-align: right;\n",
       "    }\n",
       "</style>\n",
       "<table border=\"1\" class=\"dataframe\">\n",
       "  <thead>\n",
       "    <tr style=\"text-align: right;\">\n",
       "      <th></th>\n",
       "      <th>Age</th>\n",
       "      <th>Driving_License</th>\n",
       "      <th>Previously_Insured</th>\n",
       "      <th>Vehicle_Damage</th>\n",
       "      <th>channel26</th>\n",
       "      <th>channel124</th>\n",
       "      <th>channel152</th>\n",
       "      <th>channel156</th>\n",
       "      <th>channel157</th>\n",
       "      <th>(1-2 Year,)</th>\n",
       "      <th>(&lt; 1 Year,)</th>\n",
       "      <th>(&gt; 2 Years,)</th>\n",
       "      <th>Response</th>\n",
       "    </tr>\n",
       "    <tr>\n",
       "      <th>id</th>\n",
       "      <th></th>\n",
       "      <th></th>\n",
       "      <th></th>\n",
       "      <th></th>\n",
       "      <th></th>\n",
       "      <th></th>\n",
       "      <th></th>\n",
       "      <th></th>\n",
       "      <th></th>\n",
       "      <th></th>\n",
       "      <th></th>\n",
       "      <th></th>\n",
       "      <th></th>\n",
       "    </tr>\n",
       "  </thead>\n",
       "  <tbody>\n",
       "    <tr>\n",
       "      <th>1</th>\n",
       "      <td>44</td>\n",
       "      <td>1</td>\n",
       "      <td>0</td>\n",
       "      <td>1</td>\n",
       "      <td>1</td>\n",
       "      <td>0</td>\n",
       "      <td>0</td>\n",
       "      <td>0</td>\n",
       "      <td>0</td>\n",
       "      <td>0.0</td>\n",
       "      <td>0.0</td>\n",
       "      <td>1.0</td>\n",
       "      <td>1</td>\n",
       "    </tr>\n",
       "    <tr>\n",
       "      <th>2</th>\n",
       "      <td>76</td>\n",
       "      <td>1</td>\n",
       "      <td>0</td>\n",
       "      <td>0</td>\n",
       "      <td>1</td>\n",
       "      <td>0</td>\n",
       "      <td>0</td>\n",
       "      <td>0</td>\n",
       "      <td>0</td>\n",
       "      <td>1.0</td>\n",
       "      <td>0.0</td>\n",
       "      <td>0.0</td>\n",
       "      <td>0</td>\n",
       "    </tr>\n",
       "    <tr>\n",
       "      <th>3</th>\n",
       "      <td>47</td>\n",
       "      <td>1</td>\n",
       "      <td>0</td>\n",
       "      <td>1</td>\n",
       "      <td>1</td>\n",
       "      <td>0</td>\n",
       "      <td>0</td>\n",
       "      <td>0</td>\n",
       "      <td>0</td>\n",
       "      <td>0.0</td>\n",
       "      <td>0.0</td>\n",
       "      <td>1.0</td>\n",
       "      <td>1</td>\n",
       "    </tr>\n",
       "    <tr>\n",
       "      <th>4</th>\n",
       "      <td>21</td>\n",
       "      <td>1</td>\n",
       "      <td>1</td>\n",
       "      <td>0</td>\n",
       "      <td>0</td>\n",
       "      <td>0</td>\n",
       "      <td>1</td>\n",
       "      <td>0</td>\n",
       "      <td>0</td>\n",
       "      <td>0.0</td>\n",
       "      <td>1.0</td>\n",
       "      <td>0.0</td>\n",
       "      <td>0</td>\n",
       "    </tr>\n",
       "    <tr>\n",
       "      <th>5</th>\n",
       "      <td>29</td>\n",
       "      <td>1</td>\n",
       "      <td>1</td>\n",
       "      <td>0</td>\n",
       "      <td>0</td>\n",
       "      <td>0</td>\n",
       "      <td>1</td>\n",
       "      <td>0</td>\n",
       "      <td>0</td>\n",
       "      <td>0.0</td>\n",
       "      <td>1.0</td>\n",
       "      <td>0.0</td>\n",
       "      <td>0</td>\n",
       "    </tr>\n",
       "  </tbody>\n",
       "</table>\n",
       "</div>"
      ],
      "text/plain": [
       "    Age  Driving_License  Previously_Insured  Vehicle_Damage  channel26  \\\n",
       "id                                                                        \n",
       "1    44                1                   0               1          1   \n",
       "2    76                1                   0               0          1   \n",
       "3    47                1                   0               1          1   \n",
       "4    21                1                   1               0          0   \n",
       "5    29                1                   1               0          0   \n",
       "\n",
       "    channel124  channel152  channel156  channel157  (1-2 Year,)  (< 1 Year,)  \\\n",
       "id                                                                             \n",
       "1            0           0           0           0          0.0          0.0   \n",
       "2            0           0           0           0          1.0          0.0   \n",
       "3            0           0           0           0          0.0          0.0   \n",
       "4            0           1           0           0          0.0          1.0   \n",
       "5            0           1           0           0          0.0          1.0   \n",
       "\n",
       "    (> 2 Years,)  Response  \n",
       "id                          \n",
       "1            1.0         1  \n",
       "2            0.0         0  \n",
       "3            1.0         1  \n",
       "4            0.0         0  \n",
       "5            0.0         0  "
      ]
     },
     "execution_count": 14,
     "metadata": {},
     "output_type": "execute_result"
    }
   ],
   "source": [
    "# inspect first 5 rows to check\n",
    "preprocessed.head()"
   ]
  },
  {
   "cell_type": "code",
   "execution_count": 62,
   "metadata": {},
   "outputs": [
    {
     "name": "stdout",
     "output_type": "stream",
     "text": [
      "The number of minority class records: 46710.\n",
      "The number of majority class records: 334399.\n",
      "How many batches?: 7.15904517233997.\n"
     ]
    }
   ],
   "source": [
    "# separate the minority and majority class data\n",
    "minority_class = preprocessed.loc[ preprocessed['Response'] == 1 ]\n",
    "majority_class = preprocessed.loc[ preprocessed['Response'] == 0 ]\n",
    "\n",
    "# inspect the number of each class to decide on how many batches to run\n",
    "print(f'The number of minority class records: {len(minority_class)}.''')\n",
    "print(f'The number of majority class records: {len(majority_class)}.')\n",
    "print(f'How many batches?: {len(majority_class) / len(minority_class)}.')"
   ]
  },
  {
   "cell_type": "markdown",
   "metadata": {},
   "source": [
    "So we will make 7 bags of majority class data."
   ]
  },
  {
   "cell_type": "code",
   "execution_count": 28,
   "metadata": {},
   "outputs": [
    {
     "name": "stderr",
     "output_type": "stream",
     "text": [
      "/Users/user/opt/anaconda3/envs/learn-env/lib/python3.8/site-packages/pandas/core/frame.py:4163: SettingWithCopyWarning: \n",
      "A value is trying to be set on a copy of a slice from a DataFrame\n",
      "\n",
      "See the caveats in the documentation: https://pandas.pydata.org/pandas-docs/stable/user_guide/indexing.html#returning-a-view-versus-a-copy\n",
      "  return super().drop(\n"
     ]
    }
   ],
   "source": [
    "# set a random seed for reproducibility\n",
    "seed = 789\n",
    "\n",
    "# create a list to hold all 7 bags\n",
    "bags = []\n",
    "\n",
    "# iterate over the creation of 7 bags\n",
    "for i in range(7):\n",
    "    # get sample from majority_class, WITHOUT replacement (default)\n",
    "    bag = majority_class.sample(n = len(minority_class),\n",
    "                         axis = 0,\n",
    "                         random_state = seed)\n",
    "    \n",
    "    # add bag to list of bags\n",
    "    bags.append(bag)\n",
    "\n",
    "    # remove obs from majority_class that were just selected\n",
    "    majority_class.drop(bag.index, axis = 0, inplace = True)"
   ]
  },
  {
   "cell_type": "code",
   "execution_count": 45,
   "metadata": {},
   "outputs": [
    {
     "name": "stdout",
     "output_type": "stream",
     "text": [
      "              precision    recall  f1-score   support\n",
      "\n",
      "           0       0.90      0.67      0.77     46710\n",
      "           1       0.74      0.93      0.82     46710\n",
      "\n",
      "    accuracy                           0.80     93420\n",
      "   macro avg       0.82      0.80      0.80     93420\n",
      "weighted avg       0.82      0.80      0.80     93420\n",
      "\n"
     ]
    }
   ],
   "source": [
    "# now train a decision tree classifier on bag 1\n",
    "\n",
    "# get majority class observations for bag 1\n",
    "X_1 = bags[0].drop(['Response'], axis = 1)\n",
    "y_1 = bags[0]['Response']\n",
    "\n",
    "# split minority class dataframe into X and y\n",
    "minority_X = minority_class.drop(['Response'], axis = 1)\n",
    "minority_y = minority_class['Response']\n",
    "\n",
    "# concatenate majority and minority class observations for bag 1\n",
    "X_1 = pd.concat([X_1, minority_X], axis = 0)\n",
    "y_1 = pd.concat([y_1, minority_y], axis = 0)\n",
    "\n",
    "# instantiate decision tree classifier\n",
    "dt1 = DecisionTreeClassifier(random_state = seed)\n",
    "\n",
    "# fit to training data for bag 1\n",
    "dt1.fit(X_1, y_1)\n",
    "\n",
    "# check training accuracy, recall and precision\n",
    "y_1_train_preds = dt1.predict(X_1)\n",
    "print(classification_report(y_1, y_1_train_preds))"
   ]
  },
  {
   "cell_type": "markdown",
   "metadata": {},
   "source": [
    "Oh no! The accuracy score is worse than a blind majority class selector. xD But precision is at 74% (relevance of selected instances) and recall is at a whopping 93% (number of relevant instances selected.) I think we can improve this with another iteration of the algorithm. But first, let's check the out-of-bag error."
   ]
  },
  {
   "cell_type": "code",
   "execution_count": 48,
   "metadata": {},
   "outputs": [
    {
     "name": "stdout",
     "output_type": "stream",
     "text": [
      "              precision    recall  f1-score   support\n",
      "\n",
      "           0       0.59      0.65      0.62      7429\n",
      "           1       0.94      0.93      0.94     46710\n",
      "\n",
      "    accuracy                           0.89     54139\n",
      "   macro avg       0.77      0.79      0.78     54139\n",
      "weighted avg       0.89      0.89      0.89     54139\n",
      "\n"
     ]
    }
   ],
   "source": [
    "# let's form an out of bag sample using minority_class & what is left of\n",
    "# majority_class after forming our bags\n",
    "oob_sample_X = pd.concat([minority_X,\n",
    "                         majority_class.drop(['Response'], axis = 1)],\n",
    "                         axis = 0)\n",
    "oob_sample_y = pd.concat([minority_y,\n",
    "                         majority_class['Response']],\n",
    "                         axis = 0)\n",
    "\n",
    "# make predictions for out of bag sample\n",
    "y_1_test_preds = dt1.predict(oob_sample_X)\n",
    "\n",
    "# print metrics for model performance on OOB sample\n",
    "print(classification_report(oob_sample_y, y_1_test_preds))"
   ]
  },
  {
   "cell_type": "markdown",
   "metadata": {},
   "source": [
    "Wow. The performance in terms of accuracy and precision is *better* on the out-of-bag sample, whereas the recall stays the same.\n",
    "\n",
    "But it is important to keep in mind that part of the training data is IN the out of bag sample which could be completely skewing the results."
   ]
  },
  {
   "cell_type": "markdown",
   "metadata": {},
   "source": [
    "Now, let's train a decision tree classifier on the residuals of the first decision tree, using the next random sample."
   ]
  },
  {
   "cell_type": "code",
   "execution_count": 57,
   "metadata": {},
   "outputs": [
    {
     "name": "stdout",
     "output_type": "stream",
     "text": [
      " 0    74196\n",
      "-1    15856\n",
      " 1     3368\n",
      "Name: Response, dtype: int64\n",
      "              precision    recall  f1-score   support\n",
      "\n",
      "           0       0.89      0.68      0.77     46710\n",
      "           1       0.74      0.91      0.82     46710\n",
      "\n",
      "    accuracy                           0.80     93420\n",
      "   macro avg       0.82      0.80      0.80     93420\n",
      "weighted avg       0.82      0.80      0.80     93420\n",
      "\n"
     ]
    }
   ],
   "source": [
    "# get majority class observations for bag 2\n",
    "X_2 = bags[1].drop(['Response'], axis = 1)\n",
    "y_2 = bags[1]['Response']\n",
    "\n",
    "# concatenate majority and minority class observations for bag 1\n",
    "X_2 = pd.concat([X_2, minority_X], axis = 0)\n",
    "y_2 = pd.concat([y_2, minority_y], axis = 0)\n",
    "\n",
    "# make predictions on bag 2, to get residuals for bag 2\n",
    "residuals_2 = y_2 - dt1.predict(X_2)\n",
    "\n",
    "# check that residuals look as expected\n",
    "print(residuals_2.value_counts())\n",
    "\n",
    "# instantiate decision tree classifier 2\n",
    "dt2 = DecisionTreeClassifier(random_state = seed)\n",
    "\n",
    "# fit to RESIDUALS\n",
    "dt2.fit(X_2, residuals_2)\n",
    "\n",
    "# predict RESIDUALS and add to predictions of decision tree 1\n",
    "updated_preds = dt1.predict(X_2) + dt2.predict(X_2)\n",
    "\n",
    "# print classification report\n",
    "print(classification_report(y_2, updated_preds))"
   ]
  },
  {
   "cell_type": "markdown",
   "metadata": {},
   "source": [
    "Unfortunately, accuracy is stuck at 80% and precision is stuck at 74%. Recall has actually decreased. Did I do something incorrectly here?"
   ]
  },
  {
   "cell_type": "code",
   "execution_count": 58,
   "metadata": {},
   "outputs": [
    {
     "name": "stdout",
     "output_type": "stream",
     "text": [
      "              precision    recall  f1-score   support\n",
      "\n",
      "           0       0.55      0.66      0.60      7429\n",
      "           1       0.94      0.91      0.93     46710\n",
      "\n",
      "    accuracy                           0.88     54139\n",
      "   macro avg       0.75      0.79      0.77     54139\n",
      "weighted avg       0.89      0.88      0.88     54139\n",
      "\n"
     ]
    }
   ],
   "source": [
    "# check out of bag error\n",
    "\n",
    "# make predictions for out of bag sample\n",
    "y_2_test_preds = dt1.predict(oob_sample_X) + dt2.predict(oob_sample_X)\n",
    "\n",
    "# print metrics for model performance on OOB sample\n",
    "print(classification_report(oob_sample_y, y_2_test_preds))"
   ]
  },
  {
   "cell_type": "markdown",
   "metadata": {},
   "source": [
    "I wonder what I am doing incorrectly that is causing my out of bag metrics to be better than my in bag metrics. (I realize that my OOB sample is actually half-in, half-out, but I still would have expected better results for the totally-in-the-bag sample.)"
   ]
  },
  {
   "cell_type": "code",
   "execution_count": 60,
   "metadata": {},
   "outputs": [
    {
     "name": "stdout",
     "output_type": "stream",
     "text": [
      "              precision    recall  f1-score   support\n",
      "\n",
      "           0       0.90      0.67      0.77     46710\n",
      "           1       0.74      0.93      0.82     46710\n",
      "\n",
      "    accuracy                           0.80     93420\n",
      "   macro avg       0.82      0.80      0.79     93420\n",
      "weighted avg       0.82      0.80      0.79     93420\n",
      "\n"
     ]
    }
   ],
   "source": [
    "# get majority class observations for bag 2\n",
    "X_3 = bags[2].drop(['Response'], axis = 1)\n",
    "y_3 = bags[2]['Response']\n",
    "\n",
    "# concatenate majority and minority class observations for bag 1\n",
    "X_3 = pd.concat([X_3, minority_X], axis = 0)\n",
    "y_3 = pd.concat([y_3, minority_y], axis = 0)\n",
    "\n",
    "# make predictions on bag 2, to get residuals for bag 2\n",
    "residuals_3 = y_3 - (dt1.predict(X_3) + dt2.predict(X_3))\n",
    "\n",
    "# instantiate decision tree classifier 2\n",
    "dt3 = DecisionTreeClassifier(random_state = seed)\n",
    "\n",
    "# fit to RESIDUALS\n",
    "dt3.fit(X_3, residuals_3)\n",
    "\n",
    "# predict RESIDUALS and add to predictions of decision trees 1 and 2\n",
    "updated_preds = dt1.predict(X_3) + dt2.predict(X_3) + dt3.predict(X_3)\n",
    "\n",
    "# print classification report\n",
    "print(classification_report(y_3, updated_preds))"
   ]
  },
  {
   "cell_type": "code",
   "execution_count": 61,
   "metadata": {},
   "outputs": [
    {
     "name": "stdout",
     "output_type": "stream",
     "text": [
      "              precision    recall  f1-score   support\n",
      "\n",
      "           0       0.59      0.65      0.62      7429\n",
      "           1       0.94      0.93      0.94     46710\n",
      "\n",
      "    accuracy                           0.89     54139\n",
      "   macro avg       0.77      0.79      0.78     54139\n",
      "weighted avg       0.90      0.89      0.89     54139\n",
      "\n"
     ]
    }
   ],
   "source": [
    "# check out of bag error\n",
    "\n",
    "# make predictions for out of bag sample\n",
    "y_3_test_preds = dt1.predict(oob_sample_X) + dt2.predict(oob_sample_X) +\\\n",
    "dt3.predict(oob_sample_X)\n",
    "\n",
    "# print metrics for model performance on OOB sample\n",
    "print(classification_report(oob_sample_y, y_3_test_preds))"
   ]
  },
  {
   "cell_type": "markdown",
   "metadata": {},
   "source": [
    "Let me see if visualization can help me figure out what is wrong."
   ]
  },
  {
   "cell_type": "markdown",
   "metadata": {},
   "source": [
    "### XGBoost Baseline Model"
   ]
  },
  {
   "cell_type": "code",
   "execution_count": 15,
   "metadata": {},
   "outputs": [
    {
     "data": {
      "text/plain": [
       "XGBClassifier(base_score=0.5, booster='gbtree', colsample_bylevel=1,\n",
       "              colsample_bynode=1, colsample_bytree=1, gamma=0, gpu_id=-1,\n",
       "              importance_type='gain', interaction_constraints='',\n",
       "              learning_rate=0.300000012, max_delta_step=0, max_depth=6,\n",
       "              min_child_weight=1, missing=nan, monotone_constraints='()',\n",
       "              n_estimators=100, n_jobs=0, num_parallel_tree=1, random_state=789,\n",
       "              reg_alpha=0, reg_lambda=1, scale_pos_weight=1, subsample=1,\n",
       "              tree_method='exact', validate_parameters=1, verbosity=None)"
      ]
     },
     "execution_count": 15,
     "metadata": {},
     "output_type": "execute_result"
    }
   ],
   "source": [
    "# set a seed for reproducibility\n",
    "seed = 789\n",
    "\n",
    "# instantiate the XG Boost classifier\n",
    "xgb0 = XGBClassifier(random_state = seed)\n",
    "\n",
    "# fit to training data\n",
    "xgb0.fit(X, y)"
   ]
  },
  {
   "cell_type": "code",
   "execution_count": 16,
   "metadata": {},
   "outputs": [
    {
     "name": "stdout",
     "output_type": "stream",
     "text": [
      "              precision    recall  f1-score   support\n",
      "\n",
      "           0       0.88      1.00      0.93    334399\n",
      "           1       0.59      0.01      0.01     46710\n",
      "\n",
      "    accuracy                           0.88    381109\n",
      "   macro avg       0.73      0.50      0.47    381109\n",
      "weighted avg       0.84      0.88      0.82    381109\n",
      "\n"
     ]
    }
   ],
   "source": [
    "# check model metrics on training data\n",
    "\n",
    "# get predictions for training data\n",
    "y_train_preds = xgb0.predict(X)\n",
    "\n",
    "# print classification report\n",
    "print(classification_report(y, y_train_preds))"
   ]
  },
  {
   "cell_type": "markdown",
   "metadata": {},
   "source": [
    "Our baseline model only captures 1% of all current health insurance customers who are interested in purchasing vehicle insurance.\n",
    "\n",
    "If the sales team used the predictions of this model to decide who to contact about purchasing vehicle insurance, then only 59% of leads would convert, and we would be missing out on 99% of all possible vehicle insurance sales to current health insurance customers!"
   ]
  },
  {
   "cell_type": "markdown",
   "metadata": {},
   "source": [
    "### Improving the Model"
   ]
  },
  {
   "cell_type": "markdown",
   "metadata": {},
   "source": [
    "#### scale_pos_weight"
   ]
  },
  {
   "cell_type": "markdown",
   "metadata": {},
   "source": [
    "After some reading, I thought that tuning the `scale_pos_weight` of the XGBoost Classifier might help the model to avoid false negatives by more heavily weighting the minority class. While this did work, it also caused the model to misclassify a LOT of truly negative cases as positive cases. It might be worth tuning this parameter some more."
   ]
  },
  {
   "cell_type": "markdown",
   "metadata": {},
   "source": [
    "Try a recommended value for scale_pos_weight:"
   ]
  },
  {
   "cell_type": "code",
   "execution_count": 37,
   "metadata": {},
   "outputs": [
    {
     "name": "stdout",
     "output_type": "stream",
     "text": [
      "              precision    recall  f1-score   support\n",
      "\n",
      "           0       0.99      0.66      0.79    334399\n",
      "           1       0.28      0.93      0.43     46710\n",
      "\n",
      "    accuracy                           0.69    381109\n",
      "   macro avg       0.63      0.80      0.61    381109\n",
      "weighted avg       0.90      0.69      0.75    381109\n",
      "\n"
     ]
    }
   ],
   "source": [
    "# try adjusting scale_pos_weight to deal with class imbalance\n",
    "\n",
    "# no. of negative obs. / positive obs.\n",
    "class_ratio = (len(y) - sum(y))/sum(y)\n",
    "\n",
    "# instantiate the XG Boost classifier\n",
    "xgb1 = XGBClassifier(random_state = seed,\n",
    "                     scale_pos_weight = class_ratio)\n",
    "\n",
    "# fit to training data\n",
    "xgb1.fit(X, y)\n",
    "\n",
    "# check metrics\n",
    "y_train_preds = xgb1.predict(X)\n",
    "print(classification_report(y, y_train_preds))"
   ]
  },
  {
   "cell_type": "markdown",
   "metadata": {},
   "source": [
    "Our recall went from 1% to 93%, so we are capturing a lot more of the market, but our precision and accuracy got way worse, so our sales team will likely be frustrated with their conversion rates based on these leads."
   ]
  },
  {
   "cell_type": "markdown",
   "metadata": {},
   "source": [
    "**Tuning** `scale_pos_weight`"
   ]
  },
  {
   "cell_type": "markdown",
   "metadata": {},
   "source": [
    "I would like to train several XGBoost Classifiers, each with different values for the scale_pos_weight parameter, and see how the ROC curves compare.\n",
    "\n",
    "(I'm thinking about the ROC curve because it shows the tradeoff between true positives and false positives. This is relevant right now because I am trying to coax the model to classify more observations as positive (hopefully, correctly), but because I am doing that coaxing by using class weights, I will also probably cause the model to classify more positives incorrectly as well. I hope that inspecting the ROC curves of models with varying levels of scale_pos_weight (weighting toward positives) will help me to choose a value for this parameter that balances the trade off between more true positives and more false positives.)"
   ]
  },
  {
   "cell_type": "code",
   "execution_count": 46,
   "metadata": {},
   "outputs": [
    {
     "data": {
      "image/png": "[encoded data removed]",
      "text/plain": [
       "<Figure size 432x288 with 1 Axes>"
      ]
     },
     "metadata": {
      "needs_background": "light"
     },
     "output_type": "display_data"
    }
   ],
   "source": [
    "# bring in color maps, to plot each roc_curve using a diff. color\n",
    "from matplotlib.pyplot import cm\n",
    "\n",
    "fig, ax = plt.subplots()\n",
    "\n",
    "# try adjusting scale_pos_weight to deal with class imbalance\n",
    "\n",
    "# try values for scale_pos_weight from 1 to 7\n",
    "class_ratios = list(range(1, 8))\n",
    "\n",
    "# select 7 colors, one for each plot\n",
    "colors = cm.rainbow(np.linspace(0, 1, 8))\n",
    "\n",
    "# enumerate class_ratios to access colors by index when plotting\n",
    "for i, class_ratio in enumerate(class_ratios):\n",
    "\n",
    "    # instantiate the XG Boost classifier\n",
    "    xgb = XGBClassifier(random_state = seed,\n",
    "                        scale_pos_weight = class_ratio)\n",
    "\n",
    "    # fit to data\n",
    "    xgb.fit(X, y)\n",
    "    \n",
    "    # plot roc curve\n",
    "    plot_roc_curve(xgb, X, y,\n",
    "                   ax=ax,\n",
    "                   label=f'scale_pos_weight={class_ratio}',\n",
    "                   c = colors[i])\n",
    "    \n",
    "plt.show();"
   ]
  },
  {
   "cell_type": "markdown",
   "metadata": {},
   "source": [
    "It is difficult to see this on the plot, but we only see one color because all of the curves overlap. Tuning the parameter `scale_pos_weight` doesn't seem to make a difference in the tradeoff between true positives and false positives. Perhaps I shouldn't be surprised - it does make sense that the tradeoff would not necessarily improve just because we are weighting the positive class more or less heavily. Maybe I should look at precision instead as we improve recall with heavier weighting for the positive class."
   ]
  },
  {
   "cell_type": "code",
   "execution_count": 56,
   "metadata": {},
   "outputs": [
    {
     "name": "stdout",
     "output_type": "stream",
     "text": [
      "Accuracies as scale_pos_weight increases: [0.877630809033636, 0.8504496089045391, 0.7868168949040826, 0.7566890312220388, 0.7363615133728146, 0.7248871057886327, 0.6954021028104821]\n"
     ]
    },
    {
     "data": {
      "image/png": "[encoded data removed]",
      "text/plain": [
       "<Figure size 432x288 with 1 Axes>"
      ]
     },
     "metadata": {
      "needs_background": "light"
     },
     "output_type": "display_data"
    }
   ],
   "source": [
    "# try adjusting scale_pos_weight to deal with class imbalance\n",
    "\n",
    "# try values for scale_pos_weight from 1 to 7\n",
    "class_ratios = list(range(1, 8))\n",
    "\n",
    "# store info about precision, recall & accuracy for each model\n",
    "precisions = []\n",
    "recalls = []\n",
    "accuracies = []\n",
    "\n",
    "# enumerate class_ratios to access colors by index when plotting\n",
    "for i, class_ratio in enumerate(class_ratios):\n",
    "\n",
    "    # instantiate the XG Boost classifier\n",
    "    xgb = XGBClassifier(random_state = seed,\n",
    "                        scale_pos_weight = class_ratio)\n",
    "\n",
    "    # fit to data\n",
    "    xgb.fit(X, y)\n",
    "    \n",
    "    # record precision, recall and accuracy\n",
    "    y_preds = xgb.predict(X)\n",
    "    precisions.append(precision_score(y, y_preds))\n",
    "    recalls.append(recall_score(y, y_preds))\n",
    "    accuracies.append(accuracy_score(y, y_preds))\n",
    "\n",
    "print(f'Accuracies as scale_pos_weight increases: {accuracies}')\n",
    "\n",
    "fig, ax = plt.subplots()\n",
    "\n",
    "ax.set(ylabel = 'Precision', xlabel = 'Recall')\n",
    "\n",
    "sns.scatterplot(x = recalls, y = precisions);"
   ]
  },
  {
   "cell_type": "markdown",
   "metadata": {},
   "source": [
    "Unfortunately, as we increase `scale_pos_weight`, recall improves as expected, but we also see a steady and immediate decline in both precision and accuracy."
   ]
  },
  {
   "cell_type": "markdown",
   "metadata": {},
   "source": [
    "I'm going to test some values between 1 and 2 for scale_pos_weight, just in case we have a little room to budge between the top left point and the next one to the right, but at this point, I doubt that we will be able to get away with this approach to the class imbalance."
   ]
  },
  {
   "cell_type": "code",
   "execution_count": 57,
   "metadata": {},
   "outputs": [
    {
     "name": "stdout",
     "output_type": "stream",
     "text": [
      "Accuracies as scale_pos_weight increases: [0.877630809033636, 0.8776281851123957, 0.8776780396159629, 0.8773395537759539, 0.8742879333733918]\n"
     ]
    },
    {
     "data": {
      "image/png": "[encoded data removed]",
      "text/plain": [
       "<Figure size 432x288 with 1 Axes>"
      ]
     },
     "metadata": {
      "needs_background": "light"
     },
     "output_type": "display_data"
    }
   ],
   "source": [
    "# try adjusting scale_pos_weight to deal with class imbalance\n",
    "\n",
    "# try values for scale_pos_weight from 1 to 1.5\n",
    "class_ratios = [1, 1.05, 1.1, 1.2, 1.5]\n",
    "\n",
    "# store info about precision, recall & accuracy for each model\n",
    "precisions = []\n",
    "recalls = []\n",
    "accuracies = []\n",
    "\n",
    "# enumerate class_ratios to access colors by index when plotting\n",
    "for i, class_ratio in enumerate(class_ratios):\n",
    "\n",
    "    # instantiate the XG Boost classifier\n",
    "    xgb = XGBClassifier(random_state = seed,\n",
    "                        scale_pos_weight = class_ratio)\n",
    "\n",
    "    # fit to data\n",
    "    xgb.fit(X, y)\n",
    "    \n",
    "    # record precision, recall and accuracy\n",
    "    y_preds = xgb.predict(X)\n",
    "    precisions.append(precision_score(y, y_preds))\n",
    "    recalls.append(recall_score(y, y_preds))\n",
    "    accuracies.append(accuracy_score(y, y_preds))\n",
    "\n",
    "print(f'Accuracies as scale_pos_weight increases: {accuracies}')\n",
    "\n",
    "fig, ax = plt.subplots()\n",
    "\n",
    "ax.set(ylabel = 'Precision', xlabel = 'Recall')\n",
    "\n",
    "sns.scatterplot(x = recalls, y = precisions);"
   ]
  },
  {
   "cell_type": "markdown",
   "metadata": {},
   "source": [
    "Even with very minimal increases in `scale_pos_weight`, we see immediate sharp decline in precision (though accuracy doesn't decline nearly as badly over this small range.)"
   ]
  },
  {
   "cell_type": "markdown",
   "metadata": {},
   "source": [
    "<mark>--------</mark>"
   ]
  },
  {
   "cell_type": "markdown",
   "metadata": {},
   "source": [
    "This model sorely needs a way to deal with the class imbalance in the dataset."
   ]
  },
  {
   "cell_type": "markdown",
   "metadata": {},
   "source": [
    "We could...\n",
    "\n",
    "- Train several XGBoost Classifiers on the data, using all of the minority class data and an equal subset of the majority class data, then stack these models using a majority vote. (We could even weight the votes based on their out of bag error, but we need to determine a way to make these weights add up to 1.)\n",
    "- Simply undersample the data and train a model on that subset only. (I might do this first, then try the above stacking method.)\n",
    "- Additionally, we can iterate on the first item by playing around with the class weight ratio *within* the algorithm and from classifier to classifier in our model stack.\n",
    "- If XGBoost has a class weights parameter, we can try tuning that (although I'm not sure what exactly that would affect with XGBoost.)\n",
    "- Worst case scenario, we could try designing our own cost function that penalizes false negatives (but this sounds like a *lot* of work to implement.)"
   ]
  },
  {
   "cell_type": "markdown",
   "metadata": {},
   "source": [
    "<mark>------</mark>"
   ]
  },
  {
   "cell_type": "markdown",
   "metadata": {},
   "source": [
    "#### Undersampling"
   ]
  },
  {
   "cell_type": "markdown",
   "metadata": {},
   "source": [
    "In order to select a subset of the training data which has an equal number of positive and negative cases, I am going to make one big dataframe with features and target, select ALL records of the minority class, and then draw a random sample (using a built in method for Pandas dataframes) of records from the majority class so that I have the same number of majority as minority class records."
   ]
  },
  {
   "cell_type": "code",
   "execution_count": 50,
   "metadata": {},
   "outputs": [
    {
     "name": "stdout",
     "output_type": "stream",
     "text": [
      "              precision    recall  f1-score   support\n",
      "\n",
      "           0       0.90      0.67      0.77     34992\n",
      "           1       0.74      0.93      0.82     35073\n",
      "\n",
      "    accuracy                           0.80     70065\n",
      "   macro avg       0.82      0.80      0.79     70065\n",
      "weighted avg       0.82      0.80      0.79     70065\n",
      "\n"
     ]
    }
   ],
   "source": [
    "# concatenate X and y to select records by target value\n",
    "preprocessed = pd.concat([X, y], axis=1)\n",
    "\n",
    "# separate the minority and majority class data\n",
    "minority_class = preprocessed.loc[ preprocessed['Response'] == 1 ]\n",
    "majority_class = preprocessed.loc[ preprocessed['Response'] == 0 ]\n",
    "\n",
    "# grab a subset of majority_class that is equal in size to minority_class\n",
    "majority_subset = majority_class.sample(n = len(minority_class),\n",
    "                                        axis = 0,\n",
    "                                        random_state = seed)\n",
    "\n",
    "# concatenate majority & minority class records into one sample\n",
    "sample = pd.concat([minority_class, majority_subset], axis = 0)\n",
    "\n",
    "# separate features and target\n",
    "small_X = sample.drop(['Response'], axis = 1)\n",
    "small_y = sample['Response']\n",
    "\n",
    "# train test split\n",
    "X_train, X_test, y_train, y_test = train_test_split(small_X,\n",
    "                                                    small_y,\n",
    "                                                    random_state = seed)\n",
    "\n",
    "# instantiate & fit XGBoost Classifier to training data\n",
    "xgb2 = XGBClassifier(random_state = seed)\n",
    "xgb2.fit(X_train, y_train)\n",
    "\n",
    "# inspect metrics of model on training data\n",
    "y_train_preds = xgb2.predict(X_train)\n",
    "print(classification_report(y_train, y_train_preds))"
   ]
  },
  {
   "cell_type": "markdown",
   "metadata": {},
   "source": [
    "This model's accuracy is 80%, recall is 93%, and precision is 74%. (These are the actually the same stats that I got when I tried implementing XGBoost \"by hand\", so that I could use a different subset of the majority class each time to train that stage of the model. Apparently, that effort wasn't worth it because it didn't improve upon the scores I just got with using only one random sample of the majority class.)\n",
    "\n",
    "To interpret in context, 74% of the leads from this model will convert, and we will capture 93% of the \"market\" (where the market is limited to potential vehicle insurance purchasers within our existing health insurance customers.) This honestly is not terrible in practice."
   ]
  },
  {
   "cell_type": "code",
   "execution_count": 51,
   "metadata": {},
   "outputs": [
    {
     "name": "stdout",
     "output_type": "stream",
     "text": [
      "              precision    recall  f1-score   support\n",
      "\n",
      "           0       0.90      0.67      0.77     11718\n",
      "           1       0.74      0.92      0.82     11637\n",
      "\n",
      "    accuracy                           0.80     23355\n",
      "   macro avg       0.82      0.80      0.79     23355\n",
      "weighted avg       0.82      0.80      0.79     23355\n",
      "\n"
     ]
    }
   ],
   "source": [
    "# inspect metrics of model on test data\n",
    "y_test_preds = xgb2.predict(X_test)\n",
    "print(classification_report(y_test, y_test_preds))"
   ]
  },
  {
   "cell_type": "markdown",
   "metadata": {},
   "source": [
    "Almost every metric is the same for the model's performance on training vs. test data. So the model doesn't seem to be particularly overfit or underfit."
   ]
  },
  {
   "cell_type": "markdown",
   "metadata": {},
   "source": [
    "#### Grid Search for Best Hyperparameters"
   ]
  },
  {
   "cell_type": "markdown",
   "metadata": {},
   "source": [
    "<mark>**</mark> may also want to try `reg_lambda = 0.5` (to \"underpenalize\" positives)"
   ]
  },
  {
   "cell_type": "code",
   "execution_count": 59,
   "metadata": {},
   "outputs": [
    {
     "name": "stdout",
     "output_type": "stream",
     "text": [
      "{'mean_fit_time': array([8.72188091e-02, 5.67330313e-01, 1.11700854e+00, 2.70196724e-01,\n",
      "       2.66868095e+00, 5.28614125e+00, 3.67630386e-01, 3.63243527e+00,\n",
      "       7.56338286e+00, 9.05257702e-02, 5.78142977e-01, 1.12327991e+00,\n",
      "       2.86065292e-01, 2.38789234e+00, 1.17644715e+03, 1.95417810e+02,\n",
      "       8.83609368e+02, 2.35651213e+03, 8.01864624e-02, 1.89989641e+02,\n",
      "       1.96452916e+02, 3.18100977e-01, 5.81932794e+02, 9.50680507e+02,\n",
      "       4.58096504e-01, 7.89098400e+02, 1.42541707e+03]), 'std_fit_time': array([1.48588313e-02, 5.27465871e-02, 3.65851335e-02, 1.04311774e-02,\n",
      "       1.31900773e-01, 1.88314198e-01, 3.01811643e-02, 1.82256057e-01,\n",
      "       1.60459630e-01, 1.21503204e-02, 1.29744706e-02, 7.02393662e-02,\n",
      "       3.83501801e-02, 1.57374116e-01, 9.56916660e+02, 3.89254644e+02,\n",
      "       6.15789650e+02, 1.01730196e+03, 4.58575239e-03, 3.78476900e+02,\n",
      "       3.90708329e+02, 1.99106003e-02, 4.75050834e+02, 5.02565487e+01,\n",
      "       5.30565494e-02, 3.94064260e+02, 4.68873396e+02]), 'mean_score_time': array([0.00752277, 0.00844398, 0.01008663, 0.00845633, 0.01571326,\n",
      "       0.02909555, 0.00864568, 0.01987104, 0.03617582, 0.00708947,\n",
      "       0.00905118, 0.00992918, 0.00867286, 0.01972389, 0.03796506,\n",
      "       0.05717945, 0.03090701, 0.05737686, 0.00806713, 0.01148114,\n",
      "       0.00996594, 0.00901222, 0.02161579, 0.03790226, 0.00938954,\n",
      "       0.042835  , 0.05624323]), 'std_score_time': array([0.00104487, 0.0015198 , 0.00072535, 0.00116316, 0.00181654,\n",
      "       0.00238149, 0.0011233 , 0.00138699, 0.00419468, 0.00049856,\n",
      "       0.00112292, 0.00162881, 0.00079829, 0.00111823, 0.00542378,\n",
      "       0.09082403, 0.00238061, 0.01028941, 0.0017451 , 0.00446867,\n",
      "       0.00111436, 0.00095927, 0.00130049, 0.00487982, 0.00102757,\n",
      "       0.01738524, 0.00573359]), 'param_learning_rate': masked_array(data=[0.01, 0.01, 0.01, 0.01, 0.01, 0.01, 0.01, 0.01, 0.01,\n",
      "                   0.1, 0.1, 0.1, 0.1, 0.1, 0.1, 0.1, 0.1, 0.1, 0.2, 0.2,\n",
      "                   0.2, 0.2, 0.2, 0.2, 0.2, 0.2, 0.2],\n",
      "             mask=[False, False, False, False, False, False, False, False,\n",
      "                   False, False, False, False, False, False, False, False,\n",
      "                   False, False, False, False, False, False, False, False,\n",
      "                   False, False, False],\n",
      "       fill_value='?',\n",
      "            dtype=object), 'param_max_depth': masked_array(data=[1, 1, 1, 10, 10, 10, 15, 15, 15, 1, 1, 1, 10, 10, 10,\n",
      "                   15, 15, 15, 1, 1, 1, 10, 10, 10, 15, 15, 15],\n",
      "             mask=[False, False, False, False, False, False, False, False,\n",
      "                   False, False, False, False, False, False, False, False,\n",
      "                   False, False, False, False, False, False, False, False,\n",
      "                   False, False, False],\n",
      "       fill_value='?',\n",
      "            dtype=object), 'param_n_estimators': masked_array(data=[10, 100, 200, 10, 100, 200, 10, 100, 200, 10, 100, 200,\n",
      "                   10, 100, 200, 10, 100, 200, 10, 100, 200, 10, 100, 200,\n",
      "                   10, 100, 200],\n",
      "             mask=[False, False, False, False, False, False, False, False,\n",
      "                   False, False, False, False, False, False, False, False,\n",
      "                   False, False, False, False, False, False, False, False,\n",
      "                   False, False, False],\n",
      "       fill_value='?',\n",
      "            dtype=object), 'params': [{'learning_rate': 0.01, 'max_depth': 1, 'n_estimators': 10}, {'learning_rate': 0.01, 'max_depth': 1, 'n_estimators': 100}, {'learning_rate': 0.01, 'max_depth': 1, 'n_estimators': 200}, {'learning_rate': 0.01, 'max_depth': 10, 'n_estimators': 10}, {'learning_rate': 0.01, 'max_depth': 10, 'n_estimators': 100}, {'learning_rate': 0.01, 'max_depth': 10, 'n_estimators': 200}, {'learning_rate': 0.01, 'max_depth': 15, 'n_estimators': 10}, {'learning_rate': 0.01, 'max_depth': 15, 'n_estimators': 100}, {'learning_rate': 0.01, 'max_depth': 15, 'n_estimators': 200}, {'learning_rate': 0.1, 'max_depth': 1, 'n_estimators': 10}, {'learning_rate': 0.1, 'max_depth': 1, 'n_estimators': 100}, {'learning_rate': 0.1, 'max_depth': 1, 'n_estimators': 200}, {'learning_rate': 0.1, 'max_depth': 10, 'n_estimators': 10}, {'learning_rate': 0.1, 'max_depth': 10, 'n_estimators': 100}, {'learning_rate': 0.1, 'max_depth': 10, 'n_estimators': 200}, {'learning_rate': 0.1, 'max_depth': 15, 'n_estimators': 10}, {'learning_rate': 0.1, 'max_depth': 15, 'n_estimators': 100}, {'learning_rate': 0.1, 'max_depth': 15, 'n_estimators': 200}, {'learning_rate': 0.2, 'max_depth': 1, 'n_estimators': 10}, {'learning_rate': 0.2, 'max_depth': 1, 'n_estimators': 100}, {'learning_rate': 0.2, 'max_depth': 1, 'n_estimators': 200}, {'learning_rate': 0.2, 'max_depth': 10, 'n_estimators': 10}, {'learning_rate': 0.2, 'max_depth': 10, 'n_estimators': 100}, {'learning_rate': 0.2, 'max_depth': 10, 'n_estimators': 200}, {'learning_rate': 0.2, 'max_depth': 15, 'n_estimators': 10}, {'learning_rate': 0.2, 'max_depth': 15, 'n_estimators': 100}, {'learning_rate': 0.2, 'max_depth': 15, 'n_estimators': 200}], 'split0_test_score': array([0.69382392, 0.7074556 , 0.7074556 , 0.73315303, 0.73427602,\n",
      "       0.73466153, 0.73617947, 0.73572407, 0.73527066, 0.7074556 ,\n",
      "       0.71994448, 0.72935169, 0.73432194, 0.73355932, 0.73465683,\n",
      "       0.73572407, 0.73437145, 0.73443369, 0.7074556 , 0.72994325,\n",
      "       0.73036329, 0.73488109, 0.73422606, 0.73430226, 0.73473565,\n",
      "       0.7343661 , 0.73480096]), 'split1_test_score': array([0.69271202, 0.70818248, 0.70818248, 0.73519401, 0.74093445,\n",
      "       0.74127907, 0.73884031, 0.73826736, 0.73738296, 0.70818248,\n",
      "       0.7247069 , 0.73256722, 0.74112443, 0.73805168, 0.73710102,\n",
      "       0.73826736, 0.73692642, 0.73679991, 0.70818248, 0.73259705,\n",
      "       0.73694435, 0.74122297, 0.73734141, 0.73682405, 0.73704042,\n",
      "       0.73651666, 0.73657084]), 'split2_test_score': array([0.70557384, 0.70557384, 0.70557384, 0.73230769, 0.73376846,\n",
      "       0.7339439 , 0.73315735, 0.73248772, 0.73260994, 0.70557384,\n",
      "       0.7245167 , 0.7248654 , 0.73369254, 0.73373728, 0.73331043,\n",
      "       0.73240402, 0.73313515, 0.7326087 , 0.70557384, 0.72646086,\n",
      "       0.73177113, 0.7335008 , 0.73206342, 0.73270836, 0.7338451 ,\n",
      "       0.73278426, 0.73266987]), 'split3_test_score': array([0.68828305, 0.70296319, 0.70296319, 0.72429029, 0.72437458,\n",
      "       0.72683688, 0.72691618, 0.72707889, 0.72589116, 0.70296319,\n",
      "       0.71872304, 0.72403952, 0.72434407, 0.73179296, 0.72624888,\n",
      "       0.72707889, 0.72640664, 0.7264574 , 0.70296319, 0.72553989,\n",
      "       0.72901572, 0.72654245, 0.72536151, 0.7261054 , 0.7262451 ,\n",
      "       0.72618247, 0.72631461]), 'split4_test_score': array([0.68968989, 0.70308642, 0.70308642, 0.73072588, 0.7328218 ,\n",
      "       0.73257939, 0.73228705, 0.73145838, 0.73184294, 0.70308642,\n",
      "       0.71799589, 0.72252055, 0.73325688, 0.7307953 , 0.73183724,\n",
      "       0.73154134, 0.73156878, 0.73203729, 0.70308642, 0.72242305,\n",
      "       0.72916431, 0.73205523, 0.73488426, 0.73231922, 0.7321753 ,\n",
      "       0.73181818, 0.73195994]), 'mean_test_score': array([0.69401654, 0.7054523 , 0.7054523 , 0.73113418, 0.73323506,\n",
      "       0.73386016, 0.73347607, 0.73300328, 0.73259953, 0.7054523 ,\n",
      "       0.7211774 , 0.72666887, 0.73334797, 0.73358731, 0.73263088,\n",
      "       0.73300314, 0.73248169, 0.7324674 , 0.7054523 , 0.72739282,\n",
      "       0.73145176, 0.73364051, 0.73277533, 0.73245186, 0.73280831,\n",
      "       0.73233353, 0.73246324]), 'std_test_score': array([0.00611396, 0.00215754, 0.00215754, 0.00371324, 0.00527878,\n",
      "       0.00461858, 0.00401574, 0.00381744, 0.00388821, 0.00215754,\n",
      "       0.00287313, 0.00372458, 0.00534077, 0.00248873, 0.00363065,\n",
      "       0.00381334, 0.00350695, 0.00343401, 0.00215754, 0.00353806,\n",
      "       0.00291966, 0.00473176, 0.00407119, 0.00354686, 0.00363804,\n",
      "       0.0034622 , 0.00347675]), 'rank_test_score': array([27, 23, 23, 19,  6,  1,  4,  7, 12, 23, 22, 21,  5,  3, 11,  8, 13,\n",
      "       14, 23, 20, 18,  2, 10, 16,  9, 17, 15], dtype=int32)}\n"
     ]
    }
   ],
   "source": [
    "# create a parameter grid over which to search\n",
    "param_grid = [\n",
    "    {\n",
    "        'n_estimators': [10, 100, 200], # default is 100\n",
    "        'max_depth': [1, 10, 15], # default is 6\n",
    "        'learning_rate': [0.01, 0.1, 0.2] # default is 0.3\n",
    "    }\n",
    "]\n",
    "\n",
    "# instantiate a fresh XGBoost Classifier\n",
    "xgb3 = XGBClassifier(random_state = seed)\n",
    "\n",
    "# instantiate a grid search object\n",
    "cv = GridSearchCV(xgb3,\n",
    "                  param_grid,\n",
    "                  scoring = 'precision')\n",
    "\n",
    "# fit to training data (which is the undersampled sample)\n",
    "cv.fit(X_train, y_train)"
   ]
  },
  {
   "cell_type": "code",
   "execution_count": 64,
   "metadata": {},
   "outputs": [],
   "source": [
    "xgb4 = cv.best_estimator_"
   ]
  },
  {
   "cell_type": "code",
   "execution_count": 65,
   "metadata": {},
   "outputs": [
    {
     "name": "stdout",
     "output_type": "stream",
     "text": [
      "              precision    recall  f1-score   support\n",
      "\n",
      "           0       0.90      0.67      0.77     34992\n",
      "           1       0.74      0.93      0.82     35073\n",
      "\n",
      "    accuracy                           0.80     70065\n",
      "   macro avg       0.82      0.80      0.79     70065\n",
      "weighted avg       0.82      0.80      0.79     70065\n",
      "\n"
     ]
    }
   ],
   "source": [
    "# instantiate best estimator\n",
    "xgb4 = cv.best_estimator_\n",
    "\n",
    "# fit to training data\n",
    "xgb4.fit(X_train, y_train)\n",
    "\n",
    "# make predictions & print classification report\n",
    "y_train_preds = xgb4.predict(X_train)\n",
    "print(classification_report(y_train, y_train_preds))"
   ]
  },
  {
   "cell_type": "markdown",
   "metadata": {},
   "source": [
    "The parameter search didn't yield much fruit. We still have the same results we had with the previous model. Let's try oversampling, and let's also revisit feature selection."
   ]
  },
  {
   "cell_type": "markdown",
   "metadata": {},
   "source": [
    "#### Feature Selection round 2"
   ]
  },
  {
   "cell_type": "code",
   "execution_count": 76,
   "metadata": {},
   "outputs": [
    {
     "data": {
      "text/html": [
       "<div>\n",
       "<style scoped>\n",
       "    .dataframe tbody tr th:only-of-type {\n",
       "        vertical-align: middle;\n",
       "    }\n",
       "\n",
       "    .dataframe tbody tr th {\n",
       "        vertical-align: top;\n",
       "    }\n",
       "\n",
       "    .dataframe thead th {\n",
       "        text-align: right;\n",
       "    }\n",
       "</style>\n",
       "<table border=\"1\" class=\"dataframe\">\n",
       "  <thead>\n",
       "    <tr style=\"text-align: right;\">\n",
       "      <th></th>\n",
       "      <th>Age</th>\n",
       "      <th>Driving_License</th>\n",
       "      <th>Previously_Insured</th>\n",
       "      <th>Vehicle_Damage</th>\n",
       "      <th>1-2YR</th>\n",
       "      <th>under_1YR</th>\n",
       "      <th>over_2YR</th>\n",
       "    </tr>\n",
       "    <tr>\n",
       "      <th>id</th>\n",
       "      <th></th>\n",
       "      <th></th>\n",
       "      <th></th>\n",
       "      <th></th>\n",
       "      <th></th>\n",
       "      <th></th>\n",
       "      <th></th>\n",
       "    </tr>\n",
       "  </thead>\n",
       "  <tbody>\n",
       "    <tr>\n",
       "      <th>1</th>\n",
       "      <td>44</td>\n",
       "      <td>1</td>\n",
       "      <td>0</td>\n",
       "      <td>1</td>\n",
       "      <td>0.0</td>\n",
       "      <td>0.0</td>\n",
       "      <td>1.0</td>\n",
       "    </tr>\n",
       "    <tr>\n",
       "      <th>2</th>\n",
       "      <td>76</td>\n",
       "      <td>1</td>\n",
       "      <td>0</td>\n",
       "      <td>0</td>\n",
       "      <td>1.0</td>\n",
       "      <td>0.0</td>\n",
       "      <td>0.0</td>\n",
       "    </tr>\n",
       "    <tr>\n",
       "      <th>3</th>\n",
       "      <td>47</td>\n",
       "      <td>1</td>\n",
       "      <td>0</td>\n",
       "      <td>1</td>\n",
       "      <td>0.0</td>\n",
       "      <td>0.0</td>\n",
       "      <td>1.0</td>\n",
       "    </tr>\n",
       "    <tr>\n",
       "      <th>4</th>\n",
       "      <td>21</td>\n",
       "      <td>1</td>\n",
       "      <td>1</td>\n",
       "      <td>0</td>\n",
       "      <td>0.0</td>\n",
       "      <td>1.0</td>\n",
       "      <td>0.0</td>\n",
       "    </tr>\n",
       "    <tr>\n",
       "      <th>5</th>\n",
       "      <td>29</td>\n",
       "      <td>1</td>\n",
       "      <td>1</td>\n",
       "      <td>0</td>\n",
       "      <td>0.0</td>\n",
       "      <td>1.0</td>\n",
       "      <td>0.0</td>\n",
       "    </tr>\n",
       "  </tbody>\n",
       "</table>\n",
       "</div>"
      ],
      "text/plain": [
       "    Age  Driving_License  Previously_Insured  Vehicle_Damage  1-2YR  \\\n",
       "id                                                                    \n",
       "1    44                1                   0               1    0.0   \n",
       "2    76                1                   0               0    1.0   \n",
       "3    47                1                   0               1    0.0   \n",
       "4    21                1                   1               0    0.0   \n",
       "5    29                1                   1               0    0.0   \n",
       "\n",
       "    under_1YR  over_2YR  \n",
       "id                       \n",
       "1         0.0       1.0  \n",
       "2         0.0       0.0  \n",
       "3         0.0       1.0  \n",
       "4         1.0       0.0  \n",
       "5         1.0       0.0  "
      ]
     },
     "execution_count": 76,
     "metadata": {},
     "output_type": "execute_result"
    }
   ],
   "source": [
    "# what if we take the policy channels out?\n",
    "# make a copy of X for trimming\n",
    "X_trim = X.copy()\n",
    "\n",
    "for channel_code in top_5_channels:\n",
    "    X_trim.drop([f'channel{int(channel_code)}'], axis = 1, inplace = True)\n",
    "    \n",
    "# check\n",
    "X_trim.head()"
   ]
  },
  {
   "cell_type": "code",
   "execution_count": 89,
   "metadata": {},
   "outputs": [],
   "source": [
    "# undersample\n",
    "# concatenate X and y to select records by target value\n",
    "preprocessed = pd.concat([X_trim, y], axis=1)\n",
    "\n",
    "# separate the minority and majority class data\n",
    "minority_class = preprocessed.loc[ preprocessed['Response'] == 1 ]\n",
    "majority_class = preprocessed.loc[ preprocessed['Response'] == 0 ]\n",
    "\n",
    "# grab a subset of majority_class that is equal in size to minority_class\n",
    "majority_subset = majority_class.sample(n = len(minority_class),\n",
    "                                        axis = 0,\n",
    "                                        random_state = seed)\n",
    "\n",
    "# concatenate majority & minority class records into one sample\n",
    "sample = pd.concat([minority_class, majority_subset], axis = 0)\n",
    "\n",
    "# separate features and target\n",
    "small_X = sample.drop(['Response'], axis = 1)\n",
    "small_y = sample['Response']\n",
    "\n",
    "# redo train test split\n",
    "X_train, X_test, y_train, y_test = train_test_split(small_X,\n",
    "                                                    small_y,\n",
    "                                                    random_state = seed)"
   ]
  },
  {
   "cell_type": "code",
   "execution_count": 90,
   "metadata": {},
   "outputs": [
    {
     "name": "stdout",
     "output_type": "stream",
     "text": [
      "              precision    recall  f1-score   support\n",
      "\n",
      "           0       0.90      0.66      0.76     34992\n",
      "           1       0.73      0.92      0.82     35073\n",
      "\n",
      "    accuracy                           0.79     70065\n",
      "   macro avg       0.82      0.79      0.79     70065\n",
      "weighted avg       0.82      0.79      0.79     70065\n",
      "\n"
     ]
    }
   ],
   "source": [
    "# rerun best XGBoost Classifier\n",
    "\n",
    "# fit to training data\n",
    "xgb4.fit(X_train, y_train)\n",
    "\n",
    "# make predictions & print classification report\n",
    "y_train_preds = xgb4.predict(X_train)\n",
    "print(classification_report(y_train, y_train_preds))"
   ]
  },
  {
   "cell_type": "markdown",
   "metadata": {},
   "source": [
    "This is slightly worse than the previous model. So the top 5 policy channels flag has some predictive power."
   ]
  },
  {
   "cell_type": "code",
   "execution_count": 91,
   "metadata": {},
   "outputs": [
    {
     "data": {
      "image/png": "[encoded data removed]",
      "text/plain": [
       "<Figure size 432x288 with 2 Axes>"
      ]
     },
     "metadata": {
      "needs_background": "light"
     },
     "output_type": "display_data"
    }
   ],
   "source": [
    "ConfusionMatrixDisplay(confusion_matrix(y_train, y_train_preds)).plot();"
   ]
  },
  {
   "cell_type": "markdown",
   "metadata": {},
   "source": [
    "<mark>I honestly might be fine with the stats we have so far.</mark> But let's try one last thing: SMOTE."
   ]
  },
  {
   "cell_type": "markdown",
   "metadata": {},
   "source": [
    "#### SMOTE"
   ]
  },
  {
   "cell_type": "code",
   "execution_count": 97,
   "metadata": {},
   "outputs": [
    {
     "name": "stdout",
     "output_type": "stream",
     "text": [
      "Model Metrics on Training Data:\n",
      "              precision    recall  f1-score   support\n",
      "\n",
      "           0       0.92      0.65      0.76    250727\n",
      "           1       0.73      0.94      0.82    250871\n",
      "\n",
      "    accuracy                           0.80    501598\n",
      "   macro avg       0.83      0.80      0.79    501598\n",
      "weighted avg       0.83      0.80      0.79    501598\n",
      "\n",
      "Model Metrics on Test Data:\n",
      "              precision    recall  f1-score   support\n",
      "\n",
      "           0       0.92      0.65      0.76     83672\n",
      "           1       0.73      0.94      0.82     83528\n",
      "\n",
      "    accuracy                           0.80    167200\n",
      "   macro avg       0.82      0.80      0.79    167200\n",
      "weighted avg       0.82      0.80      0.79    167200\n",
      "\n"
     ]
    }
   ],
   "source": [
    "# go back to X and oversample with SMOTE\n",
    "over_sample = SMOTE(random_state = seed)\n",
    "big_X, big_y = over_sample.fit_resample(X, y)\n",
    "\n",
    "# train_test_split\n",
    "X_train, X_test, y_train, y_test = train_test_split(big_X,\n",
    "                                                    big_y,\n",
    "                                                    random_state = seed)\n",
    "\n",
    "# train a model and check classification report\n",
    "xgb5 = XGBClassifier(random_state = seed)\n",
    "xgb5.fit(X_train, y_train)\n",
    "y_train_preds = xgb5.predict(X_train)\n",
    "y_test_preds = xgb5.predict(X_test)\n",
    "print(f'Model Metrics on Training Data:')\n",
    "print(classification_report(y_train, y_train_preds))\n",
    "print(f'Model Metrics on Test Data:')\n",
    "print(classification_report(y_test, y_test_preds))"
   ]
  },
  {
   "cell_type": "markdown",
   "metadata": {},
   "source": [
    "Metrics did not improve."
   ]
  },
  {
   "cell_type": "markdown",
   "metadata": {},
   "source": [
    "#### Under & Over Sample"
   ]
  },
  {
   "cell_type": "markdown",
   "metadata": {},
   "source": [
    "This will be my last try with XGBoost Classifier. Randomly undersampling, followed by oversampling with SMOTE, is said to perform better than just randomly undersampling (which is what I did \"by hand\" earlier, but there is actually a package in imblearn which will do it for me.)"
   ]
  },
  {
   "cell_type": "code",
   "execution_count": 101,
   "metadata": {},
   "outputs": [],
   "source": [
    "# instantiate random under sample -er and SMOTE\n",
    "rus = RandomUnderSampler(sampling_strategy = 0.3, # bring to 3:7 ratio\n",
    "                         random_state = seed)\n",
    "sos = SMOTE(random_state = seed) # then create synthetic exs to reach 1:1\n",
    "\n",
    "pipe = Pipeline(steps=\n",
    "               [\n",
    "                   ('undersample', rus),\n",
    "                   ('oversample', sos)\n",
    "               ])\n",
    "\n",
    "X_resampled, y_resampled = pipe.fit_resample(X, y)"
   ]
  },
  {
   "cell_type": "code",
   "execution_count": 102,
   "metadata": {},
   "outputs": [
    {
     "name": "stdout",
     "output_type": "stream",
     "text": [
      "Model Metrics on Training Data:\n",
      "              precision    recall  f1-score   support\n",
      "\n",
      "           0       0.90      0.67      0.77    116831\n",
      "           1       0.74      0.92      0.82    116719\n",
      "\n",
      "    accuracy                           0.80    233550\n",
      "   macro avg       0.82      0.80      0.80    233550\n",
      "weighted avg       0.82      0.80      0.80    233550\n",
      "\n",
      "Model Metrics on Test Data:\n",
      "              precision    recall  f1-score   support\n",
      "\n",
      "           0       0.89      0.67      0.77     38869\n",
      "           1       0.74      0.92      0.82     38981\n",
      "\n",
      "    accuracy                           0.80     77850\n",
      "   macro avg       0.82      0.80      0.79     77850\n",
      "weighted avg       0.82      0.80      0.79     77850\n",
      "\n"
     ]
    }
   ],
   "source": [
    "# train test split\n",
    "X_train, X_test, y_train, y_test = train_test_split(X_resampled,\n",
    "                                                    y_resampled,\n",
    "                                                    random_state = seed)\n",
    "\n",
    "# train a model and check classification report\n",
    "xgb5.fit(X_train, y_train)\n",
    "y_train_preds = xgb5.predict(X_train)\n",
    "y_test_preds = xgb5.predict(X_test)\n",
    "print(f'Model Metrics on Training Data:')\n",
    "print(classification_report(y_train, y_train_preds))\n",
    "print(f'Model Metrics on Test Data:')\n",
    "print(classification_report(y_test, y_test_preds))"
   ]
  },
  {
   "cell_type": "markdown",
   "metadata": {},
   "source": [
    "Once more, metrics did not improve."
   ]
  },
  {
   "cell_type": "markdown",
   "metadata": {},
   "source": [
    "### Logistic Regression"
   ]
  },
  {
   "cell_type": "markdown",
   "metadata": {},
   "source": [
    "We have achieved all the success (seemingly) that we can with an XGBoost Classifier. Let's give logistic regression a try."
   ]
  },
  {
   "cell_type": "code",
   "execution_count": 103,
   "metadata": {},
   "outputs": [
    {
     "data": {
      "text/html": [
       "<div>\n",
       "<style scoped>\n",
       "    .dataframe tbody tr th:only-of-type {\n",
       "        vertical-align: middle;\n",
       "    }\n",
       "\n",
       "    .dataframe tbody tr th {\n",
       "        vertical-align: top;\n",
       "    }\n",
       "\n",
       "    .dataframe thead th {\n",
       "        text-align: right;\n",
       "    }\n",
       "</style>\n",
       "<table border=\"1\" class=\"dataframe\">\n",
       "  <thead>\n",
       "    <tr style=\"text-align: right;\">\n",
       "      <th></th>\n",
       "      <th>Age</th>\n",
       "      <th>Driving_License</th>\n",
       "      <th>Previously_Insured</th>\n",
       "      <th>Vehicle_Damage</th>\n",
       "      <th>channel26</th>\n",
       "      <th>channel124</th>\n",
       "      <th>channel152</th>\n",
       "      <th>channel156</th>\n",
       "      <th>channel157</th>\n",
       "      <th>1-2YR</th>\n",
       "      <th>under_1YR</th>\n",
       "      <th>over_2YR</th>\n",
       "    </tr>\n",
       "    <tr>\n",
       "      <th>id</th>\n",
       "      <th></th>\n",
       "      <th></th>\n",
       "      <th></th>\n",
       "      <th></th>\n",
       "      <th></th>\n",
       "      <th></th>\n",
       "      <th></th>\n",
       "      <th></th>\n",
       "      <th></th>\n",
       "      <th></th>\n",
       "      <th></th>\n",
       "      <th></th>\n",
       "    </tr>\n",
       "  </thead>\n",
       "  <tbody>\n",
       "    <tr>\n",
       "      <th>1</th>\n",
       "      <td>44</td>\n",
       "      <td>1</td>\n",
       "      <td>0</td>\n",
       "      <td>1</td>\n",
       "      <td>1</td>\n",
       "      <td>0</td>\n",
       "      <td>0</td>\n",
       "      <td>0</td>\n",
       "      <td>0</td>\n",
       "      <td>0.0</td>\n",
       "      <td>0.0</td>\n",
       "      <td>1.0</td>\n",
       "    </tr>\n",
       "    <tr>\n",
       "      <th>2</th>\n",
       "      <td>76</td>\n",
       "      <td>1</td>\n",
       "      <td>0</td>\n",
       "      <td>0</td>\n",
       "      <td>1</td>\n",
       "      <td>0</td>\n",
       "      <td>0</td>\n",
       "      <td>0</td>\n",
       "      <td>0</td>\n",
       "      <td>1.0</td>\n",
       "      <td>0.0</td>\n",
       "      <td>0.0</td>\n",
       "    </tr>\n",
       "    <tr>\n",
       "      <th>3</th>\n",
       "      <td>47</td>\n",
       "      <td>1</td>\n",
       "      <td>0</td>\n",
       "      <td>1</td>\n",
       "      <td>1</td>\n",
       "      <td>0</td>\n",
       "      <td>0</td>\n",
       "      <td>0</td>\n",
       "      <td>0</td>\n",
       "      <td>0.0</td>\n",
       "      <td>0.0</td>\n",
       "      <td>1.0</td>\n",
       "    </tr>\n",
       "    <tr>\n",
       "      <th>4</th>\n",
       "      <td>21</td>\n",
       "      <td>1</td>\n",
       "      <td>1</td>\n",
       "      <td>0</td>\n",
       "      <td>0</td>\n",
       "      <td>0</td>\n",
       "      <td>1</td>\n",
       "      <td>0</td>\n",
       "      <td>0</td>\n",
       "      <td>0.0</td>\n",
       "      <td>1.0</td>\n",
       "      <td>0.0</td>\n",
       "    </tr>\n",
       "    <tr>\n",
       "      <th>5</th>\n",
       "      <td>29</td>\n",
       "      <td>1</td>\n",
       "      <td>1</td>\n",
       "      <td>0</td>\n",
       "      <td>0</td>\n",
       "      <td>0</td>\n",
       "      <td>1</td>\n",
       "      <td>0</td>\n",
       "      <td>0</td>\n",
       "      <td>0.0</td>\n",
       "      <td>1.0</td>\n",
       "      <td>0.0</td>\n",
       "    </tr>\n",
       "  </tbody>\n",
       "</table>\n",
       "</div>"
      ],
      "text/plain": [
       "    Age  Driving_License  Previously_Insured  Vehicle_Damage  channel26  \\\n",
       "id                                                                        \n",
       "1    44                1                   0               1          1   \n",
       "2    76                1                   0               0          1   \n",
       "3    47                1                   0               1          1   \n",
       "4    21                1                   1               0          0   \n",
       "5    29                1                   1               0          0   \n",
       "\n",
       "    channel124  channel152  channel156  channel157  1-2YR  under_1YR  over_2YR  \n",
       "id                                                                              \n",
       "1            0           0           0           0    0.0        0.0       1.0  \n",
       "2            0           0           0           0    1.0        0.0       0.0  \n",
       "3            0           0           0           0    0.0        0.0       1.0  \n",
       "4            0           1           0           0    0.0        1.0       0.0  \n",
       "5            0           1           0           0    0.0        1.0       0.0  "
      ]
     },
     "execution_count": 103,
     "metadata": {},
     "output_type": "execute_result"
    }
   ],
   "source": [
    "# re-inspect data\n",
    "X.head()"
   ]
  },
  {
   "cell_type": "markdown",
   "metadata": {},
   "source": [
    "We need to scale the data before we can apply sklearn's implementation of logistic regression."
   ]
  },
  {
   "cell_type": "code",
   "execution_count": 105,
   "metadata": {},
   "outputs": [
    {
     "data": {
      "text/html": [
       "<div>\n",
       "<style scoped>\n",
       "    .dataframe tbody tr th:only-of-type {\n",
       "        vertical-align: middle;\n",
       "    }\n",
       "\n",
       "    .dataframe tbody tr th {\n",
       "        vertical-align: top;\n",
       "    }\n",
       "\n",
       "    .dataframe thead th {\n",
       "        text-align: right;\n",
       "    }\n",
       "</style>\n",
       "<table border=\"1\" class=\"dataframe\">\n",
       "  <thead>\n",
       "    <tr style=\"text-align: right;\">\n",
       "      <th></th>\n",
       "      <th>Age</th>\n",
       "      <th>Driving_License</th>\n",
       "      <th>Previously_Insured</th>\n",
       "      <th>Vehicle_Damage</th>\n",
       "      <th>channel26</th>\n",
       "      <th>channel124</th>\n",
       "      <th>channel152</th>\n",
       "      <th>channel156</th>\n",
       "      <th>channel157</th>\n",
       "      <th>1-2YR</th>\n",
       "      <th>under_1YR</th>\n",
       "      <th>over_2YR</th>\n",
       "    </tr>\n",
       "    <tr>\n",
       "      <th>id</th>\n",
       "      <th></th>\n",
       "      <th></th>\n",
       "      <th></th>\n",
       "      <th></th>\n",
       "      <th></th>\n",
       "      <th></th>\n",
       "      <th></th>\n",
       "      <th></th>\n",
       "      <th></th>\n",
       "      <th></th>\n",
       "      <th></th>\n",
       "      <th></th>\n",
       "    </tr>\n",
       "  </thead>\n",
       "  <tbody>\n",
       "    <tr>\n",
       "      <th>333385</th>\n",
       "      <td>1.752477</td>\n",
       "      <td>0.045941</td>\n",
       "      <td>-0.919556</td>\n",
       "      <td>0.990948</td>\n",
       "      <td>1.942626</td>\n",
       "      <td>-0.491006</td>\n",
       "      <td>-0.738931</td>\n",
       "      <td>-0.169668</td>\n",
       "      <td>-0.133351</td>\n",
       "      <td>-1.053824</td>\n",
       "      <td>-0.872084</td>\n",
       "      <td>4.786534</td>\n",
       "    </tr>\n",
       "    <tr>\n",
       "      <th>44176</th>\n",
       "      <td>0.140094</td>\n",
       "      <td>0.045941</td>\n",
       "      <td>1.087481</td>\n",
       "      <td>-1.009135</td>\n",
       "      <td>-0.514767</td>\n",
       "      <td>-0.491006</td>\n",
       "      <td>-0.738931</td>\n",
       "      <td>-0.169668</td>\n",
       "      <td>-0.133351</td>\n",
       "      <td>0.948925</td>\n",
       "      <td>-0.872084</td>\n",
       "      <td>-0.208919</td>\n",
       "    </tr>\n",
       "    <tr>\n",
       "      <th>308376</th>\n",
       "      <td>1.687982</td>\n",
       "      <td>0.045941</td>\n",
       "      <td>1.087481</td>\n",
       "      <td>-1.009135</td>\n",
       "      <td>-0.514767</td>\n",
       "      <td>2.036635</td>\n",
       "      <td>-0.738931</td>\n",
       "      <td>-0.169668</td>\n",
       "      <td>-0.133351</td>\n",
       "      <td>0.948925</td>\n",
       "      <td>-0.872084</td>\n",
       "      <td>-0.208919</td>\n",
       "    </tr>\n",
       "    <tr>\n",
       "      <th>136926</th>\n",
       "      <td>-0.827336</td>\n",
       "      <td>0.045941</td>\n",
       "      <td>1.087481</td>\n",
       "      <td>-1.009135</td>\n",
       "      <td>-0.514767</td>\n",
       "      <td>-0.491006</td>\n",
       "      <td>1.353307</td>\n",
       "      <td>-0.169668</td>\n",
       "      <td>-0.133351</td>\n",
       "      <td>-1.053824</td>\n",
       "      <td>1.146678</td>\n",
       "      <td>-0.208919</td>\n",
       "    </tr>\n",
       "    <tr>\n",
       "      <th>268328</th>\n",
       "      <td>-0.375869</td>\n",
       "      <td>0.045941</td>\n",
       "      <td>-0.919556</td>\n",
       "      <td>0.990948</td>\n",
       "      <td>-0.514767</td>\n",
       "      <td>-0.491006</td>\n",
       "      <td>-0.738931</td>\n",
       "      <td>-0.169668</td>\n",
       "      <td>-0.133351</td>\n",
       "      <td>0.948925</td>\n",
       "      <td>-0.872084</td>\n",
       "      <td>-0.208919</td>\n",
       "    </tr>\n",
       "  </tbody>\n",
       "</table>\n",
       "</div>"
      ],
      "text/plain": [
       "             Age  Driving_License  Previously_Insured  Vehicle_Damage  \\\n",
       "id                                                                      \n",
       "333385  1.752477         0.045941           -0.919556        0.990948   \n",
       "44176   0.140094         0.045941            1.087481       -1.009135   \n",
       "308376  1.687982         0.045941            1.087481       -1.009135   \n",
       "136926 -0.827336         0.045941            1.087481       -1.009135   \n",
       "268328 -0.375869         0.045941           -0.919556        0.990948   \n",
       "\n",
       "        channel26  channel124  channel152  channel156  channel157     1-2YR  \\\n",
       "id                                                                            \n",
       "333385   1.942626   -0.491006   -0.738931   -0.169668   -0.133351 -1.053824   \n",
       "44176   -0.514767   -0.491006   -0.738931   -0.169668   -0.133351  0.948925   \n",
       "308376  -0.514767    2.036635   -0.738931   -0.169668   -0.133351  0.948925   \n",
       "136926  -0.514767   -0.491006    1.353307   -0.169668   -0.133351 -1.053824   \n",
       "268328  -0.514767   -0.491006   -0.738931   -0.169668   -0.133351  0.948925   \n",
       "\n",
       "        under_1YR  over_2YR  \n",
       "id                           \n",
       "333385  -0.872084  4.786534  \n",
       "44176   -0.872084 -0.208919  \n",
       "308376  -0.872084 -0.208919  \n",
       "136926   1.146678 -0.208919  \n",
       "268328  -0.872084 -0.208919  "
      ]
     },
     "execution_count": 105,
     "metadata": {},
     "output_type": "execute_result"
    }
   ],
   "source": [
    "# train test split before scaling to try to avoid data leakage\n",
    "X_train, X_test, y_train, y_test = train_test_split(X,\n",
    "                                                    y,\n",
    "                                                    random_state = seed)\n",
    "\n",
    "# instantiate a standard scaler\n",
    "ss = StandardScaler()\n",
    "\n",
    "# fit to training data and transform\n",
    "scaled_X_train = pd.DataFrame(ss.fit_transform(X_train),\n",
    "                              columns = X_train.columns,\n",
    "                              index = X_train.index)\n",
    "\n",
    "# transform test data\n",
    "scaled_X_test = pd.DataFrame(ss.transform(X_test),\n",
    "                             columns = X_test.columns,\n",
    "                             index = X_test.index)\n",
    "\n",
    "# inspect for issues\n",
    "scaled_X_test.head()"
   ]
  },
  {
   "cell_type": "code",
   "execution_count": 106,
   "metadata": {},
   "outputs": [
    {
     "name": "stdout",
     "output_type": "stream",
     "text": [
      "              precision    recall  f1-score   support\n",
      "\n",
      "           0       0.99      0.61      0.75    250832\n",
      "           1       0.25      0.96      0.40     34999\n",
      "\n",
      "    accuracy                           0.65    285831\n",
      "   macro avg       0.62      0.78      0.58    285831\n",
      "weighted avg       0.90      0.65      0.71    285831\n",
      "\n"
     ]
    }
   ],
   "source": [
    "# now instantiate a logistic regression model\n",
    "lr = LogisticRegression(class_weight = 'balanced')\n",
    "\n",
    "# fit to training data\n",
    "lr.fit(scaled_X_train, y_train)\n",
    "\n",
    "# inspect results on training data\n",
    "y_train_preds = lr.predict(scaled_X_train)\n",
    "print(classification_report(y_train, y_train_preds))"
   ]
  },
  {
   "cell_type": "markdown",
   "metadata": {},
   "source": [
    "The results are terrible compared to our best XGBoost model above (which is not surprising.) Can we improve them using random undersampling and synthetic oversampling?"
   ]
  },
  {
   "cell_type": "markdown",
   "metadata": {},
   "source": [
    "#### Under & Over Sample"
   ]
  },
  {
   "cell_type": "code",
   "execution_count": 107,
   "metadata": {},
   "outputs": [
    {
     "name": "stdout",
     "output_type": "stream",
     "text": [
      "              precision    recall  f1-score   support\n",
      "\n",
      "           0       0.93      0.61      0.73    116831\n",
      "           1       0.71      0.96      0.81    116719\n",
      "\n",
      "    accuracy                           0.78    233550\n",
      "   macro avg       0.82      0.78      0.77    233550\n",
      "weighted avg       0.82      0.78      0.77    233550\n",
      "\n"
     ]
    }
   ],
   "source": [
    "# we can use X_resampled, y_resampled from earlier\n",
    "\n",
    "# train test split resampled data\n",
    "X_train, X_test, y_train, y_test = train_test_split(X_resampled,\n",
    "                                                    y_resampled,\n",
    "                                                    random_state = seed)\n",
    "\n",
    "# fit scaler to training data and transform\n",
    "scaled_X_train = pd.DataFrame(ss.fit_transform(X_train),\n",
    "                              columns = X_train.columns,\n",
    "                              index = X_train.index)\n",
    "\n",
    "# also transform test data\n",
    "scaled_X_test = pd.DataFrame(ss.transform(X_test),\n",
    "                             columns = X_test.columns,\n",
    "                             index = X_test.index)\n",
    "\n",
    "# fit logistic regression model to resampled & scaled data\n",
    "lr.fit(scaled_X_train, y_train)\n",
    "\n",
    "# inspect results on training data\n",
    "y_train_preds = lr.predict(scaled_X_train)\n",
    "print(classification_report(y_train, y_train_preds))"
   ]
  },
  {
   "cell_type": "markdown",
   "metadata": {},
   "source": [
    "Recall has improved, but precision has decreased. Depending on how much effort increases for each additional customer we need to reach out to, we may want to optimize for precision instead."
   ]
  },
  {
   "cell_type": "code",
   "execution_count": 132,
   "metadata": {
    "scrolled": true
   },
   "outputs": [
    {
     "data": {
      "image/png": "[encoded data removed]",
      "text/plain": [
       "<Figure size 432x288 with 1 Axes>"
      ]
     },
     "metadata": {
      "needs_background": "light"
     },
     "output_type": "display_data"
    }
   ],
   "source": [
    "# plot roc curve to compare true & false positives at various thresholds\n",
    "plot_roc_curve(lr, scaled_X_train, y_train)\n",
    "\n",
    "# retroactively added the fpr & tpr corresponding to \"best\" threshold\n",
    "sns.scatterplot(x=[fpr[index]], y = [tpr[index]]);"
   ]
  },
  {
   "cell_type": "markdown",
   "metadata": {},
   "source": [
    "In order to calculate the optimal threshold to balance the true and false positive rates, I am going to use a different function, roc_curve, to get the specific fpr and tpr for various thresholds. Then I will find the threshold that corresponds to the highest \"G-mean\"."
   ]
  },
  {
   "cell_type": "code",
   "execution_count": 137,
   "metadata": {},
   "outputs": [
    {
     "data": {
      "image/png": "[encoded data removed]",
      "text/plain": [
       "<Figure size 432x288 with 1 Axes>"
      ]
     },
     "metadata": {
      "needs_background": "light"
     },
     "output_type": "display_data"
    }
   ],
   "source": [
    "# probability of class 1 for each record in scaled_X_train\n",
    "probabilities = lr.predict_proba(scaled_X_train)[:, 1]\n",
    "\n",
    "# roc curve takes in the probabilities above & y_train, and returns the\n",
    "# false and true positive rates for various thresholds\n",
    "fpr, tpr, thresholds = roc_curve(y_train, probabilities)\n",
    "\n",
    "# calculate the G-mean for each threshold\n",
    "g_mean = np.sqrt(tpr*(1 - fpr))\n",
    "\n",
    "# find threshold that corresponds to biggest g_mean\n",
    "index = np.argmax(g_mean)\n",
    "\n",
    "# plot\n",
    "fig, ax = plt.subplots()\n",
    "\n",
    "ax.set(xlabel = 'Threshold', ylabel = 'G-Mean',\n",
    "       title = 'Balancing False Positive Rate and True Positive Rate Using G-mean')\n",
    "\n",
    "# plot threshold-gmean curve\n",
    "sns.lineplot(x = thresholds, y = g_mean, ax = ax)\n",
    "\n",
    "# plot point corresponding to \"best\" threshold (max g-mean)\n",
    "sns.scatterplot(x = [thresholds[index]], y = [g_mean[index]],\n",
    "        marker = 'o', ax = ax)\n",
    "\n",
    "# label the max point with the threshold value\n",
    "plt.annotate(text = f'Threshold: {thresholds[index]}',\n",
    "             xy = (thresholds[index]+0.1, g_mean[index]));"
   ]
  },
  {
   "cell_type": "markdown",
   "metadata": {},
   "source": [
    "So, nothing is making a huge difference here. I'm not sure that's even worth tuning the hyperparameters of our logistic regression model. Let's move on to making a dashboard to summarize the results of our best model."
   ]
  },
  {
   "cell_type": "markdown",
   "metadata": {},
   "source": [
    "### Dashboard"
   ]
  },
  {
   "cell_type": "code",
   "execution_count": null,
   "metadata": {},
   "outputs": [],
   "source": []
  },
  {
   "cell_type": "markdown",
   "metadata": {},
   "source": [
    "### Misc (Move or Delete)"
   ]
  },
  {
   "cell_type": "markdown",
   "metadata": {},
   "source": [
    "#### Scoring / Metric"
   ]
  },
  {
   "cell_type": "markdown",
   "metadata": {},
   "source": [
    "**Which metric should we optimize for?**\n",
    "\n",
    "Optimizing for recall --> (hopefully) increase our net sales by reaching all interested customers\n",
    "\n",
    "Optimizing for precision --> increase our conversion rates by only reaching out to customers who we are pretty confident will be interested\n",
    "\n",
    "It seems that optimizing *only* precision would be shortsighted and not in the best interests of the company overall. But taking it into consideration *is* important, so that we can use our resources efficiently as a company.\n",
    "\n",
    "Is it worth training two models? Or **ordering the predictions of the model by the probability that a customer is interested**, to allow the sales team to *start* with the customers who are most likely to be interested, then broaden their search as they have time to do so? (This could have an interesting psychological effect on the sales team if they know what's happening. Just a thought.)"
   ]
  }
 ],
 "metadata": {
  "kernelspec": {
   "display_name": "Python (learn-env)",
   "language": "python",
   "name": "learn-env"
  },
  "language_info": {
   "codemirror_mode": {
    "name": "ipython",
    "version": 3
   },
   "file_extension": ".py",
   "mimetype": "text/x-python",
   "name": "python",
   "nbconvert_exporter": "python",
   "pygments_lexer": "ipython3",
   "version": "3.8.5"
  },
  "toc": {
   "base_numbering": 1,
   "nav_menu": {},
   "number_sections": true,
   "sideBar": true,
   "skip_h1_title": true,
   "title_cell": "Table of Contents",
   "title_sidebar": "Contents",
   "toc_cell": false,
   "toc_position": {
    "height": "calc(100% - 180px)",
    "left": "10px",
    "top": "150px",
    "width": "201.599px"
   },
   "toc_section_display": true,
   "toc_window_display": true
  }
 },
 "nbformat": 4,
 "nbformat_minor": 4
}
