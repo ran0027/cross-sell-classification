{
 "cells": [
  {
   "cell_type": "markdown",
   "metadata": {},
   "source": [
    "# Health Insurance Cross Sell Prediction\n",
    "Predict which of last year's health insurance customers would be interested in purchasing auto insurance to streamline the marketing and communications process."
   ]
  },
  {
   "cell_type": "markdown",
   "metadata": {},
   "source": [
    "Set a seed for the random state of various functions and algorithms used in the notebook:"
   ]
  },
  {
   "cell_type": "code",
   "execution_count": 1,
   "metadata": {},
   "outputs": [],
   "source": [
    "seed = 982"
   ]
  },
  {
   "cell_type": "markdown",
   "metadata": {},
   "source": [
    "## Import Packages"
   ]
  },
  {
   "cell_type": "code",
   "execution_count": 2,
   "metadata": {},
   "outputs": [],
   "source": [
    "# opening zipped data to load\n",
    "from zipfile import ZipFile\n",
    "\n",
    "# data manipulation and visualization\n",
    "import pandas as pd\n",
    "import numpy as np\n",
    "import matplotlib.pyplot as plt\n",
    "import seaborn as sns\n",
    "\n",
    "# train test split\n",
    "from sklearn.model_selection import train_test_split\n",
    "\n",
    "# preprocessing & pipelines\n",
    "from sklearn.preprocessing import OneHotEncoder\n",
    "from sklearn.preprocessing import StandardScaler\n",
    "from sklearn.impute import SimpleImputer\n",
    "from imblearn.over_sampling import SMOTE\n",
    "from imblearn.under_sampling import RandomUnderSampler\n",
    "from imblearn.pipeline import Pipeline\n",
    "\n",
    "# cross-validation\n",
    "from sklearn.model_selection import cross_val_score, GridSearchCV\n",
    "\n",
    "# modeling\n",
    "from sklearn.tree import DecisionTreeClassifier\n",
    "from sklearn.linear_model import LogisticRegression\n",
    "from sklearn.ensemble import RandomForestClassifier\n",
    "from xgboost import XGBClassifier, plot_importance\n",
    "\n",
    "# classification metrics\n",
    "from sklearn.metrics import (accuracy_score, recall_score,\n",
    "                             precision_score, f1_score, fbeta_score,\n",
    "                             classification_report, confusion_matrix,\n",
    "                             ConfusionMatrixDisplay, plot_roc_curve,\n",
    "                             roc_auc_score, roc_curve)"
   ]
  },
  {
   "cell_type": "markdown",
   "metadata": {},
   "source": [
    "## Load Data"
   ]
  },
  {
   "cell_type": "code",
   "execution_count": 2,
   "metadata": {},
   "outputs": [
    {
     "name": "stdout",
     "output_type": "stream",
     "text": [
      "['sample_submission.csv', 'test.csv', 'train.csv']\n"
     ]
    }
   ],
   "source": [
    "# what are the names of the files in the zipped archive with data\n",
    "with ZipFile('data/archive.zip') as zipObject:\n",
    "    print(zipObject.namelist())"
   ]
  },
  {
   "cell_type": "code",
   "execution_count": 3,
   "metadata": {},
   "outputs": [
    {
     "data": {
      "text/html": [
       "<div>\n",
       "<style scoped>\n",
       "    .dataframe tbody tr th:only-of-type {\n",
       "        vertical-align: middle;\n",
       "    }\n",
       "\n",
       "    .dataframe tbody tr th {\n",
       "        vertical-align: top;\n",
       "    }\n",
       "\n",
       "    .dataframe thead th {\n",
       "        text-align: right;\n",
       "    }\n",
       "</style>\n",
       "<table border=\"1\" class=\"dataframe\">\n",
       "  <thead>\n",
       "    <tr style=\"text-align: right;\">\n",
       "      <th></th>\n",
       "      <th>Gender</th>\n",
       "      <th>Age</th>\n",
       "      <th>Driving_License</th>\n",
       "      <th>Region_Code</th>\n",
       "      <th>Previously_Insured</th>\n",
       "      <th>Vehicle_Age</th>\n",
       "      <th>Vehicle_Damage</th>\n",
       "      <th>Annual_Premium</th>\n",
       "      <th>Policy_Sales_Channel</th>\n",
       "      <th>Vintage</th>\n",
       "      <th>Response</th>\n",
       "    </tr>\n",
       "    <tr>\n",
       "      <th>id</th>\n",
       "      <th></th>\n",
       "      <th></th>\n",
       "      <th></th>\n",
       "      <th></th>\n",
       "      <th></th>\n",
       "      <th></th>\n",
       "      <th></th>\n",
       "      <th></th>\n",
       "      <th></th>\n",
       "      <th></th>\n",
       "      <th></th>\n",
       "    </tr>\n",
       "  </thead>\n",
       "  <tbody>\n",
       "    <tr>\n",
       "      <th>1</th>\n",
       "      <td>Male</td>\n",
       "      <td>44</td>\n",
       "      <td>1</td>\n",
       "      <td>28.0</td>\n",
       "      <td>0</td>\n",
       "      <td>&gt; 2 Years</td>\n",
       "      <td>Yes</td>\n",
       "      <td>40454.0</td>\n",
       "      <td>26.0</td>\n",
       "      <td>217</td>\n",
       "      <td>1</td>\n",
       "    </tr>\n",
       "    <tr>\n",
       "      <th>2</th>\n",
       "      <td>Male</td>\n",
       "      <td>76</td>\n",
       "      <td>1</td>\n",
       "      <td>3.0</td>\n",
       "      <td>0</td>\n",
       "      <td>1-2 Year</td>\n",
       "      <td>No</td>\n",
       "      <td>33536.0</td>\n",
       "      <td>26.0</td>\n",
       "      <td>183</td>\n",
       "      <td>0</td>\n",
       "    </tr>\n",
       "    <tr>\n",
       "      <th>3</th>\n",
       "      <td>Male</td>\n",
       "      <td>47</td>\n",
       "      <td>1</td>\n",
       "      <td>28.0</td>\n",
       "      <td>0</td>\n",
       "      <td>&gt; 2 Years</td>\n",
       "      <td>Yes</td>\n",
       "      <td>38294.0</td>\n",
       "      <td>26.0</td>\n",
       "      <td>27</td>\n",
       "      <td>1</td>\n",
       "    </tr>\n",
       "    <tr>\n",
       "      <th>4</th>\n",
       "      <td>Male</td>\n",
       "      <td>21</td>\n",
       "      <td>1</td>\n",
       "      <td>11.0</td>\n",
       "      <td>1</td>\n",
       "      <td>&lt; 1 Year</td>\n",
       "      <td>No</td>\n",
       "      <td>28619.0</td>\n",
       "      <td>152.0</td>\n",
       "      <td>203</td>\n",
       "      <td>0</td>\n",
       "    </tr>\n",
       "    <tr>\n",
       "      <th>5</th>\n",
       "      <td>Female</td>\n",
       "      <td>29</td>\n",
       "      <td>1</td>\n",
       "      <td>41.0</td>\n",
       "      <td>1</td>\n",
       "      <td>&lt; 1 Year</td>\n",
       "      <td>No</td>\n",
       "      <td>27496.0</td>\n",
       "      <td>152.0</td>\n",
       "      <td>39</td>\n",
       "      <td>0</td>\n",
       "    </tr>\n",
       "  </tbody>\n",
       "</table>\n",
       "</div>"
      ],
      "text/plain": [
       "    Gender  Age  Driving_License  Region_Code  Previously_Insured Vehicle_Age  \\\n",
       "id                                                                              \n",
       "1     Male   44                1         28.0                   0   > 2 Years   \n",
       "2     Male   76                1          3.0                   0    1-2 Year   \n",
       "3     Male   47                1         28.0                   0   > 2 Years   \n",
       "4     Male   21                1         11.0                   1    < 1 Year   \n",
       "5   Female   29                1         41.0                   1    < 1 Year   \n",
       "\n",
       "   Vehicle_Damage  Annual_Premium  Policy_Sales_Channel  Vintage  Response  \n",
       "id                                                                          \n",
       "1             Yes         40454.0                  26.0      217         1  \n",
       "2              No         33536.0                  26.0      183         0  \n",
       "3             Yes         38294.0                  26.0       27         1  \n",
       "4              No         28619.0                 152.0      203         0  \n",
       "5              No         27496.0                 152.0       39         0  "
      ]
     },
     "execution_count": 3,
     "metadata": {},
     "output_type": "execute_result"
    }
   ],
   "source": [
    "# load training data as pandas dataframe\n",
    "with ZipFile('data/archive.zip') as zipArchive:\n",
    "        with zipArchive.open('train.csv') as file:\n",
    "            data = pd.read_csv(file, index_col = 0)\n",
    "            \n",
    "# inspect first 5 rows\n",
    "data.head()"
   ]
  },
  {
   "cell_type": "markdown",
   "metadata": {},
   "source": [
    "## Initial EDA"
   ]
  },
  {
   "cell_type": "markdown",
   "metadata": {},
   "source": [
    "In this section, I am primarily performing exploratory data analysis *for the purpose of modeling*.\n",
    "\n",
    "I am checking the distribution of my target, and looking for any features which appear to be strongly correlated with the target."
   ]
  },
  {
   "cell_type": "markdown",
   "metadata": {},
   "source": [
    "### Distribution of Target"
   ]
  },
  {
   "cell_type": "code",
   "execution_count": 4,
   "metadata": {},
   "outputs": [
    {
     "data": {
      "text/plain": [
       "0    0.877437\n",
       "1    0.122563\n",
       "Name: Response, dtype: float64"
      ]
     },
     "execution_count": 4,
     "metadata": {},
     "output_type": "execute_result"
    }
   ],
   "source": [
    "# distribution of target\n",
    "data.Response.value_counts(normalize = True)"
   ]
  },
  {
   "cell_type": "markdown",
   "metadata": {},
   "source": [
    "**Distribution of Target** &nbsp;&nbsp;&nbsp;&nbsp; This is an unbalanced dataset, with only about 12% of records corresponding to customers who were interested in the cross-sell."
   ]
  },
  {
   "cell_type": "markdown",
   "metadata": {},
   "source": [
    "### Correlation between Features and Target"
   ]
  },
  {
   "cell_type": "markdown",
   "metadata": {},
   "source": [
    "#### Gender"
   ]
  },
  {
   "cell_type": "code",
   "execution_count": 7,
   "metadata": {},
   "outputs": [
    {
     "name": "stdout",
     "output_type": "stream",
     "text": [
      "Male:\n",
      "\n",
      "0    0.861589\n",
      "1    0.138411\n",
      "Name: Response, dtype: float64\n",
      "\n",
      "\n",
      "Female:\n",
      "\n",
      "0    0.896098\n",
      "1    0.103902\n",
      "Name: Response, dtype: float64\n"
     ]
    }
   ],
   "source": [
    "# inspect proportion of yes / no responses by gender\n",
    "print('Male:\\n')\n",
    "print(data.loc[data.Gender == 'Male', 'Response'].value_counts(\n",
    "    normalize=True))\n",
    "print('\\n')\n",
    "print('Female:\\n')\n",
    "print(data.loc[data.Gender == 'Female', 'Response'].value_counts(\n",
    "    normalize=True))"
   ]
  },
  {
   "cell_type": "markdown",
   "metadata": {},
   "source": [
    "There is not a huge difference between the percentage of men who bought vehicle insurance and the percentage of women who did so, though perhaps men are slightly more likely to purchase the insurance <mark>(- is this a statistically significant difference? use chi square test to check.)</mark>"
   ]
  },
  {
   "cell_type": "markdown",
   "metadata": {},
   "source": [
    "#### Age"
   ]
  },
  {
   "cell_type": "code",
   "execution_count": 10,
   "metadata": {},
   "outputs": [
    {
     "data": {
      "image/png": "[encoded data removed]",
      "text/plain": [
       "<Figure size 432x288 with 1 Axes>"
      ]
     },
     "metadata": {
      "needs_background": "light"
     },
     "output_type": "display_data"
    }
   ],
   "source": [
    "# inspect distribution of age by response category\n",
    "sns.boxplot(data = data, x = 'Response', y = 'Age');"
   ]
  },
  {
   "cell_type": "markdown",
   "metadata": {},
   "source": [
    "Perhaps our younger customers (35 and below) are not as likely to want to purchase vehicle insurance?\n",
    "\n",
    "50% of respondents who bought vehicle insurance were between the ages of 35 and 50, and only 25% were younger than 35."
   ]
  },
  {
   "cell_type": "markdown",
   "metadata": {},
   "source": [
    "#### Driver's License"
   ]
  },
  {
   "cell_type": "code",
   "execution_count": 23,
   "metadata": {},
   "outputs": [
    {
     "name": "stdout",
     "output_type": "stream",
     "text": [
      "Responses for Customers without a Driver's License:\n"
     ]
    },
    {
     "data": {
      "text/plain": [
       "0    0.949507\n",
       "1    0.050493\n",
       "Name: Response, dtype: float64"
      ]
     },
     "execution_count": 23,
     "metadata": {},
     "output_type": "execute_result"
    }
   ],
   "source": [
    "# did anyone without a driver's license get vehicle ins?\n",
    "print('Responses for Customers without a Driver\\'s License:')\n",
    "data.loc[data.Driving_License==0,'Response'].value_counts(normalize=True)"
   ]
  },
  {
   "cell_type": "markdown",
   "metadata": {},
   "source": [
    "5% of customers who did not have a driver's license still bought vehicle insurance! But the other 95% did not."
   ]
  },
  {
   "cell_type": "markdown",
   "metadata": {},
   "source": [
    "#### Region"
   ]
  },
  {
   "cell_type": "code",
   "execution_count": 56,
   "metadata": {},
   "outputs": [
    {
     "name": "stdout",
     "output_type": "stream",
     "text": [
      "Percentage of Affirmative Responses by Region:\n"
     ]
    },
    {
     "data": {
      "text/plain": [
       "Region_Code\n",
       "28.0    0.426\n",
       "8.0     0.070\n",
       "41.0    0.048\n",
       "46.0    0.044\n",
       "29.0    0.029\n",
       "3.0     0.025\n",
       "11.0    0.022\n",
       "15.0    0.021\n",
       "30.0    0.019\n",
       "35.0    0.019\n",
       "33.0    0.016\n",
       "18.0    0.015\n",
       "36.0    0.015\n",
       "47.0    0.014\n",
       "50.0    0.014\n",
       "45.0    0.013\n",
       "39.0    0.012\n",
       "48.0    0.010\n",
       "7.0     0.009\n",
       "14.0    0.009\n",
       "6.0     0.009\n",
       "37.0    0.009\n",
       "38.0    0.008\n",
       "13.0    0.008\n",
       "24.0    0.007\n",
       "12.0    0.007\n",
       "4.0     0.006\n",
       "10.0    0.006\n",
       "2.0     0.006\n",
       "23.0    0.006\n",
       "21.0    0.006\n",
       "19.0    0.005\n",
       "32.0    0.005\n",
       "20.0    0.005\n",
       "43.0    0.005\n",
       "9.0     0.005\n",
       "26.0    0.004\n",
       "0.0     0.004\n",
       "17.0    0.004\n",
       "27.0    0.004\n",
       "31.0    0.004\n",
       "16.0    0.003\n",
       "34.0    0.003\n",
       "40.0    0.003\n",
       "5.0     0.003\n",
       "49.0    0.003\n",
       "22.0    0.002\n",
       "25.0    0.002\n",
       "1.0     0.002\n",
       "51.0    0.001\n",
       "42.0    0.001\n",
       "44.0    0.001\n",
       "52.0    0.001\n",
       "Name: Response, dtype: float64"
      ]
     },
     "execution_count": 56,
     "metadata": {},
     "output_type": "execute_result"
    }
   ],
   "source": [
    "# of all vehicle insurance sales, what percentage went to each region?\n",
    "by_region=data.groupby('Region_Code').sum()['Response']/sum(data.Response)\n",
    "\n",
    "print('Percentage of Affirmative Responses by Region:')\n",
    "by_region.map(lambda x: round(x, 3)).sort_values(ascending=False)"
   ]
  },
  {
   "cell_type": "markdown",
   "metadata": {},
   "source": [
    "Region 28 had 42% of all vehicle insurance sales in this dataset. Is this a particularly large region? Is there some other reason that such a high percentage of sales would happen here?"
   ]
  },
  {
   "cell_type": "code",
   "execution_count": 41,
   "metadata": {},
   "outputs": [
    {
     "data": {
      "text/plain": [
       "106415"
      ]
     },
     "execution_count": 41,
     "metadata": {},
     "output_type": "execute_result"
    }
   ],
   "source": [
    "# is region 28 just big?\n",
    "len(data.loc[ data.Region_Code == 28, 'Response' ])"
   ]
  },
  {
   "cell_type": "markdown",
   "metadata": {},
   "source": [
    "Region 28 has 106,415 customers associated with it in this dataset. I need a way to compare this with other regions."
   ]
  },
  {
   "cell_type": "code",
   "execution_count": 46,
   "metadata": {},
   "outputs": [
    {
     "data": {
      "text/plain": [
       "Region_Code\n",
       "28.0    106415\n",
       "8.0      33877\n",
       "46.0     19749\n",
       "41.0     18263\n",
       "15.0     13308\n",
       "30.0     12191\n",
       "29.0     11065\n",
       "50.0     10243\n",
       "3.0       9251\n",
       "11.0      9232\n",
       "36.0      8797\n",
       "33.0      7654\n",
       "47.0      7436\n",
       "35.0      6942\n",
       "6.0       6280\n",
       "45.0      5605\n",
       "37.0      5501\n",
       "18.0      5153\n",
       "48.0      4681\n",
       "14.0      4678\n",
       "39.0      4644\n",
       "10.0      4374\n",
       "21.0      4266\n",
       "2.0       4038\n",
       "13.0      4036\n",
       "7.0       3279\n",
       "12.0      3198\n",
       "9.0       3101\n",
       "27.0      2823\n",
       "32.0      2787\n",
       "43.0      2639\n",
       "17.0      2617\n",
       "26.0      2587\n",
       "25.0      2503\n",
       "24.0      2415\n",
       "38.0      2026\n",
       "0.0       2021\n",
       "16.0      2007\n",
       "23.0      1960\n",
       "31.0      1960\n",
       "20.0      1935\n",
       "49.0      1832\n",
       "4.0       1801\n",
       "34.0      1664\n",
       "19.0      1535\n",
       "22.0      1309\n",
       "40.0      1295\n",
       "5.0       1279\n",
       "1.0       1008\n",
       "44.0       808\n",
       "42.0       591\n",
       "52.0       267\n",
       "51.0       183\n",
       "Name: Response, dtype: int64"
      ]
     },
     "execution_count": 46,
     "metadata": {},
     "output_type": "execute_result"
    }
   ],
   "source": [
    "data.groupby('Region_Code').count()['Response'].\\\n",
    "sort_values(ascending=False)"
   ]
  },
  {
   "cell_type": "markdown",
   "metadata": {},
   "source": [
    "Region 28 is just big, not necessarily getting a higher percentage of vehicle insurance sales. This suggests that my initial way of analyzing the data is flawed.\n",
    "\n",
    "Let's try to find, instead, the percentage of vehicle insurance sales by region out of all customers in that region."
   ]
  },
  {
   "cell_type": "code",
   "execution_count": 52,
   "metadata": {},
   "outputs": [
    {
     "data": {
      "text/plain": [
       "Region_Code\n",
       "38.0    0.192004\n",
       "28.0    0.187163\n",
       "19.0    0.162866\n",
       "4.0     0.158245\n",
       "23.0    0.153061\n",
       "51.0    0.153005\n",
       "24.0    0.141615\n",
       "7.0     0.131747\n",
       "18.0    0.131574\n",
       "3.0     0.127662\n",
       "35.0    0.124604\n",
       "39.0    0.123600\n",
       "52.0    0.123596\n",
       "29.0    0.123362\n",
       "41.0    0.121776\n",
       "40.0    0.118147\n",
       "5.0     0.115715\n",
       "20.0    0.115245\n",
       "11.0    0.112760\n",
       "45.0    0.109723\n",
       "1.0     0.108135\n",
       "46.0    0.102891\n",
       "48.0    0.101901\n",
       "31.0    0.100510\n",
       "33.0    0.099294\n",
       "12.0    0.097561\n",
       "8.0     0.096142\n",
       "43.0    0.092459\n",
       "14.0    0.090209\n",
       "13.0    0.090188\n",
       "47.0    0.087682\n",
       "0.0     0.086096\n",
       "32.0    0.085755\n",
       "9.0     0.081587\n",
       "36.0    0.079914\n",
       "37.0    0.079258\n",
       "34.0    0.075721\n",
       "49.0    0.074782\n",
       "42.0    0.074450\n",
       "27.0    0.074035\n",
       "30.0    0.073825\n",
       "26.0    0.072284\n",
       "15.0    0.071987\n",
       "2.0     0.071075\n",
       "21.0    0.071027\n",
       "17.0    0.070310\n",
       "6.0     0.069904\n",
       "16.0    0.066766\n",
       "22.0    0.063407\n",
       "50.0    0.062677\n",
       "10.0    0.060128\n",
       "25.0    0.042749\n",
       "44.0    0.040842\n",
       "Name: Response, dtype: float64"
      ]
     },
     "execution_count": 52,
     "metadata": {},
     "output_type": "execute_result"
    }
   ],
   "source": [
    "# divide the number of 1s by the total number of records PER REGION\n",
    "\n",
    "region_percentage = data.loc[ data.Response == 1 ].groupby('Region_Code')\\\n",
    ".count()['Response'] / data.groupby('Region_Code').count()['Response']\n",
    "\n",
    "# sort in descending order\n",
    "\n",
    "region_percentage.sort_values(ascending = False)"
   ]
  },
  {
   "cell_type": "markdown",
   "metadata": {},
   "source": [
    "Ok, so some regions have a higher conversion rate for vehicle insurance, others don't. This could be a valuable feature in a predictive model, but it might simply be correlated with something else that is affecting sales (for example, policy sales channel - a certain agent or agents may be GREAT at selling, and works within a particular region, boosting the conversion rate for the region. But that doesn't mean that more customers in that region want to buy vehicle insurance, necessarily. So it's not really the region that is making the sale. I wonder if a decision tree or random forest would help parse out the true cause?)"
   ]
  },
  {
   "cell_type": "markdown",
   "metadata": {},
   "source": [
    "#### Previously Insured"
   ]
  },
  {
   "cell_type": "code",
   "execution_count": 26,
   "metadata": {},
   "outputs": [
    {
     "data": {
      "image/png": "[encoded data removed]",
      "text/plain": [
       "<Figure size 432x288 with 1 Axes>"
      ]
     },
     "metadata": {
      "needs_background": "light"
     },
     "output_type": "display_data"
    }
   ],
   "source": [
    "# how does already having vehicle insurance affect response rate?\n",
    "sns.countplot(data = data, x = 'Previously_Insured', hue = 'Response');"
   ]
  },
  {
   "cell_type": "code",
   "execution_count": 27,
   "metadata": {},
   "outputs": [
    {
     "data": {
      "text/plain": [
       "0    174470\n",
       "1       158\n",
       "Name: Response, dtype: int64"
      ]
     },
     "execution_count": 27,
     "metadata": {},
     "output_type": "execute_result"
    }
   ],
   "source": [
    "# virtually no one who already has vehicle ins went for the cross-sell\n",
    "data.loc[ data['Previously_Insured'] == 1 , 'Response'].value_counts()"
   ]
  },
  {
   "cell_type": "markdown",
   "metadata": {},
   "source": [
    "So 158 people who already had vehicle insurance *did* purchase vehicle insurance from us as well, but this is a miniscule percentage compared to the percentage of people who didn't already have vehicle insurance who bought it from us."
   ]
  },
  {
   "cell_type": "markdown",
   "metadata": {},
   "source": [
    "**Below**\n",
    "<mark> In revisiting the visualizations below for vehicle damage and vehicle age, I think what we really need are numbers to support any conclusions from these visualizations. E.g., I need to know what percentage of customers with vehicle damage opted in for vehicle insurance, and I need to know the percentage of customers without damage who opted in. Knowing the raw numbers exactly could be helpful, too.</mark>"
   ]
  },
  {
   "cell_type": "markdown",
   "metadata": {},
   "source": [
    "#### Vehicle Damage"
   ]
  },
  {
   "cell_type": "code",
   "execution_count": 30,
   "metadata": {},
   "outputs": [
    {
     "data": {
      "image/png": "[encoded data removed]",
      "text/plain": [
       "<Figure size 432x288 with 1 Axes>"
      ]
     },
     "metadata": {
      "needs_background": "light"
     },
     "output_type": "display_data"
    }
   ],
   "source": [
    "# how does vehicle damage (or lack thereof) affect response rate?\n",
    "sns.countplot(data = data, x = 'Vehicle_Damage', hue = 'Response');"
   ]
  },
  {
   "cell_type": "markdown",
   "metadata": {},
   "source": [
    "A higher percentage of people who have sustained vehicle damage agreed to purchase vehicle insurance. <mark>*This is an ambiguous statement. Re-word.*</mark>"
   ]
  },
  {
   "cell_type": "markdown",
   "metadata": {},
   "source": [
    "#### Vehicle Age"
   ]
  },
  {
   "cell_type": "code",
   "execution_count": 32,
   "metadata": {},
   "outputs": [
    {
     "data": {
      "image/png": "[encoded data removed]",
      "text/plain": [
       "<Figure size 432x288 with 1 Axes>"
      ]
     },
     "metadata": {
      "needs_background": "light"
     },
     "output_type": "display_data"
    }
   ],
   "source": [
    "# Is there a correlation b/w vehicle age & response rate?\n",
    "sns.countplot(data = data, x = 'Vehicle_Age', hue = 'Response',\n",
    "             order = ['< 1 Year', '1-2 Year', '> 2 Years']);\n",
    "# it was confusing me a little when the x-axis wasn't \"in order\" by length\n",
    "# of time, hence the argument above to the order parameter"
   ]
  },
  {
   "cell_type": "markdown",
   "metadata": {},
   "source": [
    "In terms of percentages, the probability is highest that someone with a vehicle more than 2 years old will opt in to vehicle insurance. But in terms of raw numbers, customers with cars between 1 and 2 years of age are buying the most vehicle insurance. <mark>All of these statements are coming out ambiguous. I will need to clarify my thinking and rewrite these viz summaries.</mark>"
   ]
  },
  {
   "cell_type": "markdown",
   "metadata": {},
   "source": [
    "#### Vintage"
   ]
  },
  {
   "cell_type": "markdown",
   "metadata": {},
   "source": [
    "So this deserves some explanation. 'Vintage' refers to *how many days the customer has been with the company*. It has nothing to do with whether or not their car is vintage. 😀"
   ]
  },
  {
   "cell_type": "code",
   "execution_count": 36,
   "metadata": {},
   "outputs": [
    {
     "data": {
      "image/png": "[encoded data removed]",
      "text/plain": [
       "<Figure size 432x288 with 1 Axes>"
      ]
     },
     "metadata": {
      "needs_background": "light"
     },
     "output_type": "display_data"
    }
   ],
   "source": [
    "# distribution of vintage by response category\n",
    "sns.boxplot(data = data, x = 'Response', y = 'Vintage');"
   ]
  },
  {
   "cell_type": "markdown",
   "metadata": {},
   "source": [
    "Interestingly, the distribution of vintage (\"customer age with the company\", if you will,) is pretty much the same for those who did and didn't purchase vehicle insurance. So brand trust / loyalty doesn't seem to play a role here. (Or if it does, it is not clear from the data.)"
   ]
  },
  {
   "cell_type": "markdown",
   "metadata": {},
   "source": [
    "#### Annual Premium"
   ]
  },
  {
   "cell_type": "code",
   "execution_count": 33,
   "metadata": {},
   "outputs": [
    {
     "data": {
      "image/png": "[encoded data removed]",
      "text/plain": [
       "<Figure size 432x288 with 1 Axes>"
      ]
     },
     "metadata": {
      "needs_background": "light"
     },
     "output_type": "display_data"
    }
   ],
   "source": [
    "# distribution of annual premiums by response category\n",
    "sns.boxplot(data = data, x = 'Response', y = 'Annual_Premium');"
   ]
  },
  {
   "cell_type": "markdown",
   "metadata": {},
   "source": [
    "The amount of the annual premium doesn't seem to matter very much in terms of predicting which of our customers will purchase vehicle insurance."
   ]
  },
  {
   "cell_type": "markdown",
   "metadata": {},
   "source": [
    "#### Policy Sales Channel"
   ]
  },
  {
   "cell_type": "code",
   "execution_count": 4,
   "metadata": {},
   "outputs": [
    {
     "name": "stdout",
     "output_type": "stream",
     "text": [
      "Percentage of Vehicle Insurance Purchases by Policy Sales Channel:\n"
     ]
    },
    {
     "data": {
      "text/plain": [
       "Policy_Sales_Channel\n",
       "26.0     0.340\n",
       "124.0    0.300\n",
       "152.0    0.083\n",
       "156.0    0.049\n",
       "157.0    0.038\n",
       "         ...  \n",
       "84.0     0.000\n",
       "86.0     0.000\n",
       "87.0     0.000\n",
       "88.0     0.000\n",
       "81.0     0.000\n",
       "Name: Response, Length: 155, dtype: float64"
      ]
     },
     "execution_count": 4,
     "metadata": {},
     "output_type": "execute_result"
    }
   ],
   "source": [
    "# what percentage of sales for each policy sales channel?\n",
    "by_channel=data.groupby('Policy_Sales_Channel').sum()['Response']\\\n",
    "/ sum(data.Response)\n",
    "\n",
    "print('Percentage of Vehicle Insurance Purchases by Policy Sales Channel:')\n",
    "by_channel.map(lambda x: round(x, 3)).sort_values(ascending=False)"
   ]
  },
  {
   "cell_type": "markdown",
   "metadata": {},
   "source": [
    "Two policy sales channels outweigh the rest, resulting in more than 60% of the vehicle insurance sales overall.\n",
    "\n",
    "This feature refers to the method of contacting the customer (i.e. by mail, by various agents, etc.) The initial analysis seems to reveal that some methods are more effective than others in closing the sale."
   ]
  },
  {
   "cell_type": "markdown",
   "metadata": {},
   "source": [
    "## Model Selection"
   ]
  },
  {
   "cell_type": "markdown",
   "metadata": {},
   "source": [
    "### Feature Selection"
   ]
  },
  {
   "cell_type": "markdown",
   "metadata": {},
   "source": [
    "While technically, feature selection is a separate process from model selection, they are inexplicably intertwined because the type of data you are using to train your model affects the best model to use in that situation.\n",
    "\n",
    "There are relatively few features, and some of them are cumbersome to include in a model (e.g. `Region_Code` would need to be one hot encoded with a minimum of 49 categories), so I am going to select some features to include by hand."
   ]
  },
  {
   "cell_type": "markdown",
   "metadata": {},
   "source": [
    "**Included Features**\n",
    "\n",
    "- Age\n",
    "- Driving_License\n",
    "- Previously_Insured\n",
    "- Vehicle_Damage\n",
    "- Vehicle_Age (one hot encode)"
   ]
  },
  {
   "cell_type": "markdown",
   "metadata": {},
   "source": [
    "#### Feature Engineering\n",
    "\n",
    "I would love to include `Policy_Sales_Channel` because it seems so important, but there are 155 unique policy sales channels that would need to be one hot encoded! I am going to try including just the top 5 policy sales channels."
   ]
  },
  {
   "cell_type": "code",
   "execution_count": 5,
   "metadata": {},
   "outputs": [
    {
     "data": {
      "text/plain": [
       "Policy_Sales_Channel\n",
       "26.0     0.340206\n",
       "124.0    0.299636\n",
       "152.0    0.082595\n",
       "156.0    0.049176\n",
       "157.0    0.038407\n",
       "Name: Response, dtype: float64"
      ]
     },
     "execution_count": 5,
     "metadata": {},
     "output_type": "execute_result"
    }
   ],
   "source": [
    "# feature engineering: a feature per channel for the top 5 policy channs\n",
    "\n",
    "# obtain a series which gives the percentage of all vehicle sales in the\n",
    "# dataset that were sold through a particular policy sales channel.\n",
    "# I am going to consider that this is not data leakage because this\n",
    "# feature itself is not going to be included in the model.\n",
    "\n",
    "all_channels = data.groupby('Policy_Sales_Channel').sum()['Response']\\\n",
    "/ sum(data.Response)\n",
    "\n",
    "# sort the series above by its values, to determine the top 5 policy\n",
    "# sales channels as determined by percentage of all vehicle insurance\n",
    "# sales that were attributed to that channel in this dataset.\n",
    "\n",
    "top_5_channels = all_channels.sort_values(ascending=False).index[:5]\n",
    "\n",
    "# view the top_5_channels and the percentage of vehicle ins sales made\n",
    "# through them\n",
    "all_channels[top_5_channels]"
   ]
  },
  {
   "cell_type": "markdown",
   "metadata": {},
   "source": [
    "Viewing the top 5 policy sales channels, I realize that I should probably only include the top *two* policy sales channels."
   ]
  },
  {
   "cell_type": "code",
   "execution_count": 6,
   "metadata": {},
   "outputs": [
    {
     "data": {
      "text/html": [
       "<div>\n",
       "<style scoped>\n",
       "    .dataframe tbody tr th:only-of-type {\n",
       "        vertical-align: middle;\n",
       "    }\n",
       "\n",
       "    .dataframe tbody tr th {\n",
       "        vertical-align: top;\n",
       "    }\n",
       "\n",
       "    .dataframe thead th {\n",
       "        text-align: right;\n",
       "    }\n",
       "</style>\n",
       "<table border=\"1\" class=\"dataframe\">\n",
       "  <thead>\n",
       "    <tr style=\"text-align: right;\">\n",
       "      <th></th>\n",
       "      <th>Gender</th>\n",
       "      <th>Age</th>\n",
       "      <th>Driving_License</th>\n",
       "      <th>Region_Code</th>\n",
       "      <th>Previously_Insured</th>\n",
       "      <th>Vehicle_Age</th>\n",
       "      <th>Vehicle_Damage</th>\n",
       "      <th>Annual_Premium</th>\n",
       "      <th>Policy_Sales_Channel</th>\n",
       "      <th>Vintage</th>\n",
       "      <th>Response</th>\n",
       "      <th>channel26</th>\n",
       "      <th>channel124</th>\n",
       "    </tr>\n",
       "    <tr>\n",
       "      <th>id</th>\n",
       "      <th></th>\n",
       "      <th></th>\n",
       "      <th></th>\n",
       "      <th></th>\n",
       "      <th></th>\n",
       "      <th></th>\n",
       "      <th></th>\n",
       "      <th></th>\n",
       "      <th></th>\n",
       "      <th></th>\n",
       "      <th></th>\n",
       "      <th></th>\n",
       "      <th></th>\n",
       "    </tr>\n",
       "  </thead>\n",
       "  <tbody>\n",
       "    <tr>\n",
       "      <th>1</th>\n",
       "      <td>Male</td>\n",
       "      <td>44</td>\n",
       "      <td>1</td>\n",
       "      <td>28.0</td>\n",
       "      <td>0</td>\n",
       "      <td>&gt; 2 Years</td>\n",
       "      <td>Yes</td>\n",
       "      <td>40454.0</td>\n",
       "      <td>26.0</td>\n",
       "      <td>217</td>\n",
       "      <td>1</td>\n",
       "      <td>1</td>\n",
       "      <td>0</td>\n",
       "    </tr>\n",
       "    <tr>\n",
       "      <th>2</th>\n",
       "      <td>Male</td>\n",
       "      <td>76</td>\n",
       "      <td>1</td>\n",
       "      <td>3.0</td>\n",
       "      <td>0</td>\n",
       "      <td>1-2 Year</td>\n",
       "      <td>No</td>\n",
       "      <td>33536.0</td>\n",
       "      <td>26.0</td>\n",
       "      <td>183</td>\n",
       "      <td>0</td>\n",
       "      <td>1</td>\n",
       "      <td>0</td>\n",
       "    </tr>\n",
       "    <tr>\n",
       "      <th>3</th>\n",
       "      <td>Male</td>\n",
       "      <td>47</td>\n",
       "      <td>1</td>\n",
       "      <td>28.0</td>\n",
       "      <td>0</td>\n",
       "      <td>&gt; 2 Years</td>\n",
       "      <td>Yes</td>\n",
       "      <td>38294.0</td>\n",
       "      <td>26.0</td>\n",
       "      <td>27</td>\n",
       "      <td>1</td>\n",
       "      <td>1</td>\n",
       "      <td>0</td>\n",
       "    </tr>\n",
       "    <tr>\n",
       "      <th>4</th>\n",
       "      <td>Male</td>\n",
       "      <td>21</td>\n",
       "      <td>1</td>\n",
       "      <td>11.0</td>\n",
       "      <td>1</td>\n",
       "      <td>&lt; 1 Year</td>\n",
       "      <td>No</td>\n",
       "      <td>28619.0</td>\n",
       "      <td>152.0</td>\n",
       "      <td>203</td>\n",
       "      <td>0</td>\n",
       "      <td>0</td>\n",
       "      <td>0</td>\n",
       "    </tr>\n",
       "    <tr>\n",
       "      <th>5</th>\n",
       "      <td>Female</td>\n",
       "      <td>29</td>\n",
       "      <td>1</td>\n",
       "      <td>41.0</td>\n",
       "      <td>1</td>\n",
       "      <td>&lt; 1 Year</td>\n",
       "      <td>No</td>\n",
       "      <td>27496.0</td>\n",
       "      <td>152.0</td>\n",
       "      <td>39</td>\n",
       "      <td>0</td>\n",
       "      <td>0</td>\n",
       "      <td>0</td>\n",
       "    </tr>\n",
       "  </tbody>\n",
       "</table>\n",
       "</div>"
      ],
      "text/plain": [
       "    Gender  Age  Driving_License  Region_Code  Previously_Insured Vehicle_Age  \\\n",
       "id                                                                              \n",
       "1     Male   44                1         28.0                   0   > 2 Years   \n",
       "2     Male   76                1          3.0                   0    1-2 Year   \n",
       "3     Male   47                1         28.0                   0   > 2 Years   \n",
       "4     Male   21                1         11.0                   1    < 1 Year   \n",
       "5   Female   29                1         41.0                   1    < 1 Year   \n",
       "\n",
       "   Vehicle_Damage  Annual_Premium  Policy_Sales_Channel  Vintage  Response  \\\n",
       "id                                                                           \n",
       "1             Yes         40454.0                  26.0      217         1   \n",
       "2              No         33536.0                  26.0      183         0   \n",
       "3             Yes         38294.0                  26.0       27         1   \n",
       "4              No         28619.0                 152.0      203         0   \n",
       "5              No         27496.0                 152.0       39         0   \n",
       "\n",
       "    channel26  channel124  \n",
       "id                         \n",
       "1           1           0  \n",
       "2           1           0  \n",
       "3           1           0  \n",
       "4           0           0  \n",
       "5           0           0  "
      ]
     },
     "execution_count": 6,
     "metadata": {},
     "output_type": "execute_result"
    }
   ],
   "source": [
    "# get top 2 channels instead\n",
    "top_2_channels = all_channels.sort_values(ascending=False).index[:2]\n",
    "\n",
    "# add feature to dataset\n",
    "for channel_code in top_2_channels:\n",
    "    data[f'channel{int(channel_code)}'] = (data.Policy_Sales_Channel ==\n",
    "                                           channel_code).astype(int)\n",
    "    \n",
    "# check work\n",
    "data.head()"
   ]
  },
  {
   "cell_type": "markdown",
   "metadata": {},
   "source": [
    "When I tried to pass this data to a Decision Tree Classifier, I learned that the symbols \"<\" and \">\" are not allowed in strings. The below code replaces those values."
   ]
  },
  {
   "cell_type": "code",
   "execution_count": 7,
   "metadata": {},
   "outputs": [],
   "source": [
    "# create a dict mapping old values in Vehicle_Age col to new values\n",
    "new_values = dict(zip(data['Vehicle_Age'].value_counts().index,\n",
    "                      ['1-2YR', 'under_1YR', 'over_2YR']))\n",
    "\n",
    "# pass that dict to the replace function applied to Vehicle_Age col\n",
    "data.Vehicle_Age.replace(new_values, inplace = True)"
   ]
  },
  {
   "cell_type": "markdown",
   "metadata": {},
   "source": [
    "#### Potential Improvement (to feature selection process)\n",
    "\n",
    "Start with all (feasible) features and prune features by feature importance, one by one, to see if it makes a difference in model performance. *This would entail adding: Gender, Vintage and Annual Premium, which are currently not included. Vintage and Annual Premium are continuous; Gender is categorical and just needs to be converted to numerical type.*"
   ]
  },
  {
   "cell_type": "markdown",
   "metadata": {},
   "source": [
    "### Train Test Split"
   ]
  },
  {
   "cell_type": "markdown",
   "metadata": {},
   "source": [
    "To aid in selecting the best model, we are going to split our training data into training and test sets. The test data in a separate file within our data folder can then be used as a validation set for our final model."
   ]
  },
  {
   "cell_type": "code",
   "execution_count": 8,
   "metadata": {},
   "outputs": [
    {
     "data": {
      "text/html": [
       "<div>\n",
       "<style scoped>\n",
       "    .dataframe tbody tr th:only-of-type {\n",
       "        vertical-align: middle;\n",
       "    }\n",
       "\n",
       "    .dataframe tbody tr th {\n",
       "        vertical-align: top;\n",
       "    }\n",
       "\n",
       "    .dataframe thead th {\n",
       "        text-align: right;\n",
       "    }\n",
       "</style>\n",
       "<table border=\"1\" class=\"dataframe\">\n",
       "  <thead>\n",
       "    <tr style=\"text-align: right;\">\n",
       "      <th></th>\n",
       "      <th>Age</th>\n",
       "      <th>Driving_License</th>\n",
       "      <th>Previously_Insured</th>\n",
       "      <th>Vehicle_Age</th>\n",
       "      <th>Vehicle_Damage</th>\n",
       "      <th>channel26</th>\n",
       "      <th>channel124</th>\n",
       "    </tr>\n",
       "    <tr>\n",
       "      <th>id</th>\n",
       "      <th></th>\n",
       "      <th></th>\n",
       "      <th></th>\n",
       "      <th></th>\n",
       "      <th></th>\n",
       "      <th></th>\n",
       "      <th></th>\n",
       "    </tr>\n",
       "  </thead>\n",
       "  <tbody>\n",
       "    <tr>\n",
       "      <th>1</th>\n",
       "      <td>44</td>\n",
       "      <td>1</td>\n",
       "      <td>0</td>\n",
       "      <td>over_2YR</td>\n",
       "      <td>Yes</td>\n",
       "      <td>1</td>\n",
       "      <td>0</td>\n",
       "    </tr>\n",
       "    <tr>\n",
       "      <th>2</th>\n",
       "      <td>76</td>\n",
       "      <td>1</td>\n",
       "      <td>0</td>\n",
       "      <td>1-2YR</td>\n",
       "      <td>No</td>\n",
       "      <td>1</td>\n",
       "      <td>0</td>\n",
       "    </tr>\n",
       "    <tr>\n",
       "      <th>3</th>\n",
       "      <td>47</td>\n",
       "      <td>1</td>\n",
       "      <td>0</td>\n",
       "      <td>over_2YR</td>\n",
       "      <td>Yes</td>\n",
       "      <td>1</td>\n",
       "      <td>0</td>\n",
       "    </tr>\n",
       "    <tr>\n",
       "      <th>4</th>\n",
       "      <td>21</td>\n",
       "      <td>1</td>\n",
       "      <td>1</td>\n",
       "      <td>under_1YR</td>\n",
       "      <td>No</td>\n",
       "      <td>0</td>\n",
       "      <td>0</td>\n",
       "    </tr>\n",
       "    <tr>\n",
       "      <th>5</th>\n",
       "      <td>29</td>\n",
       "      <td>1</td>\n",
       "      <td>1</td>\n",
       "      <td>under_1YR</td>\n",
       "      <td>No</td>\n",
       "      <td>0</td>\n",
       "      <td>0</td>\n",
       "    </tr>\n",
       "  </tbody>\n",
       "</table>\n",
       "</div>"
      ],
      "text/plain": [
       "    Age  Driving_License  Previously_Insured Vehicle_Age Vehicle_Damage  \\\n",
       "id                                                                        \n",
       "1    44                1                   0    over_2YR            Yes   \n",
       "2    76                1                   0       1-2YR             No   \n",
       "3    47                1                   0    over_2YR            Yes   \n",
       "4    21                1                   1   under_1YR             No   \n",
       "5    29                1                   1   under_1YR             No   \n",
       "\n",
       "    channel26  channel124  \n",
       "id                         \n",
       "1           1           0  \n",
       "2           1           0  \n",
       "3           1           0  \n",
       "4           0           0  \n",
       "5           0           0  "
      ]
     },
     "execution_count": 8,
     "metadata": {},
     "output_type": "execute_result"
    }
   ],
   "source": [
    "# separate data into feature set and target\n",
    "X = data.drop(['Gender', 'Region_Code', 'Vintage', 'Annual_Premium',\n",
    "              'Policy_Sales_Channel', 'Response'], axis = 1)\n",
    "y = data['Response']\n",
    "\n",
    "# inspect first few rows for any issues\n",
    "X.head()"
   ]
  },
  {
   "cell_type": "code",
   "execution_count": 9,
   "metadata": {},
   "outputs": [
    {
     "data": {
      "text/plain": [
       "id\n",
       "1    1\n",
       "2    0\n",
       "3    1\n",
       "4    0\n",
       "5    0\n",
       "Name: Response, dtype: int64"
      ]
     },
     "execution_count": 9,
     "metadata": {},
     "output_type": "execute_result"
    }
   ],
   "source": [
    "y.head()"
   ]
  },
  {
   "cell_type": "markdown",
   "metadata": {},
   "source": [
    "Now we will use SciKit Learn's train_test_split function to separate our data into a training and test set."
   ]
  },
  {
   "cell_type": "code",
   "execution_count": 10,
   "metadata": {
    "scrolled": true
   },
   "outputs": [
    {
     "data": {
      "text/html": [
       "<div>\n",
       "<style scoped>\n",
       "    .dataframe tbody tr th:only-of-type {\n",
       "        vertical-align: middle;\n",
       "    }\n",
       "\n",
       "    .dataframe tbody tr th {\n",
       "        vertical-align: top;\n",
       "    }\n",
       "\n",
       "    .dataframe thead th {\n",
       "        text-align: right;\n",
       "    }\n",
       "</style>\n",
       "<table border=\"1\" class=\"dataframe\">\n",
       "  <thead>\n",
       "    <tr style=\"text-align: right;\">\n",
       "      <th></th>\n",
       "      <th>Age</th>\n",
       "      <th>Driving_License</th>\n",
       "      <th>Previously_Insured</th>\n",
       "      <th>Vehicle_Age</th>\n",
       "      <th>Vehicle_Damage</th>\n",
       "      <th>channel26</th>\n",
       "      <th>channel124</th>\n",
       "      <th>Response</th>\n",
       "    </tr>\n",
       "    <tr>\n",
       "      <th>id</th>\n",
       "      <th></th>\n",
       "      <th></th>\n",
       "      <th></th>\n",
       "      <th></th>\n",
       "      <th></th>\n",
       "      <th></th>\n",
       "      <th></th>\n",
       "      <th></th>\n",
       "    </tr>\n",
       "  </thead>\n",
       "  <tbody>\n",
       "    <tr>\n",
       "      <th>374459</th>\n",
       "      <td>54</td>\n",
       "      <td>1</td>\n",
       "      <td>0</td>\n",
       "      <td>1-2YR</td>\n",
       "      <td>Yes</td>\n",
       "      <td>0</td>\n",
       "      <td>0</td>\n",
       "      <td>0</td>\n",
       "    </tr>\n",
       "    <tr>\n",
       "      <th>342742</th>\n",
       "      <td>45</td>\n",
       "      <td>1</td>\n",
       "      <td>0</td>\n",
       "      <td>over_2YR</td>\n",
       "      <td>Yes</td>\n",
       "      <td>0</td>\n",
       "      <td>0</td>\n",
       "      <td>1</td>\n",
       "    </tr>\n",
       "    <tr>\n",
       "      <th>190270</th>\n",
       "      <td>22</td>\n",
       "      <td>1</td>\n",
       "      <td>1</td>\n",
       "      <td>under_1YR</td>\n",
       "      <td>No</td>\n",
       "      <td>0</td>\n",
       "      <td>0</td>\n",
       "      <td>0</td>\n",
       "    </tr>\n",
       "    <tr>\n",
       "      <th>339967</th>\n",
       "      <td>60</td>\n",
       "      <td>1</td>\n",
       "      <td>1</td>\n",
       "      <td>1-2YR</td>\n",
       "      <td>No</td>\n",
       "      <td>0</td>\n",
       "      <td>0</td>\n",
       "      <td>0</td>\n",
       "    </tr>\n",
       "    <tr>\n",
       "      <th>75048</th>\n",
       "      <td>25</td>\n",
       "      <td>1</td>\n",
       "      <td>0</td>\n",
       "      <td>under_1YR</td>\n",
       "      <td>Yes</td>\n",
       "      <td>0</td>\n",
       "      <td>0</td>\n",
       "      <td>0</td>\n",
       "    </tr>\n",
       "  </tbody>\n",
       "</table>\n",
       "</div>"
      ],
      "text/plain": [
       "        Age  Driving_License  Previously_Insured Vehicle_Age Vehicle_Damage  \\\n",
       "id                                                                            \n",
       "374459   54                1                   0       1-2YR            Yes   \n",
       "342742   45                1                   0    over_2YR            Yes   \n",
       "190270   22                1                   1   under_1YR             No   \n",
       "339967   60                1                   1       1-2YR             No   \n",
       "75048    25                1                   0   under_1YR            Yes   \n",
       "\n",
       "        channel26  channel124  Response  \n",
       "id                                       \n",
       "374459          0           0         0  \n",
       "342742          0           0         1  \n",
       "190270          0           0         0  \n",
       "339967          0           0         0  \n",
       "75048           0           0         0  "
      ]
     },
     "execution_count": 10,
     "metadata": {},
     "output_type": "execute_result"
    }
   ],
   "source": [
    "# actually perform train test split\n",
    "X_train, X_test, y_train, y_test = train_test_split(X,\n",
    "                                                    y,\n",
    "                                                    random_state = seed)\n",
    "\n",
    "# check work\n",
    "pd.concat([X_train, y_train], axis = 1).head()"
   ]
  },
  {
   "cell_type": "markdown",
   "metadata": {},
   "source": [
    "### Preprocessing"
   ]
  },
  {
   "cell_type": "markdown",
   "metadata": {},
   "source": [
    "Check for missing values and check data types for modeling."
   ]
  },
  {
   "cell_type": "code",
   "execution_count": 11,
   "metadata": {},
   "outputs": [
    {
     "data": {
      "text/plain": [
       "Age                   0\n",
       "Driving_License       0\n",
       "Previously_Insured    0\n",
       "Vehicle_Age           0\n",
       "Vehicle_Damage        0\n",
       "channel26             0\n",
       "channel124            0\n",
       "dtype: int64"
      ]
     },
     "execution_count": 11,
     "metadata": {},
     "output_type": "execute_result"
    }
   ],
   "source": [
    "X_train.isna().sum()"
   ]
  },
  {
   "cell_type": "code",
   "execution_count": 12,
   "metadata": {},
   "outputs": [
    {
     "data": {
      "text/plain": [
       "Age                    int64\n",
       "Driving_License        int64\n",
       "Previously_Insured     int64\n",
       "Vehicle_Age           object\n",
       "Vehicle_Damage        object\n",
       "channel26              int64\n",
       "channel124             int64\n",
       "dtype: object"
      ]
     },
     "execution_count": 12,
     "metadata": {},
     "output_type": "execute_result"
    }
   ],
   "source": [
    "X_train.dtypes"
   ]
  },
  {
   "cell_type": "code",
   "execution_count": 13,
   "metadata": {},
   "outputs": [
    {
     "name": "stderr",
     "output_type": "stream",
     "text": [
      "/Users/user/opt/anaconda3/envs/learn-env/lib/python3.8/site-packages/pandas/core/series.py:4563: SettingWithCopyWarning: \n",
      "A value is trying to be set on a copy of a slice from a DataFrame\n",
      "\n",
      "See the caveats in the documentation: https://pandas.pydata.org/pandas-docs/stable/user_guide/indexing.html#returning-a-view-versus-a-copy\n",
      "  return super().replace(\n"
     ]
    },
    {
     "data": {
      "text/html": [
       "<div>\n",
       "<style scoped>\n",
       "    .dataframe tbody tr th:only-of-type {\n",
       "        vertical-align: middle;\n",
       "    }\n",
       "\n",
       "    .dataframe tbody tr th {\n",
       "        vertical-align: top;\n",
       "    }\n",
       "\n",
       "    .dataframe thead th {\n",
       "        text-align: right;\n",
       "    }\n",
       "</style>\n",
       "<table border=\"1\" class=\"dataframe\">\n",
       "  <thead>\n",
       "    <tr style=\"text-align: right;\">\n",
       "      <th></th>\n",
       "      <th>Age</th>\n",
       "      <th>Driving_License</th>\n",
       "      <th>Previously_Insured</th>\n",
       "      <th>Vehicle_Damage</th>\n",
       "      <th>channel26</th>\n",
       "      <th>channel124</th>\n",
       "      <th>1-2YR</th>\n",
       "      <th>over_2YR</th>\n",
       "      <th>under_1YR</th>\n",
       "    </tr>\n",
       "    <tr>\n",
       "      <th>id</th>\n",
       "      <th></th>\n",
       "      <th></th>\n",
       "      <th></th>\n",
       "      <th></th>\n",
       "      <th></th>\n",
       "      <th></th>\n",
       "      <th></th>\n",
       "      <th></th>\n",
       "      <th></th>\n",
       "    </tr>\n",
       "  </thead>\n",
       "  <tbody>\n",
       "    <tr>\n",
       "      <th>374459</th>\n",
       "      <td>54</td>\n",
       "      <td>1</td>\n",
       "      <td>0</td>\n",
       "      <td>1</td>\n",
       "      <td>0</td>\n",
       "      <td>0</td>\n",
       "      <td>1.0</td>\n",
       "      <td>0.0</td>\n",
       "      <td>0.0</td>\n",
       "    </tr>\n",
       "    <tr>\n",
       "      <th>342742</th>\n",
       "      <td>45</td>\n",
       "      <td>1</td>\n",
       "      <td>0</td>\n",
       "      <td>1</td>\n",
       "      <td>0</td>\n",
       "      <td>0</td>\n",
       "      <td>0.0</td>\n",
       "      <td>1.0</td>\n",
       "      <td>0.0</td>\n",
       "    </tr>\n",
       "    <tr>\n",
       "      <th>190270</th>\n",
       "      <td>22</td>\n",
       "      <td>1</td>\n",
       "      <td>1</td>\n",
       "      <td>0</td>\n",
       "      <td>0</td>\n",
       "      <td>0</td>\n",
       "      <td>0.0</td>\n",
       "      <td>0.0</td>\n",
       "      <td>1.0</td>\n",
       "    </tr>\n",
       "    <tr>\n",
       "      <th>339967</th>\n",
       "      <td>60</td>\n",
       "      <td>1</td>\n",
       "      <td>1</td>\n",
       "      <td>0</td>\n",
       "      <td>0</td>\n",
       "      <td>0</td>\n",
       "      <td>1.0</td>\n",
       "      <td>0.0</td>\n",
       "      <td>0.0</td>\n",
       "    </tr>\n",
       "    <tr>\n",
       "      <th>75048</th>\n",
       "      <td>25</td>\n",
       "      <td>1</td>\n",
       "      <td>0</td>\n",
       "      <td>1</td>\n",
       "      <td>0</td>\n",
       "      <td>0</td>\n",
       "      <td>0.0</td>\n",
       "      <td>0.0</td>\n",
       "      <td>1.0</td>\n",
       "    </tr>\n",
       "  </tbody>\n",
       "</table>\n",
       "</div>"
      ],
      "text/plain": [
       "        Age  Driving_License  Previously_Insured  Vehicle_Damage  channel26  \\\n",
       "id                                                                            \n",
       "374459   54                1                   0               1          0   \n",
       "342742   45                1                   0               1          0   \n",
       "190270   22                1                   1               0          0   \n",
       "339967   60                1                   1               0          0   \n",
       "75048    25                1                   0               1          0   \n",
       "\n",
       "        channel124  1-2YR  over_2YR  under_1YR  \n",
       "id                                              \n",
       "374459           0    1.0       0.0        0.0  \n",
       "342742           0    0.0       1.0        0.0  \n",
       "190270           0    0.0       0.0        1.0  \n",
       "339967           0    1.0       0.0        0.0  \n",
       "75048            0    0.0       0.0        1.0  "
      ]
     },
     "execution_count": 13,
     "metadata": {},
     "output_type": "execute_result"
    }
   ],
   "source": [
    "# make the vehicle_damage column 0 / 1 instead of Yes / No\n",
    "\n",
    "X_train.Vehicle_Damage.replace({'Yes':1, 'No':0}, inplace = True)\n",
    "X_test.Vehicle_Damage.replace({'Yes':1, 'No':0}, inplace = True)\n",
    "\n",
    "\n",
    "# instantiate one hot encoder\n",
    "ohe = OneHotEncoder(handle_unknown = 'ignore', sparse = False)\n",
    "\n",
    "# fit encoder & transform vehicle age; keep index & add column names\n",
    "transformed_cat_col = pd.DataFrame(\n",
    "    ohe.fit_transform(X_train[['Vehicle_Age']]),\n",
    "    columns = ohe.categories_[0],\n",
    "    index = X_train.Vehicle_Age.index)\n",
    "\n",
    "# concatenate transformed vehicle age with other features in X_train\n",
    "X_train = pd.concat([X_train.drop(['Vehicle_Age'], axis = 1),\n",
    "                     transformed_cat_col], axis = 1)\n",
    "\n",
    "# now transform X_test without fitting\n",
    "transformed_cat_col_test = pd.DataFrame(\n",
    "    ohe.transform(X_test[['Vehicle_Age']]),\n",
    "    columns = ohe.categories_[0],\n",
    "    index = X_test.Vehicle_Age.index)\n",
    "\n",
    "# concatenate transformed vehicle age with other features in X_test\n",
    "X_test = pd.concat([X_test.drop(['Vehicle_Age'], axis = 1),\n",
    "                    transformed_cat_col_test], axis = 1)\n",
    "\n",
    "# check work\n",
    "X_train.head()"
   ]
  },
  {
   "cell_type": "code",
   "execution_count": 14,
   "metadata": {},
   "outputs": [
    {
     "data": {
      "text/html": [
       "<div>\n",
       "<style scoped>\n",
       "    .dataframe tbody tr th:only-of-type {\n",
       "        vertical-align: middle;\n",
       "    }\n",
       "\n",
       "    .dataframe tbody tr th {\n",
       "        vertical-align: top;\n",
       "    }\n",
       "\n",
       "    .dataframe thead th {\n",
       "        text-align: right;\n",
       "    }\n",
       "</style>\n",
       "<table border=\"1\" class=\"dataframe\">\n",
       "  <thead>\n",
       "    <tr style=\"text-align: right;\">\n",
       "      <th></th>\n",
       "      <th>Age</th>\n",
       "      <th>Driving_License</th>\n",
       "      <th>Previously_Insured</th>\n",
       "      <th>Vehicle_Damage</th>\n",
       "      <th>channel26</th>\n",
       "      <th>channel124</th>\n",
       "      <th>1-2YR</th>\n",
       "      <th>over_2YR</th>\n",
       "      <th>under_1YR</th>\n",
       "    </tr>\n",
       "    <tr>\n",
       "      <th>id</th>\n",
       "      <th></th>\n",
       "      <th></th>\n",
       "      <th></th>\n",
       "      <th></th>\n",
       "      <th></th>\n",
       "      <th></th>\n",
       "      <th></th>\n",
       "      <th></th>\n",
       "      <th></th>\n",
       "    </tr>\n",
       "  </thead>\n",
       "  <tbody>\n",
       "    <tr>\n",
       "      <th>331220</th>\n",
       "      <td>25</td>\n",
       "      <td>1</td>\n",
       "      <td>1</td>\n",
       "      <td>0</td>\n",
       "      <td>0</td>\n",
       "      <td>0</td>\n",
       "      <td>0.0</td>\n",
       "      <td>0.0</td>\n",
       "      <td>1.0</td>\n",
       "    </tr>\n",
       "    <tr>\n",
       "      <th>147239</th>\n",
       "      <td>22</td>\n",
       "      <td>1</td>\n",
       "      <td>1</td>\n",
       "      <td>0</td>\n",
       "      <td>0</td>\n",
       "      <td>0</td>\n",
       "      <td>0.0</td>\n",
       "      <td>0.0</td>\n",
       "      <td>1.0</td>\n",
       "    </tr>\n",
       "    <tr>\n",
       "      <th>173112</th>\n",
       "      <td>42</td>\n",
       "      <td>1</td>\n",
       "      <td>0</td>\n",
       "      <td>1</td>\n",
       "      <td>0</td>\n",
       "      <td>0</td>\n",
       "      <td>1.0</td>\n",
       "      <td>0.0</td>\n",
       "      <td>0.0</td>\n",
       "    </tr>\n",
       "    <tr>\n",
       "      <th>150201</th>\n",
       "      <td>27</td>\n",
       "      <td>1</td>\n",
       "      <td>0</td>\n",
       "      <td>1</td>\n",
       "      <td>0</td>\n",
       "      <td>0</td>\n",
       "      <td>0.0</td>\n",
       "      <td>0.0</td>\n",
       "      <td>1.0</td>\n",
       "    </tr>\n",
       "    <tr>\n",
       "      <th>105933</th>\n",
       "      <td>25</td>\n",
       "      <td>1</td>\n",
       "      <td>1</td>\n",
       "      <td>0</td>\n",
       "      <td>0</td>\n",
       "      <td>0</td>\n",
       "      <td>0.0</td>\n",
       "      <td>0.0</td>\n",
       "      <td>1.0</td>\n",
       "    </tr>\n",
       "  </tbody>\n",
       "</table>\n",
       "</div>"
      ],
      "text/plain": [
       "        Age  Driving_License  Previously_Insured  Vehicle_Damage  channel26  \\\n",
       "id                                                                            \n",
       "331220   25                1                   1               0          0   \n",
       "147239   22                1                   1               0          0   \n",
       "173112   42                1                   0               1          0   \n",
       "150201   27                1                   0               1          0   \n",
       "105933   25                1                   1               0          0   \n",
       "\n",
       "        channel124  1-2YR  over_2YR  under_1YR  \n",
       "id                                              \n",
       "331220           0    0.0       0.0        1.0  \n",
       "147239           0    0.0       0.0        1.0  \n",
       "173112           0    1.0       0.0        0.0  \n",
       "150201           0    0.0       0.0        1.0  \n",
       "105933           0    0.0       0.0        1.0  "
      ]
     },
     "execution_count": 14,
     "metadata": {},
     "output_type": "execute_result"
    }
   ],
   "source": [
    "X_test.head()"
   ]
  },
  {
   "cell_type": "markdown",
   "metadata": {},
   "source": [
    "### Custom Function: Print Metrics"
   ]
  },
  {
   "cell_type": "markdown",
   "metadata": {},
   "source": [
    "So that I don't have to type this many times later, let's go ahead and build a function that takes in a model and a training and testing set, and prints the classification report for the model on each set. (We can modify this function later to focus on a specific metric, like f1 score or precision, or to output additional information, like an ROC curve or confusion matrix.)"
   ]
  },
  {
   "cell_type": "code",
   "execution_count": 15,
   "metadata": {},
   "outputs": [],
   "source": [
    "# model metric printer\n",
    "def get_metrics(model, X_train, y_train, X_test, y_test):\n",
    "    # fit the model to the training data\n",
    "    model.fit(X_train, y_train)\n",
    "    \n",
    "    # make predictions on training and test sets\n",
    "    y_train_preds = model.predict(X_train)\n",
    "    y_test_preds = model.predict(X_test)\n",
    "    \n",
    "    # print classification report for each\n",
    "    print('Metrics on Training Set:')\n",
    "    print(classification_report(y_train, y_train_preds))\n",
    "    print('Metrics on Test Set:')\n",
    "    print(classification_report(y_test, y_test_preds))"
   ]
  },
  {
   "cell_type": "markdown",
   "metadata": {},
   "source": [
    "## BL Decision Tree"
   ]
  },
  {
   "cell_type": "markdown",
   "metadata": {},
   "source": [
    "Because most of the features I chose to include are really categorical, I want to start the modeling process with a nonparametric model (decision tree) rather than a linear model like logistic regression."
   ]
  },
  {
   "cell_type": "code",
   "execution_count": 16,
   "metadata": {},
   "outputs": [
    {
     "name": "stdout",
     "output_type": "stream",
     "text": [
      "Metrics on Training Set:\n",
      "              precision    recall  f1-score   support\n",
      "\n",
      "           0       0.88      1.00      0.93    250865\n",
      "           1       0.55      0.01      0.03     34966\n",
      "\n",
      "    accuracy                           0.88    285831\n",
      "   macro avg       0.71      0.51      0.48    285831\n",
      "weighted avg       0.84      0.88      0.82    285831\n",
      "\n",
      "Metrics on Test Set:\n",
      "              precision    recall  f1-score   support\n",
      "\n",
      "           0       0.88      1.00      0.93     83534\n",
      "           1       0.50      0.01      0.03     11744\n",
      "\n",
      "    accuracy                           0.88     95278\n",
      "   macro avg       0.69      0.51      0.48     95278\n",
      "weighted avg       0.83      0.88      0.82     95278\n",
      "\n"
     ]
    }
   ],
   "source": [
    "# instantiate a decision tree classifier\n",
    "dt = DecisionTreeClassifier(random_state = seed)\n",
    "\n",
    "# examine metrics\n",
    "get_metrics(dt, X_train, y_train, X_test, y_test)"
   ]
  },
  {
   "cell_type": "markdown",
   "metadata": {},
   "source": [
    "Our baseline model has a precision of 55% and a recall of only 1% on the training data, and a precision of 50% and a recall of only 1% on the test data.\n",
    "\n",
    "I am not concerned about accuracy because of the class imbalance in the dataset - an algorithm which selects the majority class every time will have an average accuracy of 87% or 88% which is similar to that of this model, but it will be useless in terms of generating leads for the sales team.\n",
    "\n",
    "To combat this, let's apply under and oversampling to the dataset, and retrain our baseline decision tree model on that data."
   ]
  },
  {
   "cell_type": "markdown",
   "metadata": {},
   "source": [
    "## Under & Over Sampling"
   ]
  },
  {
   "cell_type": "code",
   "execution_count": 17,
   "metadata": {},
   "outputs": [],
   "source": [
    "# instantiate random under sampler and synthetic over sampler\n",
    "rus = RandomUnderSampler(sampling_strategy = 0.5, # 1 to 2 min:maj ratio\n",
    "                         random_state = seed)\n",
    "sos = SMOTE(random_state = seed) # add synth. minority samples to equalize\n",
    "\n",
    "# note: can come back and play with sampling_strategy of rus & number of\n",
    "# neighbors to consider when forming synth samples in sos\n",
    "\n",
    "# create a pipeline to undersample, then oversample\n",
    "sampling_pipe = Pipeline(steps = [\n",
    "    ('undersample', rus),\n",
    "    ('oversample', sos)\n",
    "]\n",
    "                        )\n",
    "\n",
    "# apply sampling pipeline to training data\n",
    "X_train_resampled, y_train_resampled = sampling_pipe.fit_resample(X_train,\n",
    "                                                                  y_train)"
   ]
  },
  {
   "cell_type": "code",
   "execution_count": 18,
   "metadata": {},
   "outputs": [
    {
     "data": {
      "text/html": [
       "<div>\n",
       "<style scoped>\n",
       "    .dataframe tbody tr th:only-of-type {\n",
       "        vertical-align: middle;\n",
       "    }\n",
       "\n",
       "    .dataframe tbody tr th {\n",
       "        vertical-align: top;\n",
       "    }\n",
       "\n",
       "    .dataframe thead th {\n",
       "        text-align: right;\n",
       "    }\n",
       "</style>\n",
       "<table border=\"1\" class=\"dataframe\">\n",
       "  <thead>\n",
       "    <tr style=\"text-align: right;\">\n",
       "      <th></th>\n",
       "      <th>Age</th>\n",
       "      <th>Driving_License</th>\n",
       "      <th>Previously_Insured</th>\n",
       "      <th>Vehicle_Damage</th>\n",
       "      <th>channel26</th>\n",
       "      <th>channel124</th>\n",
       "      <th>1-2YR</th>\n",
       "      <th>over_2YR</th>\n",
       "      <th>under_1YR</th>\n",
       "    </tr>\n",
       "  </thead>\n",
       "  <tbody>\n",
       "    <tr>\n",
       "      <th>0</th>\n",
       "      <td>22</td>\n",
       "      <td>1</td>\n",
       "      <td>0</td>\n",
       "      <td>0</td>\n",
       "      <td>0</td>\n",
       "      <td>0</td>\n",
       "      <td>0.0</td>\n",
       "      <td>0.0</td>\n",
       "      <td>1.0</td>\n",
       "    </tr>\n",
       "    <tr>\n",
       "      <th>1</th>\n",
       "      <td>66</td>\n",
       "      <td>1</td>\n",
       "      <td>0</td>\n",
       "      <td>1</td>\n",
       "      <td>0</td>\n",
       "      <td>0</td>\n",
       "      <td>1.0</td>\n",
       "      <td>0.0</td>\n",
       "      <td>0.0</td>\n",
       "    </tr>\n",
       "    <tr>\n",
       "      <th>2</th>\n",
       "      <td>23</td>\n",
       "      <td>1</td>\n",
       "      <td>0</td>\n",
       "      <td>0</td>\n",
       "      <td>0</td>\n",
       "      <td>0</td>\n",
       "      <td>0.0</td>\n",
       "      <td>0.0</td>\n",
       "      <td>1.0</td>\n",
       "    </tr>\n",
       "    <tr>\n",
       "      <th>3</th>\n",
       "      <td>52</td>\n",
       "      <td>1</td>\n",
       "      <td>0</td>\n",
       "      <td>1</td>\n",
       "      <td>1</td>\n",
       "      <td>0</td>\n",
       "      <td>1.0</td>\n",
       "      <td>0.0</td>\n",
       "      <td>0.0</td>\n",
       "    </tr>\n",
       "    <tr>\n",
       "      <th>4</th>\n",
       "      <td>25</td>\n",
       "      <td>1</td>\n",
       "      <td>1</td>\n",
       "      <td>0</td>\n",
       "      <td>0</td>\n",
       "      <td>0</td>\n",
       "      <td>0.0</td>\n",
       "      <td>0.0</td>\n",
       "      <td>1.0</td>\n",
       "    </tr>\n",
       "  </tbody>\n",
       "</table>\n",
       "</div>"
      ],
      "text/plain": [
       "   Age  Driving_License  Previously_Insured  Vehicle_Damage  channel26  \\\n",
       "0   22                1                   0               0          0   \n",
       "1   66                1                   0               1          0   \n",
       "2   23                1                   0               0          0   \n",
       "3   52                1                   0               1          1   \n",
       "4   25                1                   1               0          0   \n",
       "\n",
       "   channel124  1-2YR  over_2YR  under_1YR  \n",
       "0           0    0.0       0.0        1.0  \n",
       "1           0    1.0       0.0        0.0  \n",
       "2           0    0.0       0.0        1.0  \n",
       "3           0    1.0       0.0        0.0  \n",
       "4           0    0.0       0.0        1.0  "
      ]
     },
     "execution_count": 18,
     "metadata": {},
     "output_type": "execute_result"
    }
   ],
   "source": [
    "X_train_resampled.head()"
   ]
  },
  {
   "cell_type": "markdown",
   "metadata": {},
   "source": [
    "Note that indices are different after synthetic over sampling. (Of course.) This shouldn't be a problem, but it's something to be aware of as we code."
   ]
  },
  {
   "cell_type": "markdown",
   "metadata": {},
   "source": [
    "## Decision Tree, Resampled Data"
   ]
  },
  {
   "cell_type": "code",
   "execution_count": 19,
   "metadata": {},
   "outputs": [
    {
     "name": "stdout",
     "output_type": "stream",
     "text": [
      "Metrics on Training Set:\n",
      "              precision    recall  f1-score   support\n",
      "\n",
      "           0       0.91      0.66      0.76     69932\n",
      "           1       0.73      0.93      0.82     69932\n",
      "\n",
      "    accuracy                           0.80    139864\n",
      "   macro avg       0.82      0.80      0.79    139864\n",
      "weighted avg       0.82      0.80      0.79    139864\n",
      "\n",
      "Metrics on Test Set:\n",
      "              precision    recall  f1-score   support\n",
      "\n",
      "           0       0.98      0.66      0.79     83534\n",
      "           1       0.28      0.93      0.42     11744\n",
      "\n",
      "    accuracy                           0.69     95278\n",
      "   macro avg       0.63      0.79      0.61     95278\n",
      "weighted avg       0.90      0.69      0.74     95278\n",
      "\n"
     ]
    }
   ],
   "source": [
    "# no need to reinstatiate the earlier baseline decision tree; just change\n",
    "# the data being passed in as the training set\n",
    "\n",
    "# examine metrics\n",
    "get_metrics(dt, X_train_resampled, y_train_resampled, X_test, y_test)"
   ]
  },
  {
   "cell_type": "markdown",
   "metadata": {},
   "source": [
    "On the training data (resampled), our model now has a recall of 93% and a precision of 73%.\n",
    "\n",
    "These metrics, while they could theoretically be improved, would possibly be quite livable for the sales team if these were the metrics on the test set; a long run conversion rate of 73% (when only 12% of existing health insurance customers are interested in purchasing vehicle insurance) and capturing 93% of the \"market\" for vehicle insurance (within the pool of existing health insurance customers) is pretty good.\n",
    "\n",
    "On the testing data, however, the metrics are much more grim. The precision of the model falls to 28%, though our recall remains at 93%.\n",
    "\n",
    "Accuracy also decreases on the test set, suggesting that our model is overfit, but it is important to keep in mind that we are not optimizing for accuracy, so we want to proceed in a way that considers the best way to improve precision without letting recall fall too much.\n",
    "\n",
    "Using the f1 score for now as a proxy of the balance between precision and recall would be appropriate. We could also try using an f-beta score if we want to optimize for one more than the other."
   ]
  },
  {
   "cell_type": "markdown",
   "metadata": {},
   "source": [
    "Before we try to improve our tree or move on to an ensemble model, let's take a look at our current tree."
   ]
  },
  {
   "cell_type": "code",
   "execution_count": 61,
   "metadata": {},
   "outputs": [
    {
     "name": "stdout",
     "output_type": "stream",
     "text": [
      "Depth of tree: 20\n",
      "Node count: 1783\n"
     ]
    }
   ],
   "source": [
    "# tree stats\n",
    "print(f'Depth of tree: {dt.tree_.max_depth}')\n",
    "print(f'Node count: {dt.tree_.node_count}')"
   ]
  },
  {
   "cell_type": "markdown",
   "metadata": {},
   "source": [
    "No wonder our tree is overfit! That's a lot of nodes."
   ]
  },
  {
   "cell_type": "code",
   "execution_count": 63,
   "metadata": {},
   "outputs": [
    {
     "data": {
      "image/png": "[encoded data removed]",
      "text/plain": [
       "<Figure size 432x288 with 1 Axes>"
      ]
     },
     "metadata": {
      "needs_background": "light"
     },
     "output_type": "display_data"
    }
   ],
   "source": [
    "# feature importances\n",
    "feat_importances = pd.Series(dt.feature_importances_,\n",
    "                             index=X_train_resampled.columns)\n",
    "feat_importances.nlargest(5).plot(kind='barh');"
   ]
  },
  {
   "cell_type": "markdown",
   "metadata": {},
   "source": [
    "Vehicle damage is much more important than all of the other features to the splits being made in this decision tree. Perhaps building a random forest will help the model correct itself on records for which vehicle damage is misleading."
   ]
  },
  {
   "cell_type": "markdown",
   "metadata": {},
   "source": [
    "## BL Random Forest"
   ]
  },
  {
   "cell_type": "markdown",
   "metadata": {},
   "source": [
    "To hopefully improve the precision of our model, let's try building a random forest of decision trees instead of one overfit decision tree.\n",
    "\n",
    "Note - I don't think it's worth building any additional models on the original, totally imbalanced training data, so I am going to keep using the resampled training data for now. It might be beneficial to try other approaches to resampling later to try to improve our best model results further."
   ]
  },
  {
   "cell_type": "code",
   "execution_count": 20,
   "metadata": {},
   "outputs": [
    {
     "name": "stdout",
     "output_type": "stream",
     "text": [
      "Metrics on Training Set:\n",
      "              precision    recall  f1-score   support\n",
      "\n",
      "           0       0.91      0.66      0.76     69932\n",
      "           1       0.73      0.94      0.82     69932\n",
      "\n",
      "    accuracy                           0.80    139864\n",
      "   macro avg       0.82      0.80      0.79    139864\n",
      "weighted avg       0.82      0.80      0.79    139864\n",
      "\n",
      "Metrics on Test Set:\n",
      "              precision    recall  f1-score   support\n",
      "\n",
      "           0       0.98      0.66      0.79     83534\n",
      "           1       0.28      0.93      0.42     11744\n",
      "\n",
      "    accuracy                           0.69     95278\n",
      "   macro avg       0.63      0.79      0.61     95278\n",
      "weighted avg       0.90      0.69      0.74     95278\n",
      "\n"
     ]
    }
   ],
   "source": [
    "# instantiate baseline random forest classifier\n",
    "rf = RandomForestClassifier(random_state = seed)\n",
    "\n",
    "# get metrics for the model on our resampled training data & test data\n",
    "get_metrics(rf, X_train_resampled, y_train_resampled, X_test, y_test)"
   ]
  },
  {
   "cell_type": "markdown",
   "metadata": {},
   "source": [
    "There was **no change** in any of the metrics going from a single decision tree to a random forest. This is suprising and suggests to me two things:\n",
    "\n",
    "1. So far, resampling the training data has produced the biggest change in our metrics (radically increasing recall, but severely reducing precision on the test set.) Trying different methods for dealing with the imbalance in classes may be the best way to produce a model with markedly different metrics (hopefully, for the better.)\n",
    "\n",
    "\n",
    "\n",
    "2. Our model is still overfitting, so we can try tuning hyperparameters that are designed to reduce overfitting. (For example, setting the max_depth of the decision trees in our forest to a smaller number.)"
   ]
  },
  {
   "cell_type": "code",
   "execution_count": 71,
   "metadata": {},
   "outputs": [
    {
     "name": "stdout",
     "output_type": "stream",
     "text": [
      "Mean Tree Depth: 20\n",
      "Standard Deviation: 1\n"
     ]
    }
   ],
   "source": [
    "# first, inspect trees in current forest\n",
    "\n",
    "# get the max_depth for each tree stored in estimators list of\n",
    "# random forest\n",
    "tree_depths = [rf.estimators_[i].tree_.max_depth for i in\n",
    "               range(len(rf.estimators_))]\n",
    "\n",
    "# print mean and standard deviation of tree depths\n",
    "print(f'Mean Tree Depth: {int(np.mean(tree_depths))}')\n",
    "print(f'Standard Deviation: {int(np.std(tree_depths))}')"
   ]
  },
  {
   "cell_type": "markdown",
   "metadata": {},
   "source": [
    "All of our trees have pretty much the same depth as our initial decision tree.\n",
    "\n",
    "In theory, our trees are allowed to be overfit, and the fact that they are *overfit in different ways* will allow the overall forest to make a surprisingly accurate prediction due to variance in different directions canceling each other out. However, this is not happening, so let's try forcing each one of our trees to focus on fewer features (especially since we have so few features in the dataset anyway.)"
   ]
  },
  {
   "cell_type": "markdown",
   "metadata": {},
   "source": [
    "## Model Selection"
   ]
  },
  {
   "cell_type": "markdown",
   "metadata": {},
   "source": [
    "### print fbeta function"
   ]
  },
  {
   "cell_type": "markdown",
   "metadata": {},
   "source": [
    "First, let's define a function to get the $F\\beta$ score for a model, to help us balance the tradeoff between precision and recall with a slight bias towards recall ($\\beta > 1$.)"
   ]
  },
  {
   "cell_type": "code",
   "execution_count": 80,
   "metadata": {},
   "outputs": [],
   "source": [
    "# get f beta score for a model on training and test set\n",
    "def get_fbeta(model, X_train, y_train, X_test, y_test):\n",
    "    # fit the model to the training data\n",
    "    model.fit(X_train, y_train)\n",
    "    \n",
    "    # make predictions on training and test sets\n",
    "    y_train_preds = model.predict(X_train)\n",
    "    y_test_preds = model.predict(X_test)\n",
    "    \n",
    "    # print classification report for each\n",
    "    print('F Beta Score on Training Set, B = 1.2:')\n",
    "    print(fbeta_score(y_train, y_train_preds, beta = 1.2))\n",
    "    print('F Beta Score on Test Set, B = 1.2:')\n",
    "    print(fbeta_score(y_test, y_test_preds, beta = 1.2))"
   ]
  },
  {
   "cell_type": "markdown",
   "metadata": {},
   "source": [
    "### Tune max_depth"
   ]
  },
  {
   "cell_type": "markdown",
   "metadata": {},
   "source": [
    "Because we used SMOTE to oversample our training data, it is inadvisable to use cross validation to determine the best model (since this would be using synthetic samples in the test set.)\n",
    "\n",
    "Therefore, I am going to skip grid search cv and write my own code to test out the effect of different values for max_depth on the fbeta score of my random forest on the test set."
   ]
  },
  {
   "cell_type": "code",
   "execution_count": 83,
   "metadata": {},
   "outputs": [
    {
     "name": "stdout",
     "output_type": "stream",
     "text": [
      "F Beta Score on Training Set, B = 1.2:\n",
      "0.843856941691073\n",
      "F Beta Score on Test Set, B = 1.2:\n",
      "0.4479614400198715\n",
      "\n",
      "\n",
      "\n",
      "F Beta Score on Training Set, B = 1.2:\n",
      "0.8307875267429214\n",
      "F Beta Score on Test Set, B = 1.2:\n",
      "0.47570894525644936\n",
      "\n",
      "\n",
      "\n",
      "F Beta Score on Training Set, B = 1.2:\n",
      "0.8439858474924729\n",
      "F Beta Score on Test Set, B = 1.2:\n",
      "0.46575841872382456\n",
      "\n",
      "\n",
      "\n",
      "F Beta Score on Training Set, B = 1.2:\n",
      "0.8396264891094712\n",
      "F Beta Score on Test Set, B = 1.2:\n",
      "0.4705367004328845\n",
      "\n",
      "\n",
      "\n"
     ]
    }
   ],
   "source": [
    "# max_depths to try\n",
    "max_depths = [1, 5, 9, 15] # original has no limit, so no need for > 20\n",
    "\n",
    "for max_depth in max_depths:\n",
    "    # instantiate a random forest with the given max_depth\n",
    "    rf_md_tuned = RandomForestClassifier(max_depth = max_depth,\n",
    "                                         random_state = seed)\n",
    "    \n",
    "    # get & print the f beta score for each model\n",
    "    get_fbeta(rf_md_tuned,\n",
    "                X_train_resampled,\n",
    "                y_train_resampled,\n",
    "                X_test,\n",
    "                y_test)\n",
    "    \n",
    "    # print some vertical space to separate results visually\n",
    "    print('\\n\\n')"
   ]
  },
  {
   "cell_type": "markdown",
   "metadata": {},
   "source": [
    "The random forest with `max_depth` = 5 had the best $F\\beta$ score on the test set, but unfortunately, it's still not a very good score."
   ]
  },
  {
   "cell_type": "markdown",
   "metadata": {},
   "source": [
    "### Adjust Sampling Strategy"
   ]
  },
  {
   "cell_type": "markdown",
   "metadata": {},
   "source": [
    "I am going to try other ways of dealing with the class imbalance since that has had the biggest effect on model performance so far.\n",
    "\n",
    "One thing we can try is changing the ratio of the minority to the majority class in the random under sampler we use before applying SMOTE."
   ]
  },
  {
   "cell_type": "code",
   "execution_count": 84,
   "metadata": {},
   "outputs": [
    {
     "name": "stdout",
     "output_type": "stream",
     "text": [
      "F Beta Score on Training Set, B = 1.2:\n",
      "0.8352731221192915\n",
      "F Beta Score on Test Set, B = 1.2:\n",
      "0.4745350081356755\n",
      "\n",
      "\n",
      "\n",
      "F Beta Score on Training Set, B = 1.2:\n",
      "0.8397570991351169\n",
      "F Beta Score on Test Set, B = 1.2:\n",
      "0.4704935675425707\n",
      "\n",
      "\n",
      "\n",
      "F Beta Score on Training Set, B = 1.2:\n",
      "0.8423038621225742\n",
      "F Beta Score on Test Set, B = 1.2:\n",
      "0.4670814624224776\n",
      "\n",
      "\n",
      "\n",
      "F Beta Score on Training Set, B = 1.2:\n",
      "0.839318371369443\n",
      "F Beta Score on Test Set, B = 1.2:\n",
      "0.4704573412775697\n",
      "\n",
      "\n",
      "\n",
      "F Beta Score on Training Set, B = 1.2:\n",
      "0.8372021654189389\n",
      "F Beta Score on Test Set, B = 1.2:\n",
      "0.4716493720021845\n",
      "\n",
      "\n",
      "\n",
      "F Beta Score on Training Set, B = 1.2:\n",
      "0.8425527528909414\n",
      "F Beta Score on Test Set, B = 1.2:\n",
      "0.46605264269719887\n",
      "\n",
      "\n",
      "\n",
      "F Beta Score on Training Set, B = 1.2:\n",
      "0.8385231733725563\n",
      "F Beta Score on Test Set, B = 1.2:\n",
      "0.47001187417201185\n",
      "\n",
      "\n",
      "\n",
      "F Beta Score on Training Set, B = 1.2:\n",
      "0.8383212998238693\n",
      "F Beta Score on Test Set, B = 1.2:\n",
      "0.4698547100509345\n",
      "\n",
      "\n",
      "\n",
      "F Beta Score on Training Set, B = 1.2:\n",
      "0.8414141274811371\n",
      "F Beta Score on Test Set, B = 1.2:\n",
      "0.4664408935395006\n",
      "\n",
      "\n",
      "\n"
     ]
    }
   ],
   "source": [
    "# make a list of sampling strategies to try for the random under sampler\n",
    "sampling_strategies = np.linspace(0.2, 1, 9)\n",
    "\n",
    "for sampling_strategy in sampling_strategies:\n",
    "\n",
    "    # instantiate random under sampler and synthetic over sampler\n",
    "    rus = RandomUnderSampler(sampling_strategy = sampling_strategy,\n",
    "                             random_state = seed)\n",
    "    sos = SMOTE(random_state = seed)\n",
    "\n",
    "    # create a pipeline to undersample, then oversample\n",
    "    sampling_pipe = Pipeline(steps = [\n",
    "        ('undersample', rus),\n",
    "        ('oversample', sos)\n",
    "    ]\n",
    "                        )\n",
    "\n",
    "    # apply sampling pipeline to training data\n",
    "    X_train_re_resampled, y_train_re_resampled = sampling_pipe.\\\n",
    "    fit_resample(X_train, y_train)\n",
    "    \n",
    "    # get f beta score for baseline random forest with new training data\n",
    "    get_fbeta(rf,\n",
    "              X_train_re_resampled,\n",
    "              y_train_re_resampled,\n",
    "              X_test,\n",
    "              y_test)\n",
    "    \n",
    "    # print a couple of spaces between metrics\n",
    "    print('\\n\\n')"
   ]
  },
  {
   "cell_type": "markdown",
   "metadata": {},
   "source": [
    "Changing the random undersampling strategy didn't change much."
   ]
  },
  {
   "cell_type": "markdown",
   "metadata": {},
   "source": [
    "### Tune max_samples & class_weight"
   ]
  },
  {
   "cell_type": "markdown",
   "metadata": {},
   "source": [
    "Let's try using the *entire* training set, and just using balanced class weights on each subsample selected by the random forest. In fact, I'm also going to tune the `max_samples` parameter to try selecting smaller subsets of the overall dataset to try to work out the imbalance naturally. With grid search, we can try different combinations of class weight strategy and number of samples drawn."
   ]
  },
  {
   "cell_type": "code",
   "execution_count": 99,
   "metadata": {},
   "outputs": [
    {
     "name": "stdout",
     "output_type": "stream",
     "text": [
      "Best estimator: RandomForestClassifier(class_weight='balanced_subsample', max_samples=0.05,\n",
      "                       random_state=982)\n",
      "Best f1 score: 0.4298244521427047\n"
     ]
    }
   ],
   "source": [
    "# create a parameter grid\n",
    "param_grid = [\n",
    "    {'max_samples': [0.05, 0.10, 0.30, 0.50], # try smaller samples, and\n",
    "     # balance using distribution of sample, or not at all\n",
    "     'class_weight': ['balanced_subsample', None]},\n",
    "    # try smaller sample or whole data set, and balance by distribution of\n",
    "    # whole data set or individual samples\n",
    "    {'max_samples': [0.12, 0.5, 1],\n",
    "     'class_weight': ['balanced', 'balanced_subsample']}\n",
    "]\n",
    "\n",
    "# this is going to build 8 + 6, so 14 models\n",
    "\n",
    "# create a grid search cv object\n",
    "# use f1 score to order results\n",
    "search = GridSearchCV(rf, param_grid, scoring = 'f1')\n",
    "\n",
    "# fit to ALL training data\n",
    "search.fit(X_train, y_train)\n",
    "\n",
    "# view best estimator and score\n",
    "print(f'Best estimator: {search.best_estimator_}')\n",
    "print(f'Best f1 score: {search.best_score_}')"
   ]
  },
  {
   "cell_type": "markdown",
   "metadata": {},
   "source": [
    "The best F1 score is still terrible!\n",
    "\n",
    "Is this the best I can do on this dataset for now?"
   ]
  },
  {
   "cell_type": "markdown",
   "metadata": {},
   "source": [
    "### Undersample Only"
   ]
  },
  {
   "cell_type": "markdown",
   "metadata": {},
   "source": [
    "One last thing that occurs to me is to try adjusting the sampling strategy gradually and seeing if we can pinpoint a better balance between precision and recall.\n",
    "\n",
    "Sampling the training data so that we had an equal number of records for positive and negative classes reduced the precision and increased the recall dramatically.\n",
    "\n",
    "What if we try undersampling so that the (natural) class weights are gradually less and less imbalanced, looking at the F1 scores, recall and precision scores along the way?"
   ]
  },
  {
   "cell_type": "markdown",
   "metadata": {},
   "source": [
    "In the original dataset, the ratio of the minority class to the majority class is somewhere between 0.1 and 0.2. So let's try random under sampling with ratios of minority to majority between 0.2 and 1."
   ]
  },
  {
   "cell_type": "code",
   "execution_count": 114,
   "metadata": {},
   "outputs": [
    {
     "data": {
      "image/png": "[encoded data removed]",
      "text/plain": [
       "<Figure size 432x288 with 1 Axes>"
      ]
     },
     "metadata": {
      "needs_background": "light"
     },
     "output_type": "display_data"
    }
   ],
   "source": [
    "# try different ratios of minority to majority class with under-sampling\n",
    "# start with 2:10, try up to 1:1\n",
    "sampling_strategies = np.linspace(0.2, 1, 9)\n",
    "\n",
    "# plot precision and recall vs. sampling_strategy\n",
    "precisions = []\n",
    "recalls = []\n",
    "\n",
    "# iterate over sampling strategies\n",
    "for sampling_strategy in sampling_strategies:\n",
    "    \n",
    "    # instantiate a random under sampler with current sampling strategy\n",
    "    rus_only = RandomUnderSampler(sampling_strategy = sampling_strategy,\n",
    "                                  random_state = seed)\n",
    "    \n",
    "    # fit undersampler to training data, and resample training data\n",
    "    X_train_undersampled, y_train_undersampled = rus_only.fit_resample(\n",
    "        X_train,\n",
    "        y_train\n",
    "    )\n",
    "    \n",
    "    # fit random forest to undersampled training data\n",
    "    rf.fit(X_train_undersampled, y_train_undersampled)\n",
    "    \n",
    "    # make predictions on test set\n",
    "    y_test_preds = rf.predict(X_test)\n",
    "    \n",
    "    # record precision and recall for this model\n",
    "    precisions.append(precision_score(y_test, y_test_preds))\n",
    "    recalls.append(recall_score(y_test, y_test_preds))\n",
    "\n",
    "# plot precision and recall vs sampling strategy\n",
    "fig, ax = plt.subplots()\n",
    "\n",
    "sns.lineplot(x = sampling_strategies, y = precisions, label = 'Precision')\n",
    "sns.lineplot(x = sampling_strategies, y = recalls, label = 'Recall')\n",
    "ax.legend();"
   ]
  },
  {
   "cell_type": "markdown",
   "metadata": {},
   "source": [
    "So the furthest points to the *left* are pretty close to where we started: low recall, about 50% precision.\n",
    "\n",
    "Recall climbs more quickly than precision falls, but unfortunately, precision starts pretty low."
   ]
  },
  {
   "cell_type": "markdown",
   "metadata": {},
   "source": [
    "## XGBoost Classifier"
   ]
  },
  {
   "cell_type": "markdown",
   "metadata": {},
   "source": [
    "My results with a random forest classifier have not been good enough to generate useful leads for the company. Let's try a boosted version of random forest, XGBoost Classifier, and see if it can get better results.\n",
    "\n",
    "I'm trying XGBoost because it has done so well on so many different kinds of classification problems, so hopefully, it will do well on this one."
   ]
  },
  {
   "cell_type": "code",
   "execution_count": 140,
   "metadata": {},
   "outputs": [
    {
     "name": "stdout",
     "output_type": "stream",
     "text": [
      "No. of observations in training data: 69932\n",
      "\n",
      "Metrics on Training Set:\n",
      "              precision    recall  f1-score   support\n",
      "\n",
      "           0       0.92      0.64      0.76     34966\n",
      "           1       0.73      0.95      0.82     34966\n",
      "\n",
      "    accuracy                           0.79     69932\n",
      "   macro avg       0.82      0.79      0.79     69932\n",
      "weighted avg       0.82      0.79      0.79     69932\n",
      "\n",
      "Metrics on Test Set:\n",
      "              precision    recall  f1-score   support\n",
      "\n",
      "           0       0.99      0.64      0.78     83534\n",
      "           1       0.27      0.94      0.42     11744\n",
      "\n",
      "    accuracy                           0.68     95278\n",
      "   macro avg       0.63      0.79      0.60     95278\n",
      "weighted avg       0.90      0.68      0.74     95278\n",
      "\n"
     ]
    }
   ],
   "source": [
    "# use undersample of original training data with 1:1 minority/major ratio\n",
    "rus = RandomUnderSampler(random_state = seed)\n",
    "X_under, y_under = rus.fit_resample(X_train, y_train)\n",
    "print(f'No. of observations in training data: {X_under.shape[0]}\\n')\n",
    "\n",
    "# instantiate a baseline XGBoost Classifier\n",
    "xgb = XGBClassifier(random_state = seed)\n",
    "\n",
    "# get metrics for baseline XGBClassifier on undersampled training data\n",
    "get_metrics(xgb,\n",
    "            X_under,\n",
    "            y_under,\n",
    "            X_test,\n",
    "            y_test)"
   ]
  },
  {
   "cell_type": "markdown",
   "metadata": {},
   "source": [
    "Adjust sampling_strategy (of the random under sampler), just in case it makes a difference."
   ]
  },
  {
   "cell_type": "code",
   "execution_count": 141,
   "metadata": {},
   "outputs": [
    {
     "data": {
      "image/png": "[encoded data removed]",
      "text/plain": [
       "<Figure size 432x288 with 1 Axes>"
      ]
     },
     "metadata": {
      "needs_background": "light"
     },
     "output_type": "display_data"
    }
   ],
   "source": [
    "# record precision & recall with each sampling_strategy\n",
    "precisions = []\n",
    "recalls = []\n",
    "\n",
    "for sampling_strategy in [0.2, 0.3, 0.4, 0.5, 0.75, 1]:\n",
    "    # use undersample of original training data with 1:1 minority:major\n",
    "    rus = RandomUnderSampler(sampling_strategy = sampling_strategy,\n",
    "                             random_state = seed)\n",
    "    X_under, y_under = rus.fit_resample(X_train, y_train)\n",
    "\n",
    "    # fit xgb to data\n",
    "    xgb.fit(X_under, y_under)\n",
    "    \n",
    "    # predict on test set & get precision & recall\n",
    "    y_test_preds = xgb.predict(X_test)\n",
    "    precisions.append(precision_score(y_test, y_test_preds))\n",
    "    recalls.append(recall_score(y_test, y_test_preds))\n",
    "    \n",
    "# plot precision & recall w.r.t. sampling strategy min: max ratio\n",
    "fig, ax = plt.subplots()\n",
    "\n",
    "# precision as a function of sampling strategy\n",
    "sns.lineplot(x = [0.2, 0.3, 0.4, 0.5, 0.75, 1], y = precisions,\n",
    "             label = 'Precision')\n",
    "\n",
    "# recall as a function of sampling strategy\n",
    "sns.lineplot(x = [0.2, 0.3, 0.4, 0.5, 0.75, 1], y = recalls,\n",
    "             label = 'Recall')\n",
    "ax.legend();"
   ]
  },
  {
   "cell_type": "markdown",
   "metadata": {},
   "source": [
    "## Conclusion"
   ]
  },
  {
   "cell_type": "markdown",
   "metadata": {},
   "source": [
    "We may just not have the right data to generate precise predictions for which of our health insurance customers is interested in purchasing vehicle insurance with the company.\n",
    "\n",
    "Our best model had a precision of less than 30% on the test set, and a recall a little above 90%.\n",
    "\n",
    "To translate this into business terms, using only this model to generate leads, the sales team would have an average conversion rate of 30% (in the long run, perhaps for the month or for the quarter) and, if they had time to contact *every* lead suggested by the model, they would capture about 90% of the market for vehicle insurance among our health insurance customers.\n",
    "\n",
    "However, the pool of our health insurance customers is so big, and the precision is so low, that I doubt our sales team would have time to contact every lead generated by the model, so our true recall in practice would probably be lower."
   ]
  },
  {
   "cell_type": "markdown",
   "metadata": {},
   "source": [
    "## Next Steps"
   ]
  },
  {
   "cell_type": "markdown",
   "metadata": {},
   "source": [
    "- Dashboard, to view...\n",
    "    - vehicle insurance sales data by region\n",
    "    - vehicle insurance sales data by policy sales channel\n",
    "    - leads, ranked by probability (using logistic regression)\n",
    "    - sales, inverse-weighted by size, by region\n",
    "- Collect more data that might help improve the model"
   ]
  },
  {
   "cell_type": "code",
   "execution_count": null,
   "metadata": {},
   "outputs": [],
   "source": []
  }
 ],
 "metadata": {
  "kernelspec": {
   "display_name": "Python (learn-env)",
   "language": "python",
   "name": "learn-env"
  },
  "language_info": {
   "codemirror_mode": {
    "name": "ipython",
    "version": 3
   },
   "file_extension": ".py",
   "mimetype": "text/x-python",
   "name": "python",
   "nbconvert_exporter": "python",
   "pygments_lexer": "ipython3",
   "version": "3.8.5"
  },
  "toc": {
   "base_numbering": 1,
   "nav_menu": {},
   "number_sections": true,
   "sideBar": true,
   "skip_h1_title": true,
   "title_cell": "Table of Contents",
   "title_sidebar": "Contents",
   "toc_cell": false,
   "toc_position": {
    "height": "calc(100% - 180px)",
    "left": "10px",
    "top": "150px",
    "width": "201.599px"
   },
   "toc_section_display": true,
   "toc_window_display": true
  }
 },
 "nbformat": 4,
 "nbformat_minor": 4
}
